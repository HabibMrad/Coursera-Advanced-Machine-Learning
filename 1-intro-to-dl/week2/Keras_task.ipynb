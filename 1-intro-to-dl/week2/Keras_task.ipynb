{
  "nbformat": 4,
  "nbformat_minor": 0,
  "metadata": {
    "colab": {
      "name": "Keras-task.ipynb",
      "version": "0.3.2",
      "provenance": []
    },
    "kernelspec": {
      "name": "python3",
      "display_name": "Python 3"
    },
    "accelerator": "GPU"
  },
  "cells": [
    {
      "metadata": {
        "id": "kdKT8nGb_5rA",
        "colab_type": "text"
      },
      "cell_type": "markdown",
      "source": [
        "# Getting deeper with Keras\n",
        "* Tensorflow is a powerful and flexible tool, but coding large neural architectures with it is tedious.\n",
        "* There are plenty of deep learning toolkits that work on top of it like Slim, TFLearn, Sonnet, Keras.\n",
        "* Choice is matter of taste and particular task\n",
        "* We'll be using Keras"
      ]
    },
    {
      "metadata": {
        "id": "7rdNDK3iAAlC",
        "colab_type": "code",
        "colab": {
          "base_uri": "https://localhost:8080/",
          "height": 323
        },
        "outputId": "ea16d595-9749-4e0e-d4ff-37bd9fdaab7c"
      },
      "cell_type": "code",
      "source": [
        "! shred -u setup_google_colab.py\n",
        "! wget https://raw.githubusercontent.com/hse-aml/intro-to-dl/master/setup_google_colab.py -O setup_google_colab.py\n",
        "import setup_google_colab\n",
        "# please, uncomment the week you're working on\n",
        "# setup_google_colab.setup_week1()\n",
        "setup_google_colab.setup_week2()\n",
        "# setup_google_colab.setup_week3()\n",
        "# setup_google_colab.setup_week4()\n",
        "# setup_google_colab.setup_week5()\n",
        "# setup_google_colab.setup_week6()\n",
        "\n",
        "# If you're using the old version of the course (check a path of notebook on Coursera, you'll see v1 or v2),\n",
        "# use setup_week2_old()."
      ],
      "execution_count": 1,
      "outputs": [
        {
          "output_type": "stream",
          "text": [
            "shred: setup_google_colab.py: failed to open for writing: No such file or directory\n",
            "--2019-03-09 15:09:43--  https://raw.githubusercontent.com/hse-aml/intro-to-dl/master/setup_google_colab.py\n",
            "Resolving raw.githubusercontent.com (raw.githubusercontent.com)... 151.101.0.133, 151.101.64.133, 151.101.128.133, ...\n",
            "Connecting to raw.githubusercontent.com (raw.githubusercontent.com)|151.101.0.133|:443... connected.\n",
            "HTTP request sent, awaiting response... 200 OK\n",
            "Length: 3792 (3.7K) [text/plain]\n",
            "Saving to: ‘setup_google_colab.py’\n",
            "\n",
            "setup_google_colab. 100%[===================>]   3.70K  --.-KB/s    in 0s      \n",
            "\n",
            "2019-03-09 15:09:48 (58.4 MB/s) - ‘setup_google_colab.py’ saved [3792/3792]\n",
            "\n",
            "**************************************************\n",
            "inception_v3_weights_tf_dim_ordering_tf_kernels_notop.h5\n",
            "**************************************************\n",
            "cifar-10-batches-py.tar.gz\n",
            "**************************************************\n",
            "mnist.npz\n"
          ],
          "name": "stdout"
        }
      ]
    },
    {
      "metadata": {
        "id": "Wov4Ihph_5rD",
        "colab_type": "code",
        "colab": {}
      },
      "cell_type": "code",
      "source": [
        "import sys\n",
        "sys.path.append(\"..\")\n",
        "import grading"
      ],
      "execution_count": 0,
      "outputs": []
    },
    {
      "metadata": {
        "id": "Lk5Lj_2v_5rK",
        "colab_type": "code",
        "colab": {}
      },
      "cell_type": "code",
      "source": [
        "# use preloaded keras datasets and models\n",
        "! mkdir -p ~/.keras/datasets\n",
        "! mkdir -p ~/.keras/models\n",
        "! ln -s $(realpath ../readonly/keras/datasets/*) ~/.keras/datasets/\n",
        "! ln -s $(realpath ../readonly/keras/models/*) ~/.keras/models/"
      ],
      "execution_count": 0,
      "outputs": []
    },
    {
      "metadata": {
        "id": "H_LXf7pm_5rN",
        "colab_type": "code",
        "colab": {
          "base_uri": "https://localhost:8080/",
          "height": 34
        },
        "outputId": "9ab6263c-dafe-4dda-b707-54f0ea69ba3d"
      },
      "cell_type": "code",
      "source": [
        "import numpy as np\n",
        "from preprocessed_mnist import load_dataset\n",
        "import keras\n",
        "X_train, y_train, X_val, y_val, X_test, y_test = load_dataset()\n",
        "y_train,y_val,y_test = map(keras.utils.np_utils.to_categorical,[y_train,y_val,y_test])"
      ],
      "execution_count": 4,
      "outputs": [
        {
          "output_type": "stream",
          "text": [
            "Using TensorFlow backend.\n"
          ],
          "name": "stderr"
        }
      ]
    },
    {
      "metadata": {
        "scrolled": true,
        "id": "FvYhRGR6_5rY",
        "colab_type": "code",
        "colab": {
          "base_uri": "https://localhost:8080/",
          "height": 265
        },
        "outputId": "d737efe8-d3f3-45fe-aa6c-e00f99293cad"
      },
      "cell_type": "code",
      "source": [
        "import matplotlib.pyplot as plt\n",
        "%matplotlib inline\n",
        "plt.imshow(X_train[0]);"
      ],
      "execution_count": 5,
      "outputs": [
        {
          "output_type": "display_data",
          "data": {
            "image/png": "[encoded data removed]",
            "text/plain": [
              "<Figure size 432x288 with 1 Axes>"
            ]
          },
          "metadata": {
            "tags": []
          }
        }
      ]
    },
    {
      "metadata": {
        "id": "Wcsxcf7p_5rc",
        "colab_type": "text"
      },
      "cell_type": "markdown",
      "source": [
        "## The pretty keras"
      ]
    },
    {
      "metadata": {
        "id": "L29GCCN6_5rd",
        "colab_type": "code",
        "colab": {}
      },
      "cell_type": "code",
      "source": [
        "import tensorflow as tf\n",
        "from keras_utils import reset_tf_session\n",
        "s = reset_tf_session()"
      ],
      "execution_count": 0,
      "outputs": []
    },
    {
      "metadata": {
        "id": "G2moglOv_5rg",
        "colab_type": "code",
        "colab": {
          "base_uri": "https://localhost:8080/",
          "height": 190
        },
        "outputId": "5da3c37d-209e-455a-af77-b7ee059636cf"
      },
      "cell_type": "code",
      "source": [
        "import keras\n",
        "from keras.models import Sequential\n",
        "import keras.layers as ll\n",
        "\n",
        "model = Sequential(name=\"mlp\")\n",
        "\n",
        "model.add(ll.InputLayer([28, 28]))\n",
        "\n",
        "model.add(ll.Flatten())\n",
        "\n",
        "# network body\n",
        "model.add(ll.Dense(25))\n",
        "model.add(ll.Activation('linear'))\n",
        "\n",
        "model.add(ll.Dense(25))\n",
        "model.add(ll.Activation('linear'))\n",
        "\n",
        "# output layer: 10 neurons for each class with softmax\n",
        "model.add(ll.Dense(10, activation='softmax'))\n",
        "\n",
        "# categorical_crossentropy is your good old crossentropy\n",
        "# but applied for one-hot-encoded vectors\n",
        "model.compile(\"adam\", \"categorical_crossentropy\", metrics=[\"accuracy\"])"
      ],
      "execution_count": 7,
      "outputs": [
        {
          "output_type": "stream",
          "text": [
            "WARNING:tensorflow:From /usr/local/lib/python3.6/dist-packages/keras/backend/tensorflow_backend.py:1210: calling reduce_prod_v1 (from tensorflow.python.ops.math_ops) with keep_dims is deprecated and will be removed in a future version.\n",
            "Instructions for updating:\n",
            "keep_dims is deprecated, use keepdims instead\n",
            "WARNING:tensorflow:From /usr/local/lib/python3.6/dist-packages/tensorflow/python/framework/op_def_library.py:263: colocate_with (from tensorflow.python.framework.ops) is deprecated and will be removed in a future version.\n",
            "Instructions for updating:\n",
            "Colocations handled automatically by placer.\n",
            "WARNING:tensorflow:From /usr/local/lib/python3.6/dist-packages/keras/backend/tensorflow_backend.py:2745: calling reduce_sum_v1 (from tensorflow.python.ops.math_ops) with keep_dims is deprecated and will be removed in a future version.\n",
            "Instructions for updating:\n",
            "keep_dims is deprecated, use keepdims instead\n"
          ],
          "name": "stdout"
        }
      ]
    },
    {
      "metadata": {
        "id": "HwcuDoST_5ri",
        "colab_type": "code",
        "colab": {
          "base_uri": "https://localhost:8080/",
          "height": 374
        },
        "outputId": "ca92a8c0-340e-48b9-a0af-49d218f6aefc"
      },
      "cell_type": "code",
      "source": [
        "model.summary()"
      ],
      "execution_count": 8,
      "outputs": [
        {
          "output_type": "stream",
          "text": [
            "_________________________________________________________________\n",
            "Layer (type)                 Output Shape              Param #   \n",
            "=================================================================\n",
            "input_1 (InputLayer)         (None, 28, 28)            0         \n",
            "_________________________________________________________________\n",
            "flatten_1 (Flatten)          (None, 784)               0         \n",
            "_________________________________________________________________\n",
            "dense_1 (Dense)              (None, 25)                19625     \n",
            "_________________________________________________________________\n",
            "activation_1 (Activation)    (None, 25)                0         \n",
            "_________________________________________________________________\n",
            "dense_2 (Dense)              (None, 25)                650       \n",
            "_________________________________________________________________\n",
            "activation_2 (Activation)    (None, 25)                0         \n",
            "_________________________________________________________________\n",
            "dense_3 (Dense)              (None, 10)                260       \n",
            "=================================================================\n",
            "Total params: 20,535\n",
            "Trainable params: 20,535\n",
            "Non-trainable params: 0\n",
            "_________________________________________________________________\n"
          ],
          "name": "stdout"
        }
      ]
    },
    {
      "metadata": {
        "id": "_e5Oe5SE_5rn",
        "colab_type": "text"
      },
      "cell_type": "markdown",
      "source": [
        "### Model interface\n",
        "\n",
        "Keras models follow __Scikit-learn__'s interface of fit/predict with some notable extensions. Let's take a tour."
      ]
    },
    {
      "metadata": {
        "id": "NUFEmGja_5ro",
        "colab_type": "code",
        "colab": {
          "base_uri": "https://localhost:8080/",
          "height": 275
        },
        "outputId": "6d9b0f07-7b67-4034-e099-70f1664e863a"
      },
      "cell_type": "code",
      "source": [
        "# fit(X,y) ships with a neat automatic logging.\n",
        "#          Highly customizable under the hood.\n",
        "model.fit(X_train, y_train,\n",
        "          validation_data=(X_val, y_val), epochs=5);"
      ],
      "execution_count": 9,
      "outputs": [
        {
          "output_type": "stream",
          "text": [
            "WARNING:tensorflow:From /usr/local/lib/python3.6/dist-packages/tensorflow/python/ops/math_ops.py:3066: to_int32 (from tensorflow.python.ops.math_ops) is deprecated and will be removed in a future version.\n",
            "Instructions for updating:\n",
            "Use tf.cast instead.\n",
            "Train on 50000 samples, validate on 10000 samples\n",
            "Epoch 1/5\n",
            "50000/50000 [==============================] - 9s - loss: 0.4118 - acc: 0.8827 - val_loss: 0.2877 - val_acc: 0.9205\n",
            "Epoch 2/5\n",
            "50000/50000 [==============================] - 9s - loss: 0.3009 - acc: 0.9155 - val_loss: 0.2835 - val_acc: 0.9235\n",
            "Epoch 3/5\n",
            "50000/50000 [==============================] - 9s - loss: 0.2881 - acc: 0.9187 - val_loss: 0.2631 - val_acc: 0.9281\n",
            "Epoch 4/5\n",
            "50000/50000 [==============================] - 9s - loss: 0.2812 - acc: 0.9213 - val_loss: 0.2663 - val_acc: 0.9269\n",
            "Epoch 5/5\n",
            "50000/50000 [==============================] - 8s - loss: 0.2758 - acc: 0.9224 - val_loss: 0.2744 - val_acc: 0.9264\n"
          ],
          "name": "stdout"
        }
      ]
    },
    {
      "metadata": {
        "id": "Y4RZwYLo_5rt",
        "colab_type": "code",
        "colab": {
          "base_uri": "https://localhost:8080/",
          "height": 136
        },
        "outputId": "d0fda5df-4e90-49eb-b753-d633253d4f14"
      },
      "cell_type": "code",
      "source": [
        "# estimate probabilities P(y|x)\n",
        "model.predict_proba(X_val[:2])"
      ],
      "execution_count": 10,
      "outputs": [
        {
          "output_type": "stream",
          "text": [
            "\r2/2 [==============================] - 0s\n"
          ],
          "name": "stdout"
        },
        {
          "output_type": "execute_result",
          "data": {
            "text/plain": [
              "array([[1.30177723e-05, 2.76579382e-03, 2.01703757e-02, 9.56091344e-01,\n",
              "        3.94376912e-06, 2.14438769e-03, 1.23203077e-04, 5.48861046e-09,\n",
              "        1.86870191e-02, 9.27737290e-07],\n",
              "       [2.00102272e-06, 2.05948145e-05, 4.65216534e-03, 1.47606563e-02,\n",
              "        1.93674921e-03, 4.51366277e-03, 5.15895135e-06, 3.91968115e-06,\n",
              "        9.73996699e-01, 1.08294575e-04]], dtype=float32)"
            ]
          },
          "metadata": {
            "tags": []
          },
          "execution_count": 10
        }
      ]
    },
    {
      "metadata": {
        "id": "_uPw1aSf_5rw",
        "colab_type": "code",
        "colab": {}
      },
      "cell_type": "code",
      "source": [
        "# Save trained weights\n",
        "model.save(\"weights.h5\")"
      ],
      "execution_count": 0,
      "outputs": []
    },
    {
      "metadata": {
        "id": "y1D2YGIw_5ry",
        "colab_type": "code",
        "colab": {
          "base_uri": "https://localhost:8080/",
          "height": 51
        },
        "outputId": "7f7f86c0-a0cd-45d6-bbd2-37c3a60b8554"
      },
      "cell_type": "code",
      "source": [
        "print(\"\\nLoss, Accuracy = \", model.evaluate(X_test, y_test))"
      ],
      "execution_count": 12,
      "outputs": [
        {
          "output_type": "stream",
          "text": [
            " 9888/10000 [============================>.] - ETA: 0s\n",
            "Loss, Accuracy =  [0.29511862338185313, 0.9196]\n"
          ],
          "name": "stdout"
        }
      ]
    },
    {
      "metadata": {
        "id": "0ONtlraE_5r2",
        "colab_type": "text"
      },
      "cell_type": "markdown",
      "source": [
        "### Whoops!\n",
        "So far, our model is staggeringly inefficient. There is something wrong with it. Guess, what?"
      ]
    },
    {
      "metadata": {
        "id": "g08HN3Cf_5r3",
        "colab_type": "code",
        "colab": {
          "base_uri": "https://localhost:8080/",
          "height": 266
        },
        "outputId": "c2046890-5c85-4007-fe09-7985b12990e1"
      },
      "cell_type": "code",
      "source": [
        "# Test score...\n",
        "test_predictions = model.predict_proba(X_test).argmax(axis=-1)\n",
        "test_answers = y_test.argmax(axis=-1)\n",
        "\n",
        "test_accuracy = np.mean(test_predictions==test_answers)\n",
        "\n",
        "print(\"\\nTest accuracy: {} %\".format(test_accuracy*100))\n",
        "\n",
        "assert test_accuracy>=0.92,\"Logistic regression can do better!\"\n",
        "assert test_accuracy>=0.975,\"Your network can do better!\"\n",
        "print(\"Great job!\")"
      ],
      "execution_count": 13,
      "outputs": [
        {
          "output_type": "stream",
          "text": [
            " 9728/10000 [============================>.] - ETA: 0s\n",
            "Test accuracy: 91.96 %\n"
          ],
          "name": "stdout"
        },
        {
          "output_type": "error",
          "ename": "AssertionError",
          "evalue": "ignored",
          "traceback": [
            "\u001b[0;31m---------------------------------------------------------------------------\u001b[0m",
            "\u001b[0;31mAssertionError\u001b[0m                            Traceback (most recent call last)",
            "\u001b[0;32m<ipython-input-13-ef8f0b0011be>\u001b[0m in \u001b[0;36m<module>\u001b[0;34m()\u001b[0m\n\u001b[1;32m      6\u001b[0m \u001b[0mprint\u001b[0m\u001b[0;34m(\u001b[0m\u001b[0;34m\"\\nTest accuracy: {} %\"\u001b[0m\u001b[0;34m.\u001b[0m\u001b[0mformat\u001b[0m\u001b[0;34m(\u001b[0m\u001b[0mtest_accuracy\u001b[0m\u001b[0;34m*\u001b[0m\u001b[0;36m100\u001b[0m\u001b[0;34m)\u001b[0m\u001b[0;34m)\u001b[0m\u001b[0;34m\u001b[0m\u001b[0;34m\u001b[0m\u001b[0m\n\u001b[1;32m      7\u001b[0m \u001b[0;34m\u001b[0m\u001b[0m\n\u001b[0;32m----> 8\u001b[0;31m \u001b[0;32massert\u001b[0m \u001b[0mtest_accuracy\u001b[0m\u001b[0;34m>=\u001b[0m\u001b[0;36m0.92\u001b[0m\u001b[0;34m,\u001b[0m\u001b[0;34m\"Logistic regression can do better!\"\u001b[0m\u001b[0;34m\u001b[0m\u001b[0;34m\u001b[0m\u001b[0m\n\u001b[0m\u001b[1;32m      9\u001b[0m \u001b[0;32massert\u001b[0m \u001b[0mtest_accuracy\u001b[0m\u001b[0;34m>=\u001b[0m\u001b[0;36m0.975\u001b[0m\u001b[0;34m,\u001b[0m\u001b[0;34m\"Your network can do better!\"\u001b[0m\u001b[0;34m\u001b[0m\u001b[0;34m\u001b[0m\u001b[0m\n\u001b[1;32m     10\u001b[0m \u001b[0mprint\u001b[0m\u001b[0;34m(\u001b[0m\u001b[0;34m\"Great job!\"\u001b[0m\u001b[0;34m)\u001b[0m\u001b[0;34m\u001b[0m\u001b[0;34m\u001b[0m\u001b[0m\n",
            "\u001b[0;31mAssertionError\u001b[0m: Logistic regression can do better!"
          ]
        }
      ]
    },
    {
      "metadata": {
        "id": "7Z8Qpb6b_5r7",
        "colab_type": "code",
        "colab": {}
      },
      "cell_type": "code",
      "source": [
        "answer_submitter = grading.Grader(\"0ybD9ZxxEeea8A6GzH-6CA\")\n",
        "answer_submitter.set_answer(\"N56DR\", test_accuracy)"
      ],
      "execution_count": 0,
      "outputs": []
    },
    {
      "metadata": {
        "id": "0T3e6KDn_5r-",
        "colab_type": "code",
        "colab": {}
      },
      "cell_type": "code",
      "source": [
        "answer_submitter.submit(<your-email>, <your-assignment-token>)"
      ],
      "execution_count": 0,
      "outputs": []
    },
    {
      "metadata": {
        "id": "3ReMzDxu_5sD",
        "colab_type": "text"
      },
      "cell_type": "markdown",
      "source": [
        "## Keras + tensorboard\n",
        "\n",
        "Remember the interactive graphs from Tensorboard one notebook ago? \n",
        "\n",
        "Thing is, Keras can use tensorboard to show you a lot of useful information about the learning progress. Just take a look!"
      ]
    },
    {
      "metadata": {
        "id": "yASguSnt_5sG",
        "colab_type": "code",
        "colab": {}
      },
      "cell_type": "code",
      "source": [
        "! rm -r /tmp/tboard/**"
      ],
      "execution_count": 0,
      "outputs": []
    },
    {
      "metadata": {
        "id": "KJZyFqPqEkRP",
        "colab_type": "code",
        "colab": {
          "base_uri": "https://localhost:8080/",
          "height": 85
        },
        "outputId": "309cfd30-65cc-479a-be44-ce597f62bf02"
      },
      "cell_type": "code",
      "source": [
        "!pip install tensorboardcolab\n",
        "from tensorboardcolab import *\n",
        "tbc=TensorBoardColab()"
      ],
      "execution_count": 23,
      "outputs": [
        {
          "output_type": "stream",
          "text": [
            "Requirement already satisfied: tensorboardcolab in /usr/local/lib/python3.6/dist-packages (0.0.22)\n",
            "Wait for 8 seconds...\n",
            "TensorBoard link:\n",
            "https://2956077a.ngrok.io\n"
          ],
          "name": "stdout"
        }
      ]
    },
    {
      "metadata": {
        "id": "GxRjA7nX_5sJ",
        "colab_type": "code",
        "colab": {
          "base_uri": "https://localhost:8080/",
          "height": 391
        },
        "outputId": "b7775198-c785-4582-ab08-6cf82130138f"
      },
      "cell_type": "code",
      "source": [
        "from keras.callbacks import TensorBoard\n",
        "\n",
        "model.fit(X_train, y_train, validation_data=(X_val, y_val), \n",
        "          epochs=10,\n",
        "          callbacks=[TensorBoardColabCallback(tbc)])"
      ],
      "execution_count": 25,
      "outputs": [
        {
          "output_type": "stream",
          "text": [
            "Train on 50000 samples, validate on 10000 samples\n",
            "Epoch 1/10\n",
            "50000/50000 [==============================] - 9s - loss: 0.2543 - acc: 0.9284 - val_loss: 0.2671 - val_acc: 0.9299\n",
            "Epoch 2/10\n",
            "50000/50000 [==============================] - 8s - loss: 0.2549 - acc: 0.9279 - val_loss: 0.2727 - val_acc: 0.9260\n",
            "Epoch 3/10\n",
            "50000/50000 [==============================] - 8s - loss: 0.2524 - acc: 0.9291 - val_loss: 0.2846 - val_acc: 0.9226\n",
            "Epoch 4/10\n",
            "50000/50000 [==============================] - 9s - loss: 0.2525 - acc: 0.9295 - val_loss: 0.2678 - val_acc: 0.9287\n",
            "Epoch 5/10\n",
            "50000/50000 [==============================] - 10s - loss: 0.2525 - acc: 0.9289 - val_loss: 0.2627 - val_acc: 0.9303\n",
            "Epoch 6/10\n",
            "50000/50000 [==============================] - 10s - loss: 0.2505 - acc: 0.9298 - val_loss: 0.2722 - val_acc: 0.9284\n",
            "Epoch 7/10\n",
            "50000/50000 [==============================] - 10s - loss: 0.2504 - acc: 0.9291 - val_loss: 0.2971 - val_acc: 0.9185\n",
            "Epoch 8/10\n",
            "50000/50000 [==============================] - 10s - loss: 0.2491 - acc: 0.9292 - val_loss: 0.2714 - val_acc: 0.9275\n",
            "Epoch 9/10\n",
            "50000/50000 [==============================] - 10s - loss: 0.2488 - acc: 0.9301 - val_loss: 0.2787 - val_acc: 0.9246\n",
            "Epoch 10/10\n",
            "50000/50000 [==============================] - 10s - loss: 0.2477 - acc: 0.9303 - val_loss: 0.2693 - val_acc: 0.9288\n"
          ],
          "name": "stdout"
        },
        {
          "output_type": "execute_result",
          "data": {
            "text/plain": [
              "<keras.callbacks.History at 0x7f5a88c26198>"
            ]
          },
          "metadata": {
            "tags": []
          },
          "execution_count": 25
        }
      ]
    },
    {
      "metadata": {
        "id": "35lrC0_i_5sN",
        "colab_type": "text"
      },
      "cell_type": "markdown",
      "source": [
        "# Tips & tricks\n",
        "\n",
        "Here are some tips on what you could do. Don't worry, to reach the passing threshold you don't need to try all the ideas listed here, feel free to stop once you reach the 0.975 accuracy mark.\n",
        "\n",
        " * __Network size__\n",
        "   * More neurons, \n",
        "   * More layers, ([docs](https://keras.io/))\n",
        "\n",
        "   * Nonlinearities in the hidden layers\n",
        "     * tanh, relu, leaky relu, etc\n",
        "   * Larger networks may take more epochs to train, so don't discard your net just because it could didn't beat the baseline in 5 epochs.\n",
        "\n",
        "\n",
        " * __Early Stopping__\n",
        "   * Training for 100 epochs regardless of anything is probably a bad idea.\n",
        "   * Some networks converge over 5 epochs, others - over 500.\n",
        "   * Way to go: stop when validation score is 10 iterations past maximum\n",
        "     \n",
        "\n",
        " * __Faster optimization__\n",
        "   * rmsprop, nesterov_momentum, adam, adagrad and so on.\n",
        "     * Converge faster and sometimes reach better optima\n",
        "     * It might make sense to tweak learning rate/momentum, other learning parameters, batch size and number of epochs\n",
        "\n",
        "\n",
        " * __Regularize__ to prevent overfitting\n",
        "   * Add some L2 weight norm to the loss function, theano will do the rest\n",
        "     * Can be done manually or via - https://keras.io/regularizers/\n",
        "   \n",
        "   \n",
        " * __Data augmemntation__ - getting 5x as large dataset for free is a great deal\n",
        "   * https://keras.io/preprocessing/image/\n",
        "   * Zoom-in+slice = move\n",
        "   * Rotate+zoom(to remove black stripes)\n",
        "   * any other perturbations\n",
        "   * Simple way to do that (if you have PIL/Image): \n",
        "     * ```from scipy.misc import imrotate,imresize```\n",
        "     * and a few slicing\n",
        "   * Stay realistic. There's usually no point in flipping dogs upside down as that is not the way you usually see them."
      ]
    }
  ]
}