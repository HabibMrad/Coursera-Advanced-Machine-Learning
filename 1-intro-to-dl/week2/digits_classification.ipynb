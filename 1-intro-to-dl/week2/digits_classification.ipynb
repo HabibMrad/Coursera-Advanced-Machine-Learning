{
  "nbformat": 4,
  "nbformat_minor": 0,
  "metadata": {
    "colab": {
      "name": "digits_classification.ipynb",
      "version": "0.3.2",
      "provenance": []
    },
    "kernelspec": {
      "name": "python3",
      "display_name": "Python 3"
    },
    "accelerator": "GPU"
  },
  "cells": [
    {
      "metadata": {
        "slideshow": {
          "slide_type": "slide"
        },
        "id": "dG8-XbV2HXRh",
        "colab_type": "text"
      },
      "cell_type": "markdown",
      "source": [
        "# MNIST digits classification with TensorFlow"
      ]
    },
    {
      "metadata": {
        "id": "jjFAnO2BHXRk",
        "colab_type": "text"
      },
      "cell_type": "markdown",
      "source": [
        "<img src=\"https://github.com/hse-aml/intro-to-dl/blob/master/week2/v2/images/mnist_sample.png?raw=1\" style=\"width:30%\">"
      ]
    },
    {
      "metadata": {
        "id": "BfYjqJHPHdG8",
        "colab_type": "code",
        "colab": {
          "base_uri": "https://localhost:8080/",
          "height": 323
        },
        "outputId": "bf605065-489c-4811-a05d-9d6b025725c5"
      },
      "cell_type": "code",
      "source": [
        "! shred -u setup_google_colab.py\n",
        "! wget https://raw.githubusercontent.com/hse-aml/intro-to-dl/master/setup_google_colab.py -O setup_google_colab.py\n",
        "import setup_google_colab\n",
        "# please, uncomment the week you're working on\n",
        "# setup_google_colab.setup_week1()\n",
        "setup_google_colab.setup_week2()\n",
        "# setup_google_colab.setup_week3()\n",
        "# setup_google_colab.setup_week4()\n",
        "# setup_google_colab.setup_week5()\n",
        "# setup_google_colab.setup_week6()\n",
        "\n",
        "# If you're using the old version of the course (check a path of notebook on Coursera, you'll see v1 or v2),\n",
        "# use setup_week2_old()."
      ],
      "execution_count": 1,
      "outputs": [
        {
          "output_type": "stream",
          "text": [
            "shred: setup_google_colab.py: failed to open for writing: No such file or directory\n",
            "--2019-03-09 15:53:26--  https://raw.githubusercontent.com/hse-aml/intro-to-dl/master/setup_google_colab.py\n",
            "Resolving raw.githubusercontent.com (raw.githubusercontent.com)... 151.101.0.133, 151.101.64.133, 151.101.128.133, ...\n",
            "Connecting to raw.githubusercontent.com (raw.githubusercontent.com)|151.101.0.133|:443... connected.\n",
            "HTTP request sent, awaiting response... 200 OK\n",
            "Length: 3792 (3.7K) [text/plain]\n",
            "Saving to: ‘setup_google_colab.py’\n",
            "\n",
            "setup_google_colab. 100%[===================>]   3.70K  --.-KB/s    in 0s      \n",
            "\n",
            "2019-03-09 15:53:26 (61.4 MB/s) - ‘setup_google_colab.py’ saved [3792/3792]\n",
            "\n",
            "**************************************************\n",
            "inception_v3_weights_tf_dim_ordering_tf_kernels_notop.h5\n",
            "**************************************************\n",
            "cifar-10-batches-py.tar.gz\n",
            "**************************************************\n",
            "mnist.npz\n"
          ],
          "name": "stdout"
        }
      ]
    },
    {
      "metadata": {
        "id": "WHOPJcoDHXRl",
        "colab_type": "code",
        "colab": {
          "base_uri": "https://localhost:8080/",
          "height": 51
        },
        "outputId": "02ba6937-7bc2-47c8-8add-53becb58142e"
      },
      "cell_type": "code",
      "source": [
        "import numpy as np\n",
        "from sklearn.metrics import accuracy_score\n",
        "from matplotlib import pyplot as plt\n",
        "%matplotlib inline\n",
        "import tensorflow as tf\n",
        "print(\"We're using TF\", tf.__version__)\n",
        "\n",
        "import sys\n",
        "sys.path.append(\"../..\")\n",
        "import grading\n",
        "\n",
        "import matplotlib_utils\n",
        "from importlib import reload\n",
        "reload(matplotlib_utils)\n",
        "\n",
        "import grading_utils\n",
        "reload(grading_utils)\n",
        "\n",
        "import keras_utils\n",
        "from keras_utils import reset_tf_session"
      ],
      "execution_count": 2,
      "outputs": [
        {
          "output_type": "stream",
          "text": [
            "We're using TF 1.13.1\n"
          ],
          "name": "stdout"
        },
        {
          "output_type": "stream",
          "text": [
            "Using TensorFlow backend.\n"
          ],
          "name": "stderr"
        }
      ]
    },
    {
      "metadata": {
        "id": "tG3jsnaDHXRp",
        "colab_type": "text"
      },
      "cell_type": "markdown",
      "source": [
        "# Fill in your Coursera token and email\n",
        "To successfully submit your answers to our grader, please fill in your Coursera submission token and email"
      ]
    },
    {
      "metadata": {
        "id": "dEfYmpehHXRx",
        "colab_type": "code",
        "colab": {}
      },
      "cell_type": "code",
      "source": [
        "grader = grading.Grader(assignment_key=\"XtD7ho3TEeiHQBLWejjYAA\", \n",
        "                        all_parts=[\"9XaAS\", \"vmogZ\", \"RMv95\", \"i8bgs\", \"rE763\"])"
      ],
      "execution_count": 0,
      "outputs": []
    },
    {
      "metadata": {
        "id": "h_vUZu7oHXR3",
        "colab_type": "code",
        "colab": {}
      },
      "cell_type": "code",
      "source": [
        "# token expires every 30 min\n",
        "COURSERA_TOKEN = \"gjHAotBRxmV5uC3T\"\n",
        "COURSERA_EMAIL = \"y2469wan@edu.uwaterloo.ca\""
      ],
      "execution_count": 0,
      "outputs": []
    },
    {
      "metadata": {
        "id": "n6wL4Iu5HXR6",
        "colab_type": "text"
      },
      "cell_type": "markdown",
      "source": [
        "# Look at the data\n",
        "\n",
        "In this task we have 50000 28x28 images of digits from 0 to 9.\n",
        "We will train a classifier on this data."
      ]
    },
    {
      "metadata": {
        "id": "d7DuG8OOHXR8",
        "colab_type": "code",
        "colab": {
          "base_uri": "https://localhost:8080/",
          "height": 51
        },
        "outputId": "3783b6c8-62ec-4941-fc64-4589c5ed07e8"
      },
      "cell_type": "code",
      "source": [
        "import preprocessed_mnist\n",
        "X_train, y_train, X_val, y_val, X_test, y_test = preprocessed_mnist.load_dataset()"
      ],
      "execution_count": 5,
      "outputs": [
        {
          "output_type": "stream",
          "text": [
            "Downloading data from https://s3.amazonaws.com/img-datasets/mnist.npz\n",
            "11182080/11490434 [============================>.] - ETA: 0s"
          ],
          "name": "stdout"
        }
      ]
    },
    {
      "metadata": {
        "id": "pZPuPOGpHXSB",
        "colab_type": "code",
        "colab": {
          "base_uri": "https://localhost:8080/",
          "height": 683
        },
        "outputId": "36b8d6fd-95a1-4605-c02f-2761c40c1266"
      },
      "cell_type": "code",
      "source": [
        "# X contains rgb values divided by 255\n",
        "print(\"X_train [shape %s] sample patch:\\n\" % (str(X_train.shape)), X_train[1, 15:20, 5:10])\n",
        "print(\"A closeup of a sample patch:\")\n",
        "plt.imshow(X_train[1, 15:20, 5:10], cmap=\"Greys\")\n",
        "plt.show()\n",
        "print(\"And the whole sample:\")\n",
        "plt.imshow(X_train[1], cmap=\"Greys\")\n",
        "plt.show()\n",
        "print(\"y_train [shape %s] 10 samples:\\n\" % (str(y_train.shape)), y_train[:10])"
      ],
      "execution_count": 6,
      "outputs": [
        {
          "output_type": "stream",
          "text": [
            "X_train [shape (50000, 28, 28)] sample patch:\n",
            " [[0.         0.29803922 0.96470588 0.98823529 0.43921569]\n",
            " [0.         0.33333333 0.98823529 0.90196078 0.09803922]\n",
            " [0.         0.33333333 0.98823529 0.8745098  0.        ]\n",
            " [0.         0.33333333 0.98823529 0.56862745 0.        ]\n",
            " [0.         0.3372549  0.99215686 0.88235294 0.        ]]\n",
            "A closeup of a sample patch:\n"
          ],
          "name": "stdout"
        },
        {
          "output_type": "display_data",
          "data": {
            "image/png": "[encoded data removed]",
            "text/plain": [
              "<Figure size 432x288 with 1 Axes>"
            ]
          },
          "metadata": {
            "tags": []
          }
        },
        {
          "output_type": "stream",
          "text": [
            "And the whole sample:\n"
          ],
          "name": "stdout"
        },
        {
          "output_type": "display_data",
          "data": {
            "image/png": "[encoded data removed]",
            "text/plain": [
              "<Figure size 432x288 with 1 Axes>"
            ]
          },
          "metadata": {
            "tags": []
          }
        },
        {
          "output_type": "stream",
          "text": [
            "y_train [shape (50000,)] 10 samples:\n",
            " [5 0 4 1 9 2 1 3 1 4]\n"
          ],
          "name": "stdout"
        }
      ]
    },
    {
      "metadata": {
        "id": "BUF1ocEyHXSE",
        "colab_type": "text"
      },
      "cell_type": "markdown",
      "source": [
        "# Linear model\n",
        "\n",
        "Your task is to train a linear classifier $\\vec{x} \\rightarrow y$ with SGD using TensorFlow.\n",
        "\n",
        "You will need to calculate a logit (a linear transformation) $z_k$ for each class: \n",
        "$$z_k = \\vec{x} \\cdot \\vec{w_k} + b_k \\quad k = 0..9$$\n",
        "\n",
        "And transform logits $z_k$ to valid probabilities $p_k$ with softmax: \n",
        "$$p_k = \\frac{e^{z_k}}{\\sum_{i=0}^{9}{e^{z_i}}} \\quad k = 0..9$$\n",
        "\n",
        "We will use a cross-entropy loss to train our multi-class classifier:\n",
        "$$\\text{cross-entropy}(y, p) = -\\sum_{k=0}^{9}{\\log(p_k)[y = k]}$$ \n",
        "\n",
        "where \n",
        "$$\n",
        "[x]=\\begin{cases}\n",
        "       1, \\quad \\text{if $x$ is true} \\\\\n",
        "       0, \\quad \\text{otherwise}\n",
        "    \\end{cases}\n",
        "$$\n",
        "\n",
        "Cross-entropy minimization pushes $p_k$ close to 1 when $y = k$, which is what we want.\n",
        "\n",
        "Here's the plan:\n",
        "* Flatten the images (28x28 -> 784) with `X_train.reshape((X_train.shape[0], -1))` to simplify our linear model implementation\n",
        "* Use a matrix placeholder for flattened `X_train`\n",
        "* Convert `y_train` to one-hot encoded vectors that are needed for cross-entropy\n",
        "* Use a shared variable `W` for all weights (a column $\\vec{w_k}$ per class) and `b` for all biases.\n",
        "* Aim for ~0.93 validation accuracy"
      ]
    },
    {
      "metadata": {
        "id": "AtZkO2axHXSF",
        "colab_type": "code",
        "colab": {
          "base_uri": "https://localhost:8080/",
          "height": 51
        },
        "outputId": "869a11bc-4c07-4df8-868c-df84178cd462"
      },
      "cell_type": "code",
      "source": [
        "X_train_flat = X_train.reshape((X_train.shape[0], -1))\n",
        "print(X_train_flat.shape)\n",
        "\n",
        "X_val_flat = X_val.reshape((X_val.shape[0], -1))\n",
        "print(X_val_flat.shape)"
      ],
      "execution_count": 7,
      "outputs": [
        {
          "output_type": "stream",
          "text": [
            "(50000, 784)\n",
            "(10000, 784)\n"
          ],
          "name": "stdout"
        }
      ]
    },
    {
      "metadata": {
        "id": "aF_9T0u3HXSI",
        "colab_type": "code",
        "colab": {
          "base_uri": "https://localhost:8080/",
          "height": 85
        },
        "outputId": "69c9ab81-1c2e-4e10-ef7a-4bc22ff97ad9"
      },
      "cell_type": "code",
      "source": [
        "import keras\n",
        "\n",
        "y_train_oh = keras.utils.to_categorical(y_train, 10)\n",
        "y_val_oh = keras.utils.to_categorical(y_val, 10)\n",
        "\n",
        "print(y_train_oh.shape)\n",
        "print(y_train_oh[:3], y_train[:3])"
      ],
      "execution_count": 8,
      "outputs": [
        {
          "output_type": "stream",
          "text": [
            "(50000, 10)\n",
            "[[0. 0. 0. 0. 0. 1. 0. 0. 0. 0.]\n",
            " [1. 0. 0. 0. 0. 0. 0. 0. 0. 0.]\n",
            " [0. 0. 0. 0. 1. 0. 0. 0. 0. 0.]] [5 0 4]\n"
          ],
          "name": "stdout"
        }
      ]
    },
    {
      "metadata": {
        "id": "FUJxajCSHXSM",
        "colab_type": "code",
        "colab": {}
      },
      "cell_type": "code",
      "source": [
        "# run this again if you remake your graph\n",
        "s = reset_tf_session()"
      ],
      "execution_count": 0,
      "outputs": []
    },
    {
      "metadata": {
        "id": "hvWErXjwHXSX",
        "colab_type": "code",
        "colab": {
          "base_uri": "https://localhost:8080/",
          "height": 88
        },
        "outputId": "e2295ea0-bb6a-4fd2-865f-5b697955186e"
      },
      "cell_type": "code",
      "source": [
        "\n",
        "# Model parameters: W and b\n",
        "W = tf.get_variable(\"W\", shape=(784, 10), dtype=tf.float32, trainable=True) ### YOUR CODE HERE ### tf.get_variable(...) with shape[0] = 784\n",
        "\n",
        "b = tf.get_variable(\"b\", shape=(10,), dtype=tf.float32) ### YOUR CODE HERE ### tf.get_variable(...)"
      ],
      "execution_count": 10,
      "outputs": [
        {
          "output_type": "stream",
          "text": [
            "WARNING:tensorflow:From /usr/local/lib/python3.6/dist-packages/tensorflow/python/framework/op_def_library.py:263: colocate_with (from tensorflow.python.framework.ops) is deprecated and will be removed in a future version.\n",
            "Instructions for updating:\n",
            "Colocations handled automatically by placer.\n"
          ],
          "name": "stdout"
        }
      ]
    },
    {
      "metadata": {
        "id": "X8u3eL2NHXSa",
        "colab_type": "code",
        "colab": {}
      },
      "cell_type": "code",
      "source": [
        "\n",
        "# Placeholders for the input data\n",
        "input_X = tf.placeholder(tf.float32, (None, 784))### YOUR CODE HERE ### tf.placeholder(...) for flat X with shape[0] = None for any batch size\n",
        "input_y = tf.placeholder(tf.float32, (None, 10))### YOUR CODE HERE ### tf.placeholder(...) for one-hot encoded true labels"
      ],
      "execution_count": 0,
      "outputs": []
    },
    {
      "metadata": {
        "id": "Ky0r0p5AHXSd",
        "colab_type": "code",
        "colab": {
          "base_uri": "https://localhost:8080/",
          "height": 173
        },
        "outputId": "06a8b6de-e075-43bb-9592-336328d6de03"
      },
      "cell_type": "code",
      "source": [
        "# Compute predictions\n",
        "logits = tf.matmul(input_X, W) + b  ### YOUR CODE HERE ### logits for input_X, resulting shape should be [input_X.shape[0], 10]\n",
        "probas = tf.nn.softmax(logits)      ### YOUR CODE HERE ### apply tf.nn.softmax to logits\n",
        "classes = tf.argmax(probas, axis=1)         ### YOUR CODE HERE ### apply tf.argmax to find a class index with highest probability\n",
        "\n",
        "# Loss should be a scalar number: average loss over all the objects with tf.reduce_mean().\n",
        "# Use tf.nn.softmax_cross_entropy_with_logits on top of one-hot encoded input_y and logits.\n",
        "# It is identical to calculating cross-entropy on top of probas, but is more numerically friendly (read the docs).\n",
        "loss = tf.reduce_mean(tf.nn.softmax_cross_entropy_with_logits(labels=input_y, logits=logits))### YOUR CODE HERE ### cross-entropy loss\n",
        "\n",
        "# Use a default tf.train.AdamOptimizer to get an SGD step\n",
        "step = tf.train.AdamOptimizer().minimize(loss)     ### YOUR CODE HERE ### optimizer step that minimizes the loss"
      ],
      "execution_count": 12,
      "outputs": [
        {
          "output_type": "stream",
          "text": [
            "WARNING:tensorflow:From <ipython-input-12-5bcaefdd393f>:8: softmax_cross_entropy_with_logits (from tensorflow.python.ops.nn_ops) is deprecated and will be removed in a future version.\n",
            "Instructions for updating:\n",
            "\n",
            "Future major versions of TensorFlow will allow gradients to flow\n",
            "into the labels input on backprop by default.\n",
            "\n",
            "See `tf.nn.softmax_cross_entropy_with_logits_v2`.\n",
            "\n"
          ],
          "name": "stdout"
        }
      ]
    },
    {
      "metadata": {
        "scrolled": false,
        "id": "pIRP45H1HXSk",
        "colab_type": "code",
        "colab": {
          "base_uri": "https://localhost:8080/",
          "height": 309
        },
        "outputId": "0e673500-38d2-4876-ab47-08b9a02cbfdc"
      },
      "cell_type": "code",
      "source": [
        "s.run(tf.global_variables_initializer())\n",
        "\n",
        "BATCH_SIZE = 512\n",
        "EPOCHS = 40\n",
        "\n",
        "# for logging the progress right here in Jupyter (for those who don't have TensorBoard)\n",
        "simpleTrainingCurves = matplotlib_utils.SimpleTrainingCurves(\"cross-entropy\", \"accuracy\")\n",
        "\n",
        "for epoch in range(EPOCHS):  # we finish an epoch when we've looked at all training samples\n",
        "    \n",
        "    batch_losses = []\n",
        "    for batch_start in range(0, X_train_flat.shape[0], BATCH_SIZE):  # data is already shuffled\n",
        "        _, batch_loss = s.run([step, loss], {input_X: X_train_flat[batch_start:batch_start+BATCH_SIZE], \n",
        "                                             input_y: y_train_oh[batch_start:batch_start+BATCH_SIZE]})\n",
        "        # collect batch losses, this is almost free as we need a forward pass for backprop anyway\n",
        "        batch_losses.append(batch_loss)\n",
        "\n",
        "    train_loss = np.mean(batch_losses)\n",
        "    val_loss = s.run(loss, {input_X: X_val_flat, input_y: y_val_oh})  # this part is usually small\n",
        "    train_accuracy = accuracy_score(y_train, s.run(classes, {input_X: X_train_flat}))  # this is slow and usually skipped\n",
        "    valid_accuracy = accuracy_score(y_val, s.run(classes, {input_X: X_val_flat}))  \n",
        "    simpleTrainingCurves.add(train_loss, val_loss, train_accuracy, valid_accuracy)\n"
      ],
      "execution_count": 13,
      "outputs": [
        {
          "output_type": "display_data",
          "data": {
            "text/html": [
              "<img src=\"data:image/jpeg;base64,/9j/4AAQSkZJRgABAQEASABIAAD/2wBDAAIBAQEBAQIBAQECAgICAgQDAgICAgUEBAMEBgUGBgYFBgYGBwkIBgcJBwYGCAsICQoKCgoKBggLDAsKDAkKCgr/2wBDAQICAgICAgUDAwUKBwYHCgoKCgoKCgoKCgoKCgoKCgoKCgoKCgoKCgoKCgoKCgoKCgoKCgoKCgoKCgoKCgoKCgr/wAARCAEgA2ADASIAAhEBAxEB/8QAHwAAAQUBAQEBAQEAAAAAAAAAAAECAwQFBgcICQoL/8QAtRAAAgEDAwIEAwUFBAQAAAF9AQIDAAQRBRIhMUEGE1FhByJxFDKBkaEII0KxwRVS0fAkM2JyggkKFhcYGRolJicoKSo0NTY3ODk6Q0RFRkdISUpTVFVWV1hZWmNkZWZnaGlqc3R1dnd4eXqDhIWGh4iJipKTlJWWl5iZmqKjpKWmp6ipqrKztLW2t7i5usLDxMXGx8jJytLT1NXW19jZ2uHi4%2BTl5ufo6erx8vP09fb3%2BPn6/8QAHwEAAwEBAQEBAQEBAQAAAAAAAAECAwQFBgcICQoL/8QAtREAAgECBAQDBAcFBAQAAQJ3AAECAxEEBSExBhJBUQdhcRMiMoEIFEKRobHBCSMzUvAVYnLRChYkNOEl8RcYGRomJygpKjU2Nzg5OkNERUZHSElKU1RVVldYWVpjZGVmZ2hpanN0dXZ3eHl6goOEhYaHiImKkpOUlZaXmJmaoqOkpaanqKmqsrO0tba3uLm6wsPExcbHyMnK0tPU1dbX2Nna4uPk5ebn6Onq8vP09fb3%2BPn6/9oADAMBAAIRAxEAPwD9/KKKKACiiigAooooAKKKKACiiigAooooAKKKKACiiigAooooAKKKKACiiigAooooAKKKKACiiigAooooAKKKKACiiigAooooAKKKKACiiigAooooAKKKKACiiigAooooAKKKKACiiigAooooAKKKKACiiigAooooAKKKKACiiigAooooAKKKKACiiigAooooAKKKKACiiigAooooAKKKKACiiigAooooAKKKKACiiigAooooAKKKKACiiigAooooAKKKKACiiigAooooAKKKKACiiigAooooAKKKKACiiigAooooAKKKKACiiigAooooAKKKKACiiigAooooAKKKKACiiigAooooAKKKKACiiigDxPxd/wAFFP2PvAmoXmn%2BK/ipc2gs9UbTReHwpqj2l5eLfw6fJb2lwlsYb2SO7nigkW3eQxOxD7drY2j%2B2f8As6R%2BObL4c3XjHUbfVLy6sLNlu/Cmpw29le3sUctpY3dw9sIbG8lSWIraXDxzkzRjy8uoPiVz%2Bxn%2B1bH4C8N/s66Zqfw9HgXwn8W9N8V22tXOo3r6rqtnb%2BLrXWxbyQC1EVrLHAlxFvEswuJFiJ%2Bzqzbeh8cfsffGzXfGPi3wPoup%2BFv%2BEA8c/F7QfHuq61dalcrrOnvp8mlTyWEVqtu0Mwll0mLbcNcRmJLhh5TmNSwB6Fa/t1fsv3cGr3w8f30Nno2n3N7LqV54U1OC0vYLedLeZ7G4ktli1HbNJHHi1aYlpEAB3rns/hT8ZfAXxp0m91fwJc6njTdQNlqVnrfh690q8tJxGkuyW1voYZ48xyxupZAGVwQSDmvmbTf2IPj5a6t4mtbTwl8ONN8MazoOp22reBV8Za1feHfFN5cXcEsdw2mTwCPQGCJcEvZyTnzLkMRL5Q3egfs4/sm%2BOvDGmXP/AAu3xl4hhgsfFa6n4L8M6H8ZPEOpQaLbC3tla2mvpmtZtTheeGSUQXUbxRLKY1BQnIB0kX7eP7Kk0fiC6HxNlW18N6Jqur32oy%2BHdQS0urLTSRfzWVw1uItSFuRiQWjTFSQCMkZ5vx3/AMFL/wBmXwh4Vl8TaPd%2BJtceDxF4b0yXTdP8Dav9qeLW78WdnfwxNaB7m1crO0c8IeOZoTFEzyvGjeKaH/wSx%2BI%2BjfBrXPgl5eiXX9m/DfxR4c8C%2BK9W%2BK/ia/LzajZT2VtI%2Bkz5sdLUQzFZjALjJGY0j4A7z4//ALEPxs8d%2BOH%2BIfw%2B1Pwo9zp/hz4cxaTp2r6nc20dzfeG/FE2szxSyRW0phhlidIklVJGDliYsAbgD1V/25/2ZFtteu4/G%2BpzJ4b8Sf8ACPakLbwfqsrPq/nPCdOt1S1JvLsOhJggEkgQrIV2MrGpqn/BQX9lDSbTRp5PH%2Bq3U%2Bv2Wq3WmaXpfgnWLy/ZNMuIrfUFks4LR7iGW3lmRZIpI1kT5iVwjleFtv2OvjToXha08QaFfeFZvFegftCaz8R9G0y61O5j0%2B%2Bgvl1C3NnPcrbNJDILbUZSJFhlCyxJ8rCvMNI%2BEf7S3wX/AG5vCGqeD9N8Dav478U%2BA/iX4l1jSNT128tdItftmt%2BFwlvBdpZyzN5Srb5kNuvnFZfli8wbQD6jsf2yP2adU8Gaz8QtK%2BKVvd6PoNxpMGoXtpY3MoLapDaTaeYVWMtcrcJfWvlvCHVmkKZ3I6r6bXwN8Nv2Q7XwR%2B1Z8Ff2dvBXxLsNdsPh58M9Ff432dmnD3ugLu8PPKqki2klutRnuUjf52i06PGVQGvvmgAooooAKKKKACiiigAooooAKKKKACiiigAooooAKKKKACiiigAooooAKKKKACiiigAooooAKKKKACiiigAooooAKKKKACiiigArzb4q/tdfs/fBPxlH4D%2BJPje4stR%2By2l1efZ9Bvru3023urh7a2nvbi3geGwilmjkRJLl41YxvgnY2PSa%2BQ/28f2Kv2o/2pNZ8Z6N4R%2BIWn/8I5rvhC0s/DFtqHxB1rSoNGvoXnkm8/TtPi8jU47ljApluZG8hVJWCXbscA9gh/br/ZUku9btpviqtrFoGn6hfXeoahot7bWVzb2EywXslndSwrDqAhldI3%2ByvKVd1U8sAdDwJ%2B2B%2Bz78R/EmneC/DXjC%2Bj1vVNTutPt9D1fwzqOnX0Vzb2kd5LHPb3dvHLbH7NLHMvnKgkSRShbIrwzQ/wBjX9rW8/ZXP7IXiDWvh5pWgaLpEn9ga1ZX99qF3qF9FqUN9YC5R7e3W2hjMRinKNO1xuDqIOYz1/jH4S/tp%2BNfiB4H%2BPWqaH8ME1/wZ4l1CS08HQeJtQWzGmXel/ZHLambAyTXAnHnAfY408s%2BVnK%2BawB2uh/t0/steJddsPDmh/EuW4utR0KfWotnh7UBFDpsM9zbzXk8pg8u1gSa0njaSZkUMEBP72Le3w9%2B3Z%2By74m8J6741sviFe21l4dsdPvdSj1fwrqdhctbX8jRWM0Ftc20c13Hcyq0UDQJIJpAUjLN8teO/s%2BfsI/tK/Bjw3q7xfFHwvY%2BKLj4J3fhXR/EWlxzSrY61Jq2rX0V6IZYgDAn263baWJ3RuuCAGbkrH/gnN%2B1HceNNR%2BImoa74div59G8Iz2dvrXxT1/xIw1jw7r39rQrLc6hbB/st3vlR/JSJbU7WjgmJY0AfUHw9/bC/Z2%2BJ%2Buy%2BF/Cnj%2BRdTttLvdQvdN1fRL3Tbizgs5Yorrz47uGJoHia4ty8UgWRVnicrskRj2nw98e%2BFvip4C0T4m%2BBr%2BS70XxFpNvqWkXU1nLbtNazxrLE5imVJIyUZTtdVYZwQDxXxx%2B3H8PfjP8Ybb4c/D3xh4x8IaH8UvFXjTUNFj8PeD724unh8D6lZNaa0vnSpDLMYoUS7N2YYIxPDbRBdxQyfbOnadYaRp8Gk6XZx29rawrDbW8KBUijUAKqgcAAAAD2oAmooooAKKKKACiiigAooooAKKKKACiiigAooooAKKKKACiiigAooooAKKKKACiiigAooooAKKKKACiiigAooooAKKKKACiiigAooooAKzPFWs3eh6el3aJGzNMEIkUkYwT2I9K068t%2BMnxZbQvjP4P%2BCTaUjR%2BJvDut6uL4ykNE%2BnzabEIguMEOuoOxOePJAwd3C54QlHn2bS%2Bb0R04XB4jGylGiruMZTf%2BGEeaT%2BS1tu%2Bh0H/AAsPWv8An1tf%2B%2BG/%2BKo/4WHrX/Pra/8AfDf/ABVYNFd3s4djjuze/wCFh61/z62v/fDf/FUf8LD1r/n1tf8Avhv/AIqsGij2cOwXZ0j%2BO9YXT4rsW9tueaRCNjYwoQj%2BL/aNQ/8ACw9a/wCfW1/74b/4qsub/kC2/wD19Tf%2BgxVVpKnDsF2b3/Cw9a/59bX/AL4b/wCKo/4WHrX/AD62v/fDf/FVg0U/Zw7Bdm9/wsPWv%2BfW1/74b/4qprrx3rEEFvKtvbEzQl2yjcHey/3v9kVzdWtQ/wCPSx/69T/6NkpOnC%2BwXZqf8LD1r/n1tf8Avhv/AIqj/hYetf8APra/98N/8VWDRT9nDsF2b3/Cw9a/59bX/vhv/iqP%2BFh61/z62v8A3w3/AMVWDRR7OHYLs6S%2B8d6xazrElvbEGGN%2BUbqyKx/i96h/4WHrX/Pra/8AfDf/ABVZesf8faf9esH/AKKSqtJU4W2C7N7/AIWHrX/Pra/98N/8VR/wsPWv%2BfW1/wC%2BG/8Aiq4bx98S/hz8KdCHij4o%2BP8ARPDWmGdYBqOv6rDZwGVgSqeZMyruIU4GcnB9K4v/AIbd/Yv/AOju/hf/AOF9p3/x6sKtfA0ZctScYvs5RT%2B5yT/A9XB5Fn%2BY0fbYTCVqsL25oUqs43W65oUpq66q911SPbf%2BFh61/wA%2Btr/3w3/xVTaj471iz1Ce0jt7YrFMyKSjZIBI/vV4Z/w27%2Bxf/wBHd/C//wAL7Tv/AI9Xe%2BGfid8Nfi3Dd%2BLfhT8QtD8T6UdQliGp%2BHtWhvbcyA5KeZCzLuAZSRnPI9aVOvga0%2BWnOMn2Uot/cpNhjMiz/LqHtsXhK1KF0uadKrCN3suadKCu%2Bivd9EzsP%2BFh61/z62v/AHw3/wAVR/wsPWv%2BfW1/74b/AOKrwjxh%2B2d8G/h98Vtc%2BFHjX%2B3rO60SHSB9rg8LahdRXtzqBuPItYPs8D%2BdKRBwqZLM5UAsjgWde/a5%2BDml6he6Dba9LHqVjfwW7Q6zompWUNyH1O302R7aZrRlu1S4uIoy0O9A8kYd41fzB0clPseVdnt3/Cw9a/59bX/vhv8A4qptO8d6xeahBaSW9sFlmVGIRsgEgf3q8U%2BH37WfwJ%2BKeovpXgLxNqWoTrbC5iVfC2pRi5h%2B1C1eWBpLdRcJHOwSVoiwhJzIUHNZnxy/auv/AIE%2BKr1dI%2BHMWu2Pg/wk3i/xzdS62bSSw0iOZ13W0Ygk%2B1TstvduImaFcW%2BPMBcCk4U7bBdnvH/Cw9a/59bX/vhv/iqP%2BFh61/z62v8A3w3/AMVXi/7S3xt8d/AnwVefEHwz8LLPX9I0XQdQ1jxFqGoeJk06K0t7VEfyY/3MzzXMoZ/LQqkX7p980ZKB%2BE079vLS/wDhIPiLJ4m0fwppui/De11O81a1Pjgv4iktLKzS6kuBpJtF2Id%2BzJuOCO54p8lNPYLs%2Bo/%2BFh61/wA%2Btr/3w3/xVH/Cw9a/59bX/vhv/iq%2BUb39vmfR/h7pviTXfDnw%2BtdT1jxQ2kWLj4uW8mh2/l2LXk73mpLak2rxbGgaLyGJmeIKWR/MW3e/t4R6V8aND%2BEWueAdKsbjVY9Laayn8YxNqxW8tGuHurSzihdL2xt9jpNdJOqqYJiFYIN65aXYNT6psfHesXU7RPb2wAhkfhG6qjMP4vaof%2BFh61/z62v/AHw3/wAVXzh8B/26NC%2BJXwv13416r4c0i30az0a3utItfD3i%2BDVb%2B5kvY5FtdOubZUjaz1F2Nun2Yl1L3KIsrFX207P9rL4za38J/h38WfDvwH8NyxePRpduNGu/H88d7b311IRLDEqaZIlxHBCslw0peMmOGU7F2gsctO%2Bwan03/wALD1r/AJ9bX/vhv/iqP%2BFh61/z62v/AHw3/wAVXx6P%2BClNtnxWP%2BFa6Q58NRzPeRQ%2BNA0mhiPWYNMJ15fso/scYma7JzcYtrS6k58oB5tD/wCCiF14n1rwroOleFvh7ZnxLHqxg1fXfiqbTTL5rLUorFRptyNPf%2B0FmMu%2BM7Is7CAD1o5aXYNT68/4WHrX/Pra/wDfDf8AxVTW3jvWJ4LiVre2BhhDrhG5O9V/vf7Rr5y1T9qXxxpXxt1H4Lr8GbPUdQTQtU1PSNL0bxnbz6tNFa7RDJdWrRpFYw3btsgke4bJKh1Q7xGujftPfGrUND8Z6fp/wE8Pvrfg3WDp/imaT4h%2BXolhAtha6j55vnsRKzbZ4ojGLX5HJLMqAORxp9g1Pob/AIWHrX/Pra/98N/8VR/wsPWv%2BfW1/wC%2BG/8Aiq%2BXvg3%2B3Fe/HD4mf8IL4b8IeEtJV9N067ttO8TeP2tNeuFu9GttTGzTVsn3LH9qWJ287gxyNjjae7%2BCnxc%2BKHxB8c%2BMPBnj/wCGugaOnhOaytW1Hw/4tn1OKe8mhNxLbETWNqUaKGS0kJAdW%2B1AZBRhTUKb6Bdns3/Cw9a/59bX/vhv/iq2fCXiK9177R9siiXytm3ylIznd1yT6VxFdR8Nv%2BX3/tn/AOzVNSEFBtIabudRRRRXKUFFFFABRRRQAVzPiDxlqmk6vNp9vBbske3aXRs8qD2b3rpq4Pxn/wAjLc/8A/8AQFrWlFSlqJ7Fr/hYetf8%2Btr/AN8N/wDFUf8ACw9a/wCfW1/74b/4qsGiuj2cOxN2b3/Cw9a/59bX/vhv/iqP%2BFh61/z62v8A3w3/AMVWDRR7OHYLs6TUfHesWeoT2kdvbFYpmRSUbJAJH96of%2BFh61/z62v/AHw3/wAVWXrn/IavP%2BvqT/0I1VpKnC2wXZvf8LD1r/n1tf8Avhv/AIqj/hYetf8APra/98N/8VWDRT9nDsF2dJp3jvWLzUILSS3tgssyoxCNkAkD%2B9UP/Cw9a/59bX/vhv8A4qsvQ/8AkNWf/X1H/wChCqtL2cL7Bdm9/wALD1r/AJ9bX/vhv/iqP%2BFh61/z62v/AHw3/wAVWDRT9nDsF2b3/Cw9a/59bX/vhv8A4qprHx3rF1O0T29sAIZH4RuqozD%2BL2rm6taP/wAfb/8AXrP/AOinpOnC2wXZqf8ACw9a/wCfW1/74b/4qj/hYetf8%2Btr/wB8N/8AFVg0U/Zw7Bdm9/wsPWv%2BfW1/74b/AOKo/wCFh61/z62v/fDf/FVg0Uezh2C7OktvHesTwXErW9sDDCHXCNyd6r/e/wBo1D/wsPWv%2BfW1/wC%2BG/8Aiqy9P/49L7/r1H/o2OqtJU4X2C7N7/hYetf8%2Btr/AN8N/wDFUf8ACw9a/wCfW1/74b/4qsGin7OHYLs3v%2BFh61/z62v/AHw3/wAVUyeO9YbT5bs29tuSaNANjYwwcn%2BL/ZFc3VqH/kC3H/X1D/6DLSdOHYLs1P8AhYetf8%2Btr/3w3/xVH/Cw9a/59bX/AL4b/wCKrBop%2Bzh2C7N7/hYetf8APra/98N/8VR/wsPWv%2BfW1/74b/4quV1XxF4f0JQ2ua7Z2QIyDd3SR5Hr8xFc1rH7RP7P3h5S/iD46eDrEDqbzxPaRAf99SCs5ywtP42l6tL82jKpiKNL45perS/No9Vfx3rC6fFdi3ttzzSIRsbGFCEfxf7RqH/hYetf8%2Btr/wB8N/8AFV4N4n/4KIfsLeGNGiTU/wBrLwHI0dzKXTT/ABHBdsBtj7QM57H8q4K8/wCCw3/BOCxuGtZ/2lbdmU8mHw1qki/gyWpB/A1wTzXJKTtPEU16zj/8kzz6ufZLRdqmKpr1qQ/%2BSZ9bf8LD1r/n1tf%2B%2BG/%2BKo/4WHrX/Pra/wDfDf8AxVfIM/8AwWZ/4JtwLn/ho3efRPCWrn/20rnvFn/Bc7/gn54dtvP0bxn4i19sZ8nSfDE6N9P9K8kfrWM8/wCHKavLFU//AANP8mx0M8ynF1FTw9eNST2UG5yfpGEZyfootn2//wALD1r/AJ9bX/vhv/iqmuvHesQQW8q29sTNCXbKNwd7L/e/2RX5tXv/AAcH/ANpGbQvgT4rnhJ/dve6pp9u5HuvnNt%2BmTVTU/8Ag4Z%2BHckNvFZfs06m/kwlMy%2BMrFc/OzdgcferhlxdwtF/7xH5KX/yJ9JTybiWsr08sxkvTBYx/wDuqj9Kv%2BFh61/z62v/AHw3/wAVR/wsPWv%2BfW1/74b/AOKr8sdb/wCDh/Mq2nh79ly1hL8C61Hx0JFU%2B8dvaOx/A0aX/wAFzvjxcSCWz/Zg0bxBG5ysOhXOrI4HoWksiCfcDFZf658LuVo1W/SEn%2Bl/wO//AFP4%2BdL2qyLH8n831LEpffOEPwR%2Bp3/Cw9a/59bX/vhv/iq6bw/qM%2BraRDqFwqK8m7cEBA4Yjv8ASvzB8N/8Fhf2qfFiqPD3/BKH4gX5PV7PUbx0%2Bu7%2By8AfWv0B/ZE%2BJXjn4v8A7PHh34i/Er4RX3gPWtSF0b3wpqV0Zp7HZdzRpucxxk70RJB8gwJAOcZPo4XOcszKXLhm21rrCcVb1lFL5XueLVw%2BYYWr7PFYatRf/TylOn8ve6%2BW56TRRRXcSFFFFABRRRQAUUUUAFFFFABRRRQAUUUUAFFFFABRRRQAUUUUAFfLP7KvxL/Zq0D9sf46%2BDPBfxh8MT6lq/iHSrqWy/4S6K6u7q8NoVuAA8rSMY5SIvLHEQVIlCKqqPqaigD5K/4J16l%2BzX43%2BJHi34ofsxeJvCdn4bvdCsdN0zw5oniGG81PVora4uWbxBqoWR5TPctOFjectO0aB5n3y%2BVDt/tU6rb6f%2B37%2Bz/ZXU7xpqHhXxzBmNAxOE0eXGCR/wA8/XtX01Xx9%2B3heTaZ/wAFD/2UL3pBM/ji0mb/AGpNLtmQf99R15%2BZT9nQhL/p5S/GpFfqfbcA4dYrOq9J9cLjfwwlWS/9JPe/J0X/AKCF1/4Br/8AHKPJ0X/oIXX/AIBr/wDHKq0V79vM%2BFLXk6L/ANBC6/8AANf/AI5R5Oi/9BC6/wDANf8A45VWii3mBpyxaR/ZEAN9c7ftMuD9lXJO2PPG/wClVvJ0X/oIXX/gGv8A8com/wCQLb/9fU3/AKDFVWkkBa8nRf8AoIXX/gGv/wAco8nRf%2Bghdf8AgGv/AMcqrRTt5gWvJ0X/AKCF1/4Br/8AHKs30WkG2s999cgC2O0i1U5Hmv1%2BfjnNZlWtQ/49LH/r1P8A6NkpNaoA8nRf%2Bghdf%2BAa/wDxyjydF/6CF1/4Br/8cqrRTt5gWvJ0X/oIXX/gGv8A8co8nRf%2Bghdf%2BAa//HKq0UW8wNPVYtINyvmX1yD9mh4Fqp48pcfx%2BlVvJ0X/AKCF1/4Br/8AHKNY/wCPtP8Ar1g/9FJVWkloBnePvhf8HvitoQ8L/FHwfp3iXTBOs407X/D1veQCVQQr%2BXMzLuAY4OMjJ9a4v/hh39hX/o1T4c/%2BG10z/wCJq/8AH39ov4N/sv8AgRfiX8c/GP8AYeiNfR2a3v8AZ9xc5ncMUTZbxyPyEbnGOOT0rxX/AIfNf8E1/wDo5D/yz9Z/%2BQ68nG4nIaNflxk6SnZfHyXt0%2BJN27GkeN6/D6%2BqQzOWHXxcixE6S168sa0Frbfl1tu7Hrf/AAw7%2Bwr/ANGqfDn/AMNrpn/xNd54W%2BFnwe%2BEttdeE/hd4K0zwvpn2%2BWY6X4c8P29nbCVjhmEcJRckKBuxkhR6V80f8Pmv%2BCa/wD0ch/5Z%2Bs//Ide4/Bf9pL4LftU%2BGLv4p/AXxn/AG9oLatPai//ALOubX96m1mXZcRxvwHU524569aWCxOQ1sRy4OdJzs/g5L26/Ck7dwlxvX4gX1SeZyxC%2BLkeInVWnXllWmtL78ul91c5Txz%2BydB4x/aAT4yw/FVrWwN9oN7caK/hcSzPcaY19sK3H2xVVJEvSCpiYq0YYMQdo8yj/wCCYdnH49h8dL8ctPW4F3OdQvI/hsi6hqsD%2BINO1pDeXf8AaG%2B4uEfTlgErDYI5DthQg7vYPE/7T3gLwn4yvvh/qejay2sWfiHStKhsYLaJnvft8LTR3UI8wboEjhvDIx2uPsFxtR9qb/HtZ/4Kb%2BCPEWnWV/8ADDT/ACvsmuz2/imDUHsdSlt7P/hHNb1WGWH%2Bz9QeEymXSthhkmRwBIrLGXSQeq1HqyNT074W/snR/CfU/COs6H8VzcXHhXwnqWhYuvCuUukvNTs72SXC3gKMqWrRKMsN0oc5CGN7Px2/ZLtfjt4nvm0X4qTaHZ%2BL/CTeEPG9nN4bFy%2Bo6TJM7bbeUXUf2ScLcXaCUrMoFwT5ZKKa49/22r3xB8SvA/gv4efDLWL7Tdc8W3ui6rr11Z28dveS22gX2oyW9l/pm%2BOdZ7eGImdREQJlV22%2BYvffFD4k/FDTviN4C%2BFfwifRNN17xZcXly%2BoeKNNlvbeyt7SFHdTBb3EJkkaWaBMiUKql2%2BbABGlysNblH45/AH4g/F3X/DV/p/xl0K10vw7qdxfv4e1n4ez31nf3AeM2Msyx6tAXa12yMoYtG0rpLsR4Y9uH8VP2Lh8eNRn0f4wfGGG98Ku2rSw6XpHgaKyvhLqOj3OkzrJdi7dZYRDeXDKphEm4Q75ZPK%2BfQ0742ePviP%2By14Q%2BPvgvUvCfhIa5oFnrfiTUvGAmubLQrJ7NridgkckH2gpIFj%2BaaFQjNKWOwRv5z8Mv2wfjR4o%2BIHhrT/in/Y/gbSdV8PeG7l4dR%2BHOr3H22/1F50a2GoC5S305nZIEiiuEaTfcKhDv8tDUQ1Org/Yr11fFK/GC5%2BNejyePrbWbe7sNUX4b7NKjhi0ybTfJewGpb2Zop5GMq3CHckQAEaGNs/wT/wTu8PeBLTR/BWm/GWe58JWd54ev9T0%2B98JI2oXV1pFlBawiG8W7VLa3kW1iLwCB/vTqrqspAh/Z6/aJ%2BNHxl8FXp8SfFHwd4b8Vpo6am2jav8ACjV7JNMthMyyysbrUYxqEQC7DNAyIjkFicha5lf2xv2lbD4aaj8QtWs/BrJ4Q%2BGi/ELxNEfDl5byanotxd35sre3ja9c2V0bHTppJDI04WaRECYUklohqd98MP8Agnd8N9PuLK0%2BJ3xA1HXLbw34Y0zRPCCeHLe78OT2Fnpcd79lknnstQ8y5uQt3IC6mKIkZWFCxNbnwc/Y98M/CHRPhf4bg%2BKOr6nZfDWy1BY49QspZnvry5iEK3Iee7kaHy4nuUWPLjbcEKVC4PkfiP8A4KQ%2BJfhfr3i3/hKl8LXE9lb%2BLbbS/CEFvcQ6jpNxp07W9jJqMplcGC9iIuVZYYisbr5f2gZcdPfftPfGuz%2BEtj4y0PVfBWu3Vn8V9D8NeKbl/Dmq6PLbWl9qOm2rRnTLtzPbXezUA6%2BbKyeX5UwDiURhLluGo6X/AIJ6C4trCzuPjzmPwtC8fgcp4HUNBu17T9bzqRN8RqJ8/TbeM7BbFkknOd8gddDxB%2BxH4m174c%2BIfh237QFjHB46j1yPx07fDWJ1lTU5Q0x04G%2B32LKmQPNe6RnxKyMwOcvVP2tfi4v7Vt18DNB0nQJbQeJ5tEsbS80a%2BjR8eHzqaXD6wrtaiUzgRNpywm6WEm4wYxkr4d/aG/aO1nTvHGjy6n4YF74H1i0j1TWY/hprjS/ZpLWR5RBoS3DXt5%2B/WNI51kSKZHlkjDeQVd2iGp1ni79lz4l%2BJPFB8R2v7UElvJoseuSeAryfwIk97o91qMDxKbiY3ype29uJG8uDy4i3lweZI5j3Nkv%2BxZ8Rrv4O6V8HLP45eEodE0jVv7Q1rTm%2BF97Jb%2BI487vLvw%2BumW6Z7pxcyu8v791AkV1Lh%2BQ8FftsfGbxh4b0r4mNonhO20PTz4MsvF2mwxy3Nxc3muS20cslpcx3HlQx263lvJsZJzIVkTehAct8Nftw/HK68M%2BEbi70vwkbv4zeFNJ1n4e%2BXpd0I9Ehu9U06J478G5JvGittQglBiNuJJI5EwgYOE%2BWw9T1fXv2cPF3jXxzouu%2BOPjTp1xo%2Bm%2BINN1%2B503Tfh6lrdPqNpbCICG7%2B3OY7ZpB5hjkSaYK7xeeYyFXsvg58K9H%2BFPhvUdGufF11qlzqfirWNaub46UsRY32oT3SREec2RDFLHbhs/MsCnC52jxrTf2mvjnLfeCNMvNF8KOs/xX1HwZ42vo4blDM0AujBNZQGRvJEiQJI/myy%2BWSYwJM%2BauX4M/az%2BO3xA%2BOWufCHwzp/hZZxL4ntdGi1LQtQt7a0k029itreY6l5rW%2Bq%2BYr%2BZNbWiJJbNmGVkZGJrS4tT6l8nRf%2Bghdf8AgGv/AMcro/ACWSfa/sdxLJ/q93mwhMfe6YY5rwD9lL4y%2BL/jP4X8R3njP7HJcaD4sn0mG7ttAutHkuokt7aYSTadeSSXNhJunZRHM250SOdQEmQV718Nv%2BX3/tn/AOzVNT%2BG2C3OoooorkLCiiquu63pPhnRLzxJr1/Ha2On2slze3MpwsMUalnc%2BwUEn6UAWqK8b8Lftu/DLWfAHi34h%2BLPB/ijwnbeDfBlv4u1Oy8RWMH2mXQ54bmWC9iS1nmyJBZ3KiJisyvEVeNCVzLb/tci90%2B4tNP/AGc/iNc%2BJ7LWl03UPBMFnprX1mWsvtqXEs/277DHA0JG1zc/NIfKAMgKAA9frg/Gf/Iy3P8AwD/0Ba3/AIXfEfwr8Yvhn4d%2BLngW7kuNE8U6Faavo88sRjaS1uYUmiZlPKko6kg8jpWB4z/5GW5/4B/6AtbUPjJlsZdFFFdRIUUUUAWtc/5DV5/19Sf%2BhGqtWtc/5DV5/wBfUn/oRqrSWyAKKKKYFrQ/%2BQ1Z/wDX1H/6EKq1Jaajp%2BkXkOqatfw2ttbzJJPc3EoSONAwJZmbAAHqa%2BfPiZ/wU%2B/Yp%2BGuqf8ACNxfGKDxRrTuUh0TwRayavcSuOqg2waMMPRnFcuJxuDwS5sRUjBebSv6dX8kzkxePwOAhzYmrGC/vNK/or3fyTPf6K%2BW/wDh4B8f/Hfy/Ab/AIJu/FLVQ/EFz41e28OQv6MGnZ8r3z3FAf8A4K8fE87hF8H/AIX2L87Xa61rUY/bjFu36Vw/21hp/wACFSp/hpyt98lBfief/b2Eqf7vTqVf8NOVv/ApqnH8T6kq1o//AB9v/wBes/8A6KevlMfsa/tyeKT5vxJ/4Kd%2BIsNz9m8J%2BBNP0wR%2BwdSzN9SM07/h398S7aKa/wDFH/BTj41WttFbSvPcx%2BILa1VVEbE5by8KD0/GlLMMwcW1g5W8501%2Br/MqOYZrUklTwM3fa86Sf3Jy/U%2BoK5r4hfGX4RfCSyOo/FL4o%2BHvDkATd5mt6xDagj28xhn6DrXw38R/Bn7BHw/Z7X4x/wDBX74u6yAdt3pcPxeN8pHdHhsoHdc%2BnBrG%2BH%2Bv/wDBI7w7eDU/gb%2BxT8QPi3qUj7lv4fAmoaybmTs5/tFwg%2BoUY64rzavEVSM%2BT91CX96qpv8A8BpQk3%2BB9pguAPF7NqCrYXIqkKb/AOXlW8Yf%2BBSjRj9816n0RrP/AAVl/ZUn1WXQPg9ZeNvifqEBxPZ/Dnwbc35Q/wC%2B4jRvqrEVXH7ev7SniA/aPh//AMEyvijc23Uv4jvbTSZcf9c5WY59s1U0L9ov9urWtNi0f4Cf8E1Lfwto8S4tZ/GfjCz09UHp9igXen51c/43EeKvlJ%2BAXhS3fqw/ta%2Buo/5RGs/r2Y19VVqP/r3h7L/wKq0/nY6/%2BIWcVx/5GWdYHDPrH2%2BHbXyh9alfyvf0J7T9uD9sl7a6s9P/AOCXHjeS7lgCxrN4w0%2BKEfvEOWlIIUcYzjvVb/hZf/BXDxz83hn9mj4T%2BBVfovjLxjcam8Y9zYAAmrNp%2Byp/wUU8bW11/wALC/4KSnSLUwA3GneC/hxZQMw8xBhbmRjIvJBzjtVcf8Eo/g54pPm/HX45fFr4jM/%2Buh8VePrj7OfULHAI9q%2B2aXs89ruy9rb%2B9OjS/wDSIVJfkP8A1C4Xw3/Iy4rc/wC7hcNUm/8AwOVPDw/Gxx3jLxP%2B294dkZvi5/wU7%2BBfw9mXO%2BytNCtZFU%2Bmb%2BZXrzPxZ%2B1n438GK9zqv/BdPwZcOn/LvpPwXtL9W/G28xj%2BFfWHgv8A4Jr/ALB3gGNY9B/ZY8IzbMbW1nTv7Rb87syGvTPCvwe%2BEfgR1k8EfC3w5ozJ9xtK0O3tyv08tBin/Ymb1PiqqP8A3FxEn%2BEqcfwQv7D8HsNvPNMS%2B7r0cOn8o%2B2kvxPzgH7en7c2pfu/hV8bvFPj%2BA/cvvDn7Nsrl/TAeSMc1etf2iP%2BC1fiOyceEfD3xA2PKh26t8FNM09d2G25aa6JX%2BL/ACK/TSrUP/IFuP8Ar6h/9Blo/wBWcdL48fV/7ddvxcpP77ilU8OKStQyetLzq5ljJP5qnClH7mj8zLZv%2BDiHxmn2VXsdEtnPN1cReHoZCv0XzWT8Bmq%2Bsf8ABP3/AILN/FFkn8d/te6fDbMf9I0q68falDFKPRksLWNSPbNfpjRVvhHDVFaviq8/Wq1%2BSRgsw4bpT5qWS4Z%2BVWWMxC/8Bq42MfwPzK0z/giP8ctVcv4s1L4P2tzKc3GrxQa5qty59SLy52H8hXWaB/wQU0UIP%2BEz/aPtLkn7yaR8LtLtQo9AX80/ia/Qmiqp8F8Owd3ScvWT/TlOuPFMcOrYPK8vof8AXvL8Jf8A8Cq068v/ACY%2BL/Cn/BCL9lfw5bRarq3xR%2BIl%2B8k0iSWtvq9rY2xChD9y2tkIJ3H%2BL0rvfD3/AASI/wCCe2gMLiT9n%2BLUrgnMl1rGu3908h9SHnK/kBX07N/yBbf/AK%2Bpv/QYqq130eG8goL3MND5xv8A%2Blcx2LxG45ppxw%2BPnRT0aoqnh1bs1h6OHuvW55Fo37AX7EOhIqWP7Jvw%2Bfb0N34Vtbg/nKjGuk039mD9mrRgBpH7PHga1C/d%2BzeErNMf98xCu5or0IZfgKfwUYL0hH/5E8jEcVcU4v8Aj5hXn616z/Otb8DnoPhL8KrZQlt8MvD0ajoE0WAAfklad18PPAFva2Jt/A2jofsp5TTIh/y1k9Fq9VrUP%2BPSx/69T/6Nkrb2NFNWivuX%2BR5sswzCfxVpv1nN/wDtxmWOi6Npf/IM0m2t/wDrhAqfyFWaKK0SSWhyynObvJ3fnr%2BdwrvPBn/ItW3/AAP/ANDauDrvPBn/ACLVt/wP/wBDasq/wCjualFFFcpYUUUUAFFFFABRRRQAUUUUAFFFFABRRRQAUUUUAFFFFABRRRQAUUUUAFfHn/BTVP7L/aN/Zc8XdPI%2BKN1p%2B7/r6smTH47K%2Bw6%2BQf8AgrwP7O0z9n3xaowdO/aU8NLK392GVbpH/wDZa8vOdMulLs4P7qlM%2B/8AC/3uNsPS/wCfkMTD/wADwmLX6I9uooor6Q/PAooooAtTf8gW3/6%2Bpv8A0GKqtWpv%2BQLb/wDX1N/6DFVWkgCiiimAVa1D/j0sf%2BvU/wDo2SqtWtQ/49LH/r1P/o2Sk90BVooopgFFFFAFrWP%2BPtP%2BvWD/ANFJVWrWsf8AH2n/AF6wf%2BikqrSWwBRRRTAKta5/yGrz/r6k/wDQjVWrWuf8hq8/6%2BpP/QjS6geVfEr9lP4XfFf4q2/xb8WSam19B4ZutEksra7WO2nimjuIlmcBd/nxRXl9HE6uoVb6fIYspXg5P%2BCbvwwv7mO78Q/F7x5qciaRDpzfarrTkVoodL1XS4SFiskWMpa6xcgBAqlkidlZt5k%2Bh6KOVMLnjGjfsSeCfDvjXSfGGgfFDxjaRaDrl3rOjaLHc2LWdrqFzpk%2BnT3IV7QyOzJcSS7XdkEpyFCsyN3Xj34H2XxW1Xwzer4/8Q%2BHdb8P37Ppfibw89qt5EJojBMhFxBLCyurZIMRwyIy7WRSOtq1of8AyGrP/r6j/wDQhSaXKx9Txzxl%2ByJ4T8T/AAv8NfBvRfiJ4m8PeHfCVzpcmiabpK6fNHHHp8Bit4JFvLSdZ4w4inxKGbzoImDDbg2fEH7MUfjDUtNufG3xy8c6xY2V1pt3f6JeXNgtnql1YXQuraeZIrRGiYTJEzJbNBHJ5KB0YF93qFFOyEeP3X7G/hjWdI8SaX4u%2BLvjnXJNf8E3/hO01HVdTtXutF0y8H75LWVLZWeQkRHzrnz5CYIyzN827S%2BLX7KXgD4u6wupalr%2Bt6Tb3Ohx6J4g0vRZoI7bXdKjmMqWN0JIXYRAtKoMLRPtuJV34bFenUUWQHmV9%2ByF4H8deJtc1T4g%2BO/Fmv22paLrNppulapqUTQaEl8BLcNZusKzK%2B%2BKMxtLJL5AXZD5aZU4XiL9irS/EnhG98NXPx%2B8ew3mr%2BM7DxRr%2BvwLo5vNU1CxaxazMgfTmgjSL%2BzbQBIYowwjO/eXYn3TR/8Aj7f/AK9Z/wD0U9VaVlcZ47qP7FfgHXPElxrXiH4g%2BLr2yvNSk1W80M31tBbS6rJph02TUN8FvHPHM0DMdkcqwrI3mLErAEFn%2Bx5ZWd7J4qX9oH4hv4reeyKeMnvdO%2B2pb2sF1DDaNELIWk0IW9umIlgkYyTeYW3pGyexUU7IVzxbQv2FPhL4ZudIj0LxN4lt9L046RLqWhC9ga11y70y4NzZ3l2WgMpmWfbKxhkiWQxxh1ZVC0/QP2C/hZp/h680lPG/iuQaZpVhaeC5pLu03%2BEra01KC8tobDFsAUSWKAf6QJy6QRxuWQFT7NVrT/8Aj0vv%2BvUf%2BjY6TirDuzw3V/2L9IvdE8OaPo3x28daQ/h3xPc%2BI2vrEaRJPqerXDzvLeXJuNPlUsTczARxLHEqsqqgCIFW6/Yh%2BHl3qV7dP8Q/GUdpJcaxd6JpltqcEMWgXmp3Jubu7tJI4Fn8wzNI6iaSWNPMdVQIdo9nop8qFc5D4R/B7TfhLDrlwnizWNf1XxLrP9qa9rmutb/aby4FtBaoSttDDDGqQW0EYWONRhNxyzMx9X%2BG3/L7/wBs/wD2auXrqPht/wAvv/bP/wBmqKv8NjW51FFFFcZYVi/EnwTYfEz4da/8ONUuZIbXxBot1ptzNEPmjjnhaJmHuA5IraooA%2Bb/AAB%2BzV8fZ4fFN58YdG%2BHd9da/wDCfT/AosUvry906aKyi1Ai5uIXt4WkS6l1BlktQ48qKEBZpWkJXjrX9jP9pvw74O1%2Bw8G2fhe0k8feJ7RvHOjv8VtallOg2unC3Syh1m5sJ7uSWeYHzJTFG0ds3kRMrKkw%2BwaKAMrwLpc%2BieCtI0W58MaXor2emwQHR9EuDLZ2OxAoggcxRFokA2qfLj%2BUD5V6DA8W6lcW/iC4hjjtyBswXtY2P3F7lSTXaVwfjP8A5GW5/wCAf%2BgLW1FXkKWxV/ti7/542v8A4Axf/E0f2xd/88bX/wAAYv8A4mqtFdNkQWv7Yu/%2BeNr/AOAMX/xNH9sXf/PG1/8AAGL/AOJqrRRZAaesardR6vdRrFbELcuBus4ifvHqSuTVDUPFMWkWMup6rc6fa20CF57i4toESNR1ZmKgAe5r5z/a1/bD8cXXxfvf2SP2L9ItfEfxQuZnOsapcDfpng62LYN1euAQZQDlIeSTjIOVR8LTP%2BCXXhDx/eQ%2BIf2yfjv43%2BL%2BoowkNhrOrPY6PFIOcxWNsVVOe24g8ZFePLMalapKlgqXtHHRyclGCfa9m5NdVFO2zaei8armtatXlRwFL2ri7Sk5KNOL7c1m5NdVBO2zaei6r4k/8FW/2RfAWtf8Ih4c8djx34hYkQeHvh1oC6xczMOCqtCnk5B4wZAa59/22/28fiUhj%2BBX/BOHUNPgkH7rV/iZrFjpQh9C9mFMre4Vs17x8Nvg/wDCj4N6MPD3wn%2BG%2Bh%2BG7LA3W%2BiaXFbK5HdvLUbj7nJNc98ev2sv2df2ZNK/tP43fFjStEdk32%2BnyTGW8uB/0ztow0snPGQpA7kVlWo46NJ1cZi40orfkjGKX/b9Ryf4LyR2Zbw/xZxBjIYTDzlOrPRU8PScpP0clUm/VRilvpueReH/APgn/wDEv9pTxNp/in/goz8cZvGafbI5Ivhv4RVtL8NWh3AhXWPbLeFT0eQq3JB3Cvfvh98N/g38A/D8lr8Nfhr4S8J6dDFm5fTNAtLRdo5LSOsY3epZiT3Jr590r9rD9tv9pnU7az/Y2/Zi/wCEU0We4QQfEL4wbrSMgsMSQafETNKD1VySp43AUWP/AATQX4q3kXiH9uH9ovxb8V7pXEn9gG5Ok6DC4ORssrVhkg8biw3AcrXHhXhoz5suwzqSe9Wd0n58805yX%2BCKXbQ/QcJ4YZFwxL2vEWOp4er1hD/a8Y/KShJ06T8quIjy/wDPtbHV/Er/AIKrfsm%2BA9d/4Qzwx4xfx94iJIi8O/Djw8usXMhHBAaFfKyDwQZAfaufP7bP7d/xKHlfA3/gnJqGnW8v%2Br1j4maxY6UIfQvaBWlb3Ctmvdvhp8HfhR8GdEHhz4TfDfRPDdjgbrfRdMit1cju%2BwAu3%2B02SfWukr0fqWa19a2I5PKnFL/yafNL58qO98QcBZX7uXZO8Q19vF15yv5%2Bxw3saSXk6k%2BzbPmKT4Cf8FJvjWPM%2BOv7Z2heBbCTmXQPhD4TjRwD2F/dL5yEewINWPDf/BJD9lDV9WXVfjVfeOPidfQwyyreeP8Axtd3Z8wRsQxWJo0PI6EEV9K1a0f/AI%2B3/wCvWf8A9FPR/YOWNXrRdV96kpT/AAb5fuiTLxQ4zpLky6tHBQ/lwtKlh9P8dOHtX6yrtvrc4L4b/s4/s7/B%2BNF%2BGHwC8E6JJGMC5sPCdmk592l8rex9yxNd7/a93/zxtf8AwBi/%2BJqrRXqUsPQoQ5aUFFdkkl9ySPisdmOY5nXdfG1p1Zv7U5ynL75yk/xLX9sXf/PG1/8AAGL/AOJo/ti7/wCeNr/4Axf/ABNVaK0sjjNOx1W6a2vGMVt8tsCMWcQ/5aoOfl5696rf2xd/88bX/wAAYv8A4mjT/wDj0vv%2BvUf%2BjY6q0kldgWv7Yu/%2BeNr/AOAMX/xNH9sXf/PG1/8AAGL/AOJqrRTsgLX9sXf/ADxtf/AGL/4mrMWq3R0ieTyrbIuYgP8AQ4scrJ2247f5zWZVqH/kC3H/AF9Q/wDoMtJpAH9sXf8Azxtf/AGL/wCJo/ti7/542v8A4Axf/E1Vop2QFr%2B2Lv8A542v/gDF/wDE0f2xd/8APG1/8AYv/iaq0UWQGnLqt0NIgk8q2ybmUH/Q4scLH2247/5xVb%2B2Lv8A542v/gDF/wDE0Tf8gW3/AOvqb/0GKqtJJAWv7Yu/%2BeNr/wCAMX/xNH9sXf8Azxtf/AGL/wCJqrRTsgLX9sXf/PG1/wDAGL/4mrN9qt0ttZsIrb5rYk5s4j/y1ccfLx07VmVa1D/j0sf%2BvU/%2BjZKTSugD%2B2Lv/nja/wDgDF/8TR/bF3/zxtf/AABi/wDiaq0U7IC1/bF3/wA8bX/wBi/%2BJrtfCUz3Hh%2B3mkCAnfkIgUffbsAAK4Cu88Gf8i1bf8D/APQ2rGskolR3NSiiiuYoKKKKACiiigAooooAKKKKACiiigAooooAKKKKACiiigAooooAKKK%2BUP2b/iT8AND/AGr/ANoDwT8LfjB4Vn8Q6xrGnXNvYv4uhurq61E2RWUYeVpG2TFYvLHyxBUiCqqqoAPq%2BvkH/gtX/oP7KvhnxV0/sL4ueG7/AHf3dtyUz/4/VL/gmoPA48XaQPhLHbhR8ENCHxXNqAJP%2BEs86TeNQxz/AGpn7Z9o8z9/zF5nHl1p/wDBcmzab/gmt441GDPn6df6PeW%2BFz8yanbZz6fKW5//AF15eef8ifEPtCT%2B73v0Pv8AwqaXiXk8XtLEU4fKo5U3/wCnD2iipbGbw/f2UN/BqN0Y54lkQ/Y16EZH/LT3qXydF/6CF1/4Br/8cr6NSTR%2BeuLi2nuirRVrydF/6CF1/wCAa/8AxyjydF/6CF1/4Br/APHKLiCb/kC2/wD19Tf%2BgxVVrTli0j%2ByIAb652/aZcH7KuSdseeN/wBKreTov/QQuv8AwDX/AOOUkwKtFWvJ0X/oIXX/AIBr/wDHKPJ0X/oIXX/gGv8A8cp3Aq1a1D/j0sf%2BvU/%2BjZKPJ0X/AKCF1/4Br/8AHKs30WkG2s999cgC2O0i1U5Hmv1%2BfjnNJvVAZlFWvJ0X/oIXX/gGv/xyjydF/wCghdf%2BAa//AByncCrRVrydF/6CF1/4Br/8co8nRf8AoIXX/gGv/wAcouAax/x9p/16wf8AopKq1p6rFpBuV8y%2BuQfs0PAtVPHlLj%2BP0qt5Oi/9BC6/8A1/%2BOUk9AKtFWvJ0X/oIXX/AIBr/wDHKPJ0X/oIXX/gGv8A8cp3Aq1a1z/kNXn/AF9Sf%2BhGjydF/wCghdf%2BAa//AByrOsRaQdXujLfXIb7S%2B4LaqQDuPfeM0r6gZlFWvJ0X/oIXX/gGv/xyjydF/wCghdf%2BAa//AByncCrVrQ/%2BQ1Z/9fUf/oQo8nRf%2Bghdf%2BAa/wDxyrOjxaQNXtTFfXJb7Sm0NaqATuHU7zik3owMyirXk6L/ANBC6/8AANf/AI5R5Oi/9BC6/wDANf8A45TuBVoq15Oi/wDQQuv/AADX/wCOUeTov/QQuv8AwDX/AOOUXANH/wCPt/8Ar1n/APRT1VrT0qLSBct5d9ck/ZpuGtVHHlNn%2BP0qt5Oi/wDQQuv/AADX/wCOUr6gVaKteTov/QQuv/ANf/jlHk6L/wBBC6/8A1/%2BOU7gVataf/x6X3/XqP8A0bHR5Oi/9BC6/wDANf8A45Vmxi0gW15svrkg2w3E2qjA81Onz884pN6AZlFWvJ0X/oIXX/gGv/xyjydF/wCghdf%2BAa//AByncCrXUfDb/l9/7Z/%2BzVg%2BTov/AEELr/wDX/45XR%2BAEsk%2B1/Y7iWT/AFe7zYQmPvdMMc1nVfuMa3OjooorkLCiiigAooooAK4Pxn/yMtz/AMA/9AWu8rg/Gf8AyMtz/wAA/wDQFrah8ZMtjLooorqJCvlb49ftP/FP9oH4mX/7Hv7Cuoxrq1o3lfEL4nlPMsfCcJJDQwsOJr44YBQfkIPIKu0Vz9tb45fEPx345sP2DP2XNXMHjnxVaed4t8RwZZfCOhnAluWIPyzyKdsS5DfMDlS0bV7R%2Bz9%2Bz/8ADD9mX4W6d8I/hN4fjsdMsIx5khAM15OQA9xM%2BMySuRksfYABQAPEr1a2Z4iWFoScacdKk1u3/wA%2B4Po7fHLeN%2BWPvNuPgYirXzbEzwmHk40oaVJrdv8A59wfR2%2BOe8bqMffbcav7O/7K/wAKv2SPBs3w4%2BGVhNI73bza3ruoyebf6zdknfc3Mp5kdjk%2Bi5wABU/7Qn7Rfwl/Zf8Ah1cfE74weJVsLCJhFa28a%2BZc305%2B7b28Q5lkbHAHAGSxCgkZH7ZP7X/w8/ZWt8atZXWveK9dv5Lbwj4I0ZfM1DWbkuQqogBKxgkbpCML0AZiFPmf7PP7IXxD8c/Ei2/a5/bnvbXWvHiDf4W8I27b9K8GQk5EcKZKy3PTdMc4YfKWKh6U8QqFsBl0FzxSv/JTXeVt291BPmlu2o3k/wBW4a4OyrAZPDN88vQwCuqVOFlWxMo7woJp8tNPSriZJwhdqPtazUFjLff8FB/218HTIJv2ffh3c8i5uFWfxZqUJ/ur9zT8j1xIh5BcV6X8Bf8Agn7%2By7%2Bz3qn/AAlvhrwEda8USSeZc%2BMfFlwdS1SaXvJ50ufLY9zGEzXtNFb0Mow0KirV26tRfanZ2/wx%2BGH/AG7G/wDeZeZ8f5ziMHLL8sjHA4OWjo4e8Odf9Pqrftq77%2B1qcvalFaFrQ/8AkNWf/X1H/wChCqtWtD/5DVn/ANfUf/oQqrXqdT4UKKKKYBVrR/8Aj7f/AK9Z/wD0U9VataP/AMfb/wDXrP8A%2BinpPYCrRRRTAKKKKALWn/8AHpff9eo/9Gx1Vq1p/wDx6X3/AF6j/wBGx1VpLdgFFFFMAq1D/wAgW4/6%2Bof/AEGWqtWof%2BQLcf8AX1D/AOgy0mBVooopgFFFFAFqb/kC2/8A19Tf%2BgxVVq1N/wAgW3/6%2Bpv/AEGKqtJAFFFFMAq1qH/HpY/9ep/9GyVVq1qH/HpY/wDXqf8A0bJSe6Aq0UUUwCu88Gf8i1bf8D/9DauDrvPBn/ItW3/A/wD0Nqxr/AOO5qUUUVylhRRRQAUUUUAFFFFABRRRQAUUUUAFFFFABRRRQAUUUUAFFFFABRRRQAV80/8ABX/SP7b/AOCdPxNs9m7ZoRuMf9cmEuf/AByvpavEf%2BCj%2Bkf27%2Bw58UtKCbml8Cax5Y/2xp9wy/qBXHmMPa5fWh3hP/0iR9RwRifqXGuV1/5MTh391ej/AJlX4I6v/b/wX8Ia7v3fbfC%2Bn3G71320bZ/Wuory/wDYk1f%2B3f2NvhTqpfc0vw60XzDn%2BMWUKt%2BoNeoV6eDn7XB0p94xf3xi/wBTy%2BIsN9S4hxuH/krVo/8AgNWrH/20KKKK6Txy1N/yBbf/AK%2Bpv/QYqq1am/5Atv8A9fU3/oMVVaSAKKKKYBVrUP8Aj0sf%2BvU/%2BjZKq1a1D/j0sf8Ar1P/AKNkpPdAVaKKKYBRRRQBa1j/AI%2B0/wCvWD/0UlVatax/x9p/16wf%2BikqrSWwBRRRTAKta5/yGrz/AK%2BpP/QjVWrWuf8AIavP%2BvqT/wBCNLqBVooopgFWtD/5DVn/ANfUf/oQqrVrQ/8AkNWf/X1H/wChCk9mBVooopgFFFFAFrR/%2BPt/%2BvWf/wBFPVWrWj/8fb/9es//AKKeqtLqAUUUUwCrWn/8el9/16j/ANGx1Vq1p/8Ax6X3/XqP/RsdJ7AVaKKKYBXUfDb/AJff%2B2f/ALNXL11Hw2/5ff8Atn/7NWdX%2BGxrc6iiiiuMsKq67rek%2BGdEvPEmvX8drY6fayXN7cynCwxRqWdz7BQSfpVqsX4k%2BCbD4mfDrX/hxqlzJDa%2BINFutNuZoh80cc8LRMw9wHJFAHmvhb9t34Zaz4A8W/EPxZ4P8UeE7bwb4Mt/F2p2XiKxg%2B0y6HPDcywXsSWs82RILO5URMVmV4irxoSuYJf22vD8UqeF/wDhRvjxvGraw9g3w8SPSzqqBbEXxuS/277H5HkMvzi4OXYRAeZlBzXgD9mr4%2Bzw%2BKbz4w6N8O7661/4T6f4FFil9eXunTRWUWoEXNxC9vC0iXUuoMslqHHlRQgLNK0hK8p8Ov2I/jr8KfHyftHeDNM8Jf8ACZnVpo5PDGr/ABA1jUbL%2By30uG0VW1e6tZLuadZ4EmBeDaIiLcYCLLQB9Q/Djx/4X%2BK/w90L4o%2BB783Wi%2BJNHttU0m5aMoZba4iWWJircqSjqcHkdDXO%2BM/%2BRluf%2BAf%2BgLVr9nX4Tn4D/APwX8FX1n%2B0pPCnhaw0mbURF5Yu5IIEjebZk7A7KW25OM47U3xbqVxb%2BILiGOO3IGzBe1jY/cXuVJNbUfiFLYw680/a/wD2h9L/AGWv2d/EnxmvYVuLvT7PytEsCCTe6hKfLtoAByd0jLnHIUMe1eq/2xd/88bX/wAAYv8A4mvkn4p6jcftk/8ABQ3w98Go44LjwR8CFh8S%2BLAlrH5N34hmU/YLZ8LhvKTdNg5GfMVh0rmzXE1qGF5KP8So1CH%2BKXX0iuaT/wAK7nj5xiquHwnJQf72o1CHlKX2vSEeab/wrud1%2Bwj%2BzHf/AAC%2BGM3i/wCJV3JqfxL8dSJrHxD127IaaW9kG4WwI4WKAMY1UfLncQAGwJ/2x/2t0/Z10XTPBHw88Of8JT8TfGMxs/A3g%2BA5a4mPBuZ8EeXbR/ediRnBGVG5l6/9qz9qbQP2Vfghq/xf8TWVvdyWqrb6NpMNlF5uqahJ8sFrGAhJZ364BKqGbB2mvO/2Kv2afGngvV9R/ar/AGlrq11n4weN7ZG1aaSzjMHh6zOGj0uzQgiJEGA5X7zDktjc3FNTw8YZXgPdkleUt%2BSLfxPvUm%2Bblv1vOWiSf6XwZw3keR5Gs9zeHNhaUnCjRu1LFV4pScZSWqow5lPE1E%2BaTkqMH7Sq3Tt/sxfsW3Hwj8Yal8fP2g/Fg8c/GPXiw17xXcp%2B5sFJObOwjIAggXJXKhS47KCEHutaesardR6vdRrFbELcuBus4ifvHqSuTVb%2B2Lv/AJ42v/gDF/8AE16uDwlDBYdUqMbLfe7be7berb3ber%2B5Lws%2Bz/NeJcyljswqc02kkklGMIR0jTpwjaMKcFpCEUoxXduUpVaKtf2xd/8APG1/8AYv/iaP7Yu/%2BeNr/wCAMX/xNdWp4waH/wAhqz/6%2Bo//AEIVVrT0fVbqTV7WNorYBrlAdtnED94dwuRVb%2B2Lv/nja/8AgDF/8TS1uBVoq1/bF3/zxtf/AABi/wDiaP7Yu/8Anja/%2BAMX/wATT1Aq1a0f/j7f/r1n/wDRT0f2xd/88bX/AMAYv/ias6Vqt1JcsrRW3/HtMeLOIdImPZaTvYDMoq1/bF3/AM8bX/wBi/8AiaP7Yu/%2BeNr/AOAMX/xNPUCrRVr%2B2Lv/AJ42v/gDF/8AE0f2xd/88bX/AMAYv/iaNQDT/wDj0vv%2BvUf%2BjY6q1p2Oq3TW14xitvltgRiziH/LVBz8vPXvVb%2B2Lv8A542v/gDF/wDE0le7Aq0Va/ti7/542v8A4Axf/E0f2xd/88bX/wAAYv8A4mnqBVq1D/yBbj/r6h/9Blo/ti7/AOeNr/4Axf8AxNWYtVujpE8nlW2RcxAf6HFjlZO23Hb/ADmk7gZlFWv7Yu/%2BeNr/AOAMX/xNH9sXf/PG1/8AAGL/AOJp6gVaKtf2xd/88bX/AMAYv/iaP7Yu/wDnja/%2BAMX/AMTRqATf8gW3/wCvqb/0GKqtacuq3Q0iCTyrbJuZQf8AQ4scLH2247/5xVb%2B2Lv/AJ42v/gDF/8AE0lcCrRVr%2B2Lv/nja/8AgDF/8TR/bF3/AM8bX/wBi/8AiaeoFWrWof8AHpY/9ep/9GyUf2xd/wDPG1/8AYv/AImrN9qt0ttZsIrb5rYk5s4j/wAtXHHy8dO1J3ugMyirX9sXf/PG1/8AAGL/AOJo/ti7/wCeNr/4Axf/ABNPUCrXeeDP%2BRatv%2BB/%2BhtXG/2xd/8APG1/8AYv/ia7XwlM9x4ft5pAgJ35CIFH327AACsa1%2BUqO5o0UUVzFBRRRQAUUUUAFFFFABRRRQAUUUUAFFFFABRRRQAUUUUAFFFFABRRRQAV5z%2B1npH/AAkH7PnirQQu77boN9b49d9pMv8AWvRq5z4o2cOoeFzYXAzHPL5bj2ZHB/nQ4e0Th3TX3pr9ToweIeExlKut4SjL/wABlGX/ALafLX/BMTVzrf7AnwtvC2dnhhLfP/XKR4v/AGSveK%2BZP%2BCO95NP/wAE8fAdhdH9/p02rWkw9CmqXYA/75219N1nkc/aZLhpd6cP/SV/kfV%2BJmHWF8R85oraOLxH3e2m1%2BEgooor1D4gtTf8gW3/AOvqb/0GKqtWpv8AkC2//X1N/wCgxVVpIAooopgFWtQ/49LH/r1P/o2SqtWtQ/49LH/r1P8A6NkpPdAVaKKKYBRRRQBa1j/j7T/r1g/9FJVWrWsf8faf9esH/opKq0lsAUUUUwCrWuf8hq8/6%2BpP/QjVWrWuf8hq8/6%2BpP8A0I0uoFWiiimAVa0P/kNWf/X1H/6EKq1a0P8A5DVn/wBfUf8A6EKT2YFWiiimAUUUUAWtH/4%2B3/69Z/8A0U9VataP/wAfb/8AXrP/AOinqrS6gFFFFMAq1p//AB6X3/XqP/RsdVataf8A8el9/wBeo/8ARsdJ7AVaKKKYBXUfDb/l9/7Z/wDs1cvXUfDb/l9/7Z/%2BzVnV/hsa3OoooorjLCiiigAooooAK4Pxn/yMtz/wD/0Ba7yuD8Z/8jLc/wDAP/QFrah8ZMtjz/48fFfR/gV8F/FPxj17abbw1oVzftGzY85o4yyRD3d9qD3YV5T/AME0/hDqvw1/Zg0/xz47dpvGHxGuZPF3jG%2BnXEkt1e/vVU/3QkRjXb0DB%2BmTXNf8FM55vis/wv8A2KNKlYyfFTxxCdfjjbkaHp5W7vDx0PyxYzwdpFdB/wAFIPiv4h%2BHf7PsHwe%2BEwVPGnxP1KHwj4Qt4TtMJufkmn%2BXlEig3/OOEZkNePicVThj62Kmrxw8LJd5zs2l58vJBf4yOF8ixPGPHlLLqDS5eWmpP4YOfv1aku0aVCDlJ9IqXfXiPhiD/wAFBv2vpPj1fA3Hwl%2BD2pS2PgGFuYde19cCfU8dHjh4WJuRu2spB3rX19XJ/Ar4PeFfgB8HvDnwZ8FwBNO8O6VFZwuECmZlH7yZgP45HLSMe7Oa6yvRyzCVMLQcqzvVm%2Bab/vPov7sVaMfJX3bPsONM/wALneaRo4CLhgsNH2OHg91Si2%2BeX/TytPmrVX1nNR2pxSta5/yGrz/r6k/9CNVata5/yGrz/r6k/wDQjVWvQWyPkAooopgWtD/5DVn/ANfUf/oQqrVrQ/8AkNWf/X1H/wChCqtLqAUUUUwCrWj/APH2/wD16z/%2BinqrVrR/%2BPt/%2BvWf/wBFPSewFWiiimAUUUUAWtP/AOPS%2B/69R/6NjqrVrT/%2BPS%2B/69R/6NjqrSW7AKKKKYBVqH/kC3H/AF9Q/wDoMtVatQ/8gW4/6%2Bof/QZaTAq0UUUwCiiigC1N/wAgW3/6%2Bpv/AEGKqtWpv%2BQLb/8AX1N/6DFVWkgCiiimAVa1D/j0sf8Ar1P/AKNkqrVrUP8Aj0sf%2BvU/%2BjZKT3QFWiiimAV3ngz/AJFq2/4H/wChtXB13ngz/kWrb/gf/obVjX%2BAcdzUooorlLCiiigAooooAKKKKACiiigAooooAKKKKACiiigAooooAKKKKACvhr9j/X/A/h344eFJdIutPi8aT%2BDvF8Hxsit544r268QtrNgbKG%2BJIZrtmXUfsiycm3Exi/d4r7looA%2BGv%2BCR1npum%2BI7%2BLRda8O6mLr4T%2BF5dZfwpYG2OnagJb/zLTWzvc3euAMPtF04gkk2fNbQcb/svx2tq2kRi7mkRftIwY4wxztbsSK2qwfiH/yBYv8Ar6X/ANBarp/GhPY%2BNf8AgkhHpdn%2BzZ4h8LT3lwh0L4peIrAIlsrBQt4XA%2B%2BMff6V9ReTov8A0ELr/wAA1/8AjlfKv/BMn/iWyfHzwo3H9nftF%2BJDCvpFJ9ndP619QVyZArZNRXZNfdKcf0PvvFX3vETMan884z/8GUcPU/8AcjLXk6L/ANBC6/8AANf/AI5R5Oi/9BC6/wDANf8A45VWivXt5n58acsWkf2RADfXO37TLg/ZVyTtjzxv%2BlVvJ0X/AKCF1/4Br/8AHKJv%2BQLb/wDX1N/6DFVWkkBa8nRf%2Bghdf%2BAa/wDxyjydF/6CF1/4Br/8cqrRTt5gWvJ0X/oIXX/gGv8A8cqzfRaQbaz331yALY7SLVTkea/X5%2BOc1mVa1D/j0sf%2BvU/%2BjZKTWqAPJ0X/AKCF1/4Br/8AHKPJ0X/oIXX/AIBr/wDHKq0U7eYFrydF/wCghdf%2BAa//AByjydF/6CF1/wCAa/8AxyqtFFvMDT1WLSDcr5l9cg/ZoeBaqePKXH8fpVbydF/6CF1/4Br/APHKNY/4%2B0/69YP/AEUlVaSWgFrydF/6CF1/4Br/APHKPJ0X/oIXX/gGv/xyqtFO3mBa8nRf%2Bghdf%2BAa/wDxyrOsRaQdXujLfXIb7S%2B4LaqQDuPfeM1mVa1z/kNXn/X1J/6EaVtQDydF/wCghdf%2BAa//AByjydF/6CF1/wCAa/8AxyqtFO3mBa8nRf8AoIXX/gGv/wAcqzo8WkDV7UxX1yW%2B0ptDWqgE7h1O84rMq1of/Ias/wDr6j/9CFJrRgHk6L/0ELr/AMA1/wDjlHk6L/0ELr/wDX/45VWinbzAteTov/QQuv8AwDX/AOOUeTov/QQuv/ANf/jlVaKLeYGnpUWkC5by765J%2BzTcNaqOPKbP8fpVbydF/wCghdf%2BAa//AByjR/8Aj7f/AK9Z/wD0U9VaVtQLXk6L/wBBC6/8A1/%2BOUeTov8A0ELr/wAA1/8AjlVaKdvMC15Oi/8AQQuv/ANf/jlWbGLSBbXmy%2BuSDbDcTaqMDzU6fPzzisyrWn/8el9/16j/ANGx0mtADydF/wCghdf%2BAa//AByjydF/6CF1/wCAa/8AxyqtFO3mBa8nRf8AoIXX/gGv/wAcro/ACWSfa/sdxLJ/q93mwhMfe6YY5rkq6j4bf8vv/bP/ANmrOqvcY1udRRRRXIWFFFVdd1vSfDOiXniTXr%2BO1sdPtZLm9uZThYYo1LO59goJP0oAtUV4z4a/bf8Ahpq3w88X/EfxV4K8V%2BFrfwX4Kg8X6nYa/YW5uptDnhuZYL2JLaeYESCzuVETlJlaEh40yuc27/b48I2dxceGpvgf47/4Sqz1W4sr3wcP7I%2B2QCHTodRknM/9ofYmjFtcQthbhpCXxs%2BVsAHvFcH4z/5GW5/4B/6AtdP4E8aaB8SPA%2BjfETwrcSS6Xr2lW%2Bo6bLLC0bvbzxLLGzIwBUlWBKkZHQ1xPxe8QWvhNNb8U32PI0ywe7mycfJHDvP6CtaTUW29kiJyUYuT2R8o/A//AIyC/wCClXxM%2BNsv77RfhVolv4H8OueUN/IftGoSL6SRtiEnurCoPhB/xlp/wUN8VfHif/SPB/wUt5fCfg1jzHPrcwB1K5T/AGo0Ig9CGRhXO/sb%2BMpf2d/%2BCR%2BqftI6zP8A8T/V9J13xdqd5JwbzU7iabyGPu222SvaP%2BCd/wAIV%2BCf7GfgLwlc2xTUbvQ49V1t5MmSS9vB9pmMjHlmDSbMnsgHQCvmsvhLGSw8J/aviZ%2Bspfu4v0un/wBuI%2Bq8Pr5F4bY7iJq2Ixsvq9N9YqvH2%2BJkvNYeNHDq2yqz76%2B1UUUV9gfKFrXP%2BQ1ef9fUn/oRqrVrXP8AkNXn/X1J/wChGqtJbIAooopgWtD/AOQ1Z/8AX1H/AOhCqtWtD/5DVn/19R/%2BhCqtLqAUUUUwCrWj/wDH2/8A16z/APop6q1a0f8A4%2B3/AOvWf/0U9J7AVaKKKYBRRRQBa0//AI9L7/r1H/o2OqtWtP8A%2BPS%2B/wCvUf8Ao2OqtJbsAooopgFWof8AkC3H/X1D/wCgy1Vq1D/yBbj/AK%2Bof/QZaTAq0UUUwCiiigC1N/yBbf8A6%2Bpv/QYqq1am/wCQLb/9fU3/AKDFVWkgCiiimAVa1D/j0sf%2BvU/%2BjZKq1a1D/j0sf%2BvU/wDo2Sk90BVooopgFd54M/5Fq2/4H/6G1cHXeeDP%2BRatv%2BB/%2BhtWNf4Bx3NSiiiuUsKKKKACiiigAooooAKKKKACiiigAooooAKKKKACiiigAooooAKKKKACsH4h/wDIFi/6%2Bl/9Bat6vnD9qj4v6z4F/bU%2BBnw1TWriLSvG2g%2BMLa5sBMRDNdW0emXMEjL0LoiXCqTyBM4H3jWdTEQw3LOezlGP/gT5V%2BLRzYvFU8JSU57OUY/OUlFfi0ePfsH40r9pj9prwqOPJ%2BJtvf7f%2BvqzV8/jtr6gr5f/AGWf%2BJR/wUg/af0I8Jdp4Pv7dfrpkiyH/vrFfUFZ5HpgHH%2BWdVfdVn/mfo3ib7/FMa3/AD8w2Cn/AOBYLDX/ABi/uCiiivYPz4tTf8gW3/6%2Bpv8A0GKqtWpv%2BQLb/wDX1N/6DFVWkgCiiimAVa1D/j0sf%2BvU/wDo2SqtWtQ/49LH/r1P/o2Sk90BVooopgFFFFAFrWP%2BPtP%2BvWD/ANFJVWrWsf8AH2n/AF6wf%2BikqrSWwBRRRTAKta5/yGrz/r6k/wDQjVWrWuf8hq8/6%2BpP/QjS6gVaKKKYBVrQ/wDkNWf/AF9R/wDoQqrVrQ/%2BQ1Z/9fUf/oQpPZgVaKKKYBRRRQBa0f8A4%2B3/AOvWf/0U9VataP8A8fb/APXrP/6KeqtLqAUUUUwCrWn/APHpff8AXqP/AEbHVWrWn/8AHpff9eo/9Gx0nsBVooopgFdR8Nv%2BX3/tn/7NXL11Hw2/5ff%2B2f8A7NWdX%2BGxrc6iiiiuMsKxfiT4JsPiZ8Otf%2BHGqXMkNr4g0W6025miHzRxzwtEzD3AckVtUUAfLtj%2Byr%2B0/wCI/CPje08Z%2BI/Cei694n%2BD1j4D07VPDetXkq2f2KLUCmo4a2icNPNftuhVgYEgUpNKzkrxVz/wTh8azWkn/Fifg1J4Yk1%2B7vYPgbLqdwPC1i8ulW1kt/FIumj/AEpZIZn2raIuLuQhxLmRvteigDm/g54N1/4dfCLwr8PvFfi6fxBqmheG7HTtS166BEupXEFukUly%2BSTukZS5yTy3U14j/wAFKfH8/gD9kb4ua3GYUZPAt/bwSNboWWSe1MKHcRnIaQY5r6Sr4m/4LYXlzcfsjeIfAdhKUuvGHiLQtDtSvXdLe27kD6rGw/GuPMqro5XiJrdQlb1aaX4tHk59Wlh8kxNSO6pzt6uLS/GSPJf2lNDu4/2Av2ef2IbSONJ/iHqPhTQtVijt0WT7FBFFdXsu4Dd8rRoTz/Ea%2B64tSmgiWCC1s0RFCoi2EICgdABt4FfJ3iCztvin/wAFWPCHg6yiDaT8GfhjdaptHKw6jqLrapER6/ZlDg%2B1fVNTk9GKr16i2i40l6UoJP8A8nlL7j9P4morJeEMhyOOjhQliJr%2B9iZ%2B5fzWHw9L5S%2B%2B1/bF3/zxtf8AwBi/%2BJo/ti7/AOeNr/4Axf8AxNVaK92yPgjT1jVbqPV7qNYrYhblwN1nET949SVyarf2xd/88bX/AMAYv/iaNc/5DV5/19Sf%2BhGqtJJWQFr%2B2Lv/AJ42v/gDF/8AE0f2xd/88bX/AMAYv/iaq0U7IDT0fVbqTV7WNorYBrlAdtnED94dwuRVb%2B2Lv/nja/8AgDF/8TRof/Ias/8Ar6j/APQhVWlZXAtf2xd/88bX/wAAYv8A4mj%2B2Lv/AJ42v/gDF/8AE1Vop2QFr%2B2Lv/nja/8AgDF/8TVnStVupLllaK2/49pjxZxDpEx7LWZVrR/%2BPt/%2BvWf/ANFPSaVgD%2B2Lv/nja/8AgDF/8TR/bF3/AM8bX/wBi/8Aiaq0U7IC1/bF3/zxtf8AwBi/%2BJo/ti7/AOeNr/4Axf8AxNVaKLIDTsdVumtrxjFbfLbAjFnEP%2BWqDn5eeveq39sXf/PG1/8AAGL/AOJo0/8A49L7/r1H/o2OqtJJXYFr%2B2Lv/nja/wDgDF/8TR/bF3/zxtf/AABi/wDiaq0U7IC1/bF3/wA8bX/wBi/%2BJqzFqt0dInk8q2yLmID/AEOLHKydtuO3%2Bc1mVah/5Atx/wBfUP8A6DLSaQB/bF3/AM8bX/wBi/8AiaP7Yu/%2BeNr/AOAMX/xNVaKdkBa/ti7/AOeNr/4Axf8AxNH9sXf/ADxtf/AGL/4mqtFFkBpy6rdDSIJPKtsm5lB/0OLHCx9tuO/%2BcVW/ti7/AOeNr/4Axf8AxNE3/IFt/wDr6m/9BiqrSSQFr%2B2Lv/nja/8AgDF/8TR/bF3/AM8bX/wBi/8Aiaq0U7IC1/bF3/zxtf8AwBi/%2BJqzfardLbWbCK2%2Ba2JObOI/8tXHHy8dO1ZlWtQ/49LH/r1P/o2Sk0roA/ti7/542v8A4Axf/E0f2xd/88bX/wAAYv8A4mqtFOyAtf2xd/8APG1/8AYv/ia7XwlM9x4ft5pAgJ35CIFH327AACuArvPBn/ItW3/A/wD0NqxrJKJUdzUooormKCiiigAooooAKKKKACiiigAooooAKKKKACiiigAooooAKKKKACiua%2BM3iHxL4R%2BD/ivxX4Ms/tGsaZ4avrvSrfy9/m3Mdu7xLt/iy6qMd818l6f8UviN8IPgr8YtS%2BEvxQ8Q%2BKX0j9l/RvG%2BjalruvTavJHrtza62WuY3uXcBZls7WUWyFYV2ZREEpyAfbNfHf8AwVyiXwS/wI/aJj%2BU%2BDfjVpttqE3/ADy06/SSC5Of%2BAxjHfNeqfsXapfaY3jb4Ta9/b41Pwxrdmboaz8QbnxPEY7nT7eaJoL66jjnwwy7wOMRyOxjPlulcv8A8FgPh4/xK/4J3/EfSbd9lxpukjWbVxner2Li7%2BUgHDbYWHbgmvNzeEp5ZV5fiiuZesLTX/pP4nj8QU51Mlr8nxRjzL1g1NfjD8Tyf4Xf8Sf/AIKz/FPTun9s/CzRL/H97yZmgz%2BuK%2BoK%2BN/E3ja00X9q39mn9s201W3TSvjB4KXwh4knUOFjluoEv9PVhtwWa4Z04yQExX2l/Z9p/wBBy1/74l/%2BIrbJasHGvBdKkpL/AA1FGpF/NSf3M/U%2BOZxx%2BEybNaTvTr4Ggk/71DnoVF6pxpv0lF9SrRVr%2Bz7T/oOWv/fEv/xFH9n2n/Qctf8AviX/AOIr27o%2BACb/AJAtv/19Tf8AoMVVa05bG1OkQJ/bFsALmUhtsuD8sfH3M/8A66rf2faf9By1/wC%2BJf8A4ikmgKtFWv7PtP8AoOWv/fEv/wARR/Z9p/0HLX/viX/4indAVatah/x6WP8A16n/ANGyUf2faf8AQctf%2B%2BJf/iKs31jatbWYOsWwxbEAlZfm/evyPk/Dn0pNq6AzKKtf2faf9By1/wC%2BJf8A4ij%2Bz7T/AKDlr/3xL/8AEU7oCrRVr%2Bz7T/oOWv8A3xL/APEUf2faf9By1/74l/8AiKLoA1j/AI%2B0/wCvWD/0UlVa09VsbVrlS2sWy/6NCMMsv/PJeeE79arf2faf9By1/wC%2BJf8A4ikmrAVaKtf2faf9By1/74l/%2BIo/s%2B0/6Dlr/wB8S/8AxFO6Aq1a1z/kNXn/AF9Sf%2BhGj%2Bz7T/oOWv8A3xL/APEVZ1ixtX1e6dtYtlJuXJVllyPmPBwmKV1cDMoq1/Z9p/0HLX/viX/4ij%2Bz7T/oOWv/AHxL/wDEU7oCrVrQ/wDkNWf/AF9R/wDoQo/s%2B0/6Dlr/AN8S/wDxFWdHsbVNXtXXWLZiLlCFVZcn5hxymKTaswMyirX9n2n/AEHLX/viX/4ij%2Bz7T/oOWv8A3xL/APEU7oCrRVr%2Bz7T/AKDlr/3xL/8AEUf2faf9By1/74l/%2BIougDR/%2BPt/%2BvWf/wBFPVWtPSrG1W5YrrFs3%2BjTDAWX/nk3PKdutVv7PtP%2Bg5a/98S//EUrq4FWirX9n2n/AEHLX/viX/4ij%2Bz7T/oOWv8A3xL/APEU7oCrVrT/APj0vv8Ar1H/AKNjo/s%2B0/6Dlr/3xL/8RVmxsbVba8A1i2ObYAkLL8v71OT8n4cetJtWAzKKtf2faf8AQctf%2B%2BJf/iKP7PtP%2Bg5a/wDfEv8A8RTugKtdR8Nv%2BX3/ALZ/%2BzVg/wBn2n/Qctf%2B%2BJf/AIiuj8AW8UH2vyr6KbPl58oOMfe67lFZ1WuRjW50dFFFchYUUUUAFFFFABXxD/wVPH/CU/Gf4AfCZef7W%2BN%2BmapPGP8AlpBYW7zSKfb5xn6Cvt6vgf8Ab48SqP8AgpR8LJGcGP4f/DzxZ4suUPQbrBbeNj9GQ4968zOJJYBxe0pQj8nOLf4RZ5GdUamLwsMJTV5VqtGml3c6tNfoP/4J0/8AFzfiR8df2qZvnXxh8SpNI0ac8%2BbpmlRC2t3U9g25%2BPVK%2Bpa%2Bd/8AglB4Z/4RX/gnv8NLF48PdaVPfSMRy5uLuefcT34kH4Yr6IrtyKLjlFGUt5rnfrNub/GX4H6h4oV6dXj/ADGlS/h0KnsIf9e8NGOHh/5LRv6yYUUUV6x8EWtc/wCQ1ef9fUn/AKEaq1a1z/kNXn/X1J/6Eaq0lsgCiiimBa0P/kNWf/X1H/6EKq1a0P8A5DVn/wBfUf8A6EKq0uoBRRRTAKtaP/x9v/16z/8Aop6q1a0f/j7f/r1n/wDRT0nsBVooopgFFFFAFrT/APj0vv8Ar1H/AKNjqrVrT/8Aj0vv%2BvUf%2BjY6q0luwCiiimAVah/5Atx/19Q/%2Bgy1Vq1D/wAgW4/6%2Bof/AEGWkwKtFFFMAooooAtTf8gW3/6%2Bpv8A0GKqtWpv%2BQLb/wDX1N/6DFVWkgCiiimAVa1D/j0sf%2BvU/wDo2SqtWtQ/49LH/r1P/o2Sk90BVooopgFd54M/5Fq2/wCB/wDobVwdd54M/wCRatv%2BB/8AobVjX%2BAcdzUooorlLCiiigAooooAKKKKACiiigAooooAKKKKACiiigAooooAKKKKACuV8H/Ar4I/D0ufAPwc8K6H5lxNcSf2P4etrbdNKgSWQ%2BWgyzqqqzdWCgHIFdVRQBhfDz4XfDP4R6C3hb4UfDrQvDGmPcNO%2BneHtIhsoGlYANIY4VVSxCqC2MkKPSsz46eGNO8bfDfUPBmrputNXt5bK6XGcxywyIw/JjXYVg/EP/kCxf8AX0v/AKC1VGKlLlezJnGM4OL2Z%2BXXhTw14n%2BL3/BFBdNsmZfGfwevrm5spEG57W90W/kkG0dd32QFQOuWr7t%2BDHxM0j4z/CPwz8WtCK/ZPEmhWuowoGz5YmiVyh91JKkdiDXz3%2BwxYWXhX9oH9pn9m3VLZHtLf4iJ4ijs5Vyj2%2Bs2glZQO6fu8EDgZ96s/wDBLLUL3wZ8MfGf7KWu3Lvf/CHx7qGi23nNl5dNlla5s5j3w6ySBfZBXz2SyeGr0FL7cJUn/joSkl83C/3H1HC0pZz4MvDS1q5ZXT8/ZV%2BbD1PlGvh6Mn2dS/W7%2BoaKKK%2BvPlS1N/yBbf8A6%2Bpv/QYqq1am/wCQLb/9fU3/AKDFVWkgCiiimAVa1D/j0sf%2BvU/%2BjZKq1a1D/j0sf%2BvU/wDo2Sk90BVooopgFFFFAFrWP%2BPtP%2BvWD/0UlVatax/x9p/16wf%2BikqrSWwBRRRTAKta5/yGrz/r6k/9CNVata5/yGrz/r6k/wDQjS6gVaKKKYBVrQ/%2BQ1Z/9fUf/oQqrVrQ/wDkNWf/AF9R/wDoQpPZgVaKKKYBRRRQBa0f/j7f/r1n/wDRT1Vq1o//AB9v/wBes/8A6KeqtLqAUUUUwCrWn/8AHpff9eo/9Gx1Vq1p/wDx6X3/AF6j/wBGx0nsBVooopgFdR8Nv%2BX3/tn/AOzVy9dR8Nv%2BX3/tn/7NWdX%2BGxrc6iiiiuMsKq67rek%2BGdEvPEmvX8drY6fayXN7cynCwxRqWdz7BQSfpVqsX4k%2BCbD4mfDrX/hxqlzJDa%2BINFutNuZoh80cc8LRMw9wHJFAHmfhr9t/4aat8PPF/wAR/FXgrxX4Wt/BfgqDxfqdhr9hbm6m0OeG5lgvYktp5gRILO5UROUmVoSHjTK5qn9ufwxum8ORfA/x5L4yh8RNo7eALePS5NSMq6amptMJUvzZeULWWNy32nO6RI9vmOqNxtj%2Byr%2B0/wCI/CPje08Z%2BI/Cei694n%2BD1j4D07VPDetXkq2f2KLUCmo4a2icNPNftuhVgYEgUpNKzkrx8f8AwTc16Bh4ot/gP8IY7W38RXVxpnwcj1W5XwvaWtzpVtZzSJMunAi4a4tY7nAswmckESnz6APsjRNVj13RbTW4bO6t0vLWOdLe%2BtmhmiDqGCyRsAyOM4KkZBBB6V%2BZ37fPibzP2yP2k/HAl48FfstDw/E2eIrjUXaZGHo2GH4V%2BifwQ8D%2BIPhj8F/CHw18WeL5/EOq%2BHvC%2Bn6Zqev3O7zNTuILaOKS5fcSd0jIXOSTluSa/LD9sfxBeeI/D/7b3jnTSj3PiX4h%2BFfBVkzRhvmsWtoHRSRlflds4xnvXznEtVwwkUv78v8AwClUa/GSPV4SwUc18SuHMBLapjqDf%2BGnL2jb8la78j7j/ZD8Mf8ACF/spfDTwo0e19P8BaRDKMf8tFs4g5/Fsn8a9EpdGc6Ho9poljBaiGzto4IQbGLhUUKP4fQVZ/ti7/542v8A4Axf/E19Zh6ToYeFNfZSX3JL9DmzbGyzPNcRjJb1alSf/gc5z/8AbyrRVr%2B2Lv8A542v/gDF/wDE0f2xd/8APG1/8AYv/ia21PPDXP8AkNXn/X1J/wChGqtaesardR6vdRrFbELcuBus4ifvHqSuTVb%2B2Lv/AJ42v/gDF/8AE0leyAq0Va/ti7/542v/AIAxf/E0f2xd/wDPG1/8AYv/AImnqAaH/wAhqz/6%2Bo//AEIVVrT0fVbqTV7WNorYBrlAdtnED94dwuRVb%2B2Lv/nja/8AgDF/8TS1uBVoq1/bF3/zxtf/AABi/wDiaP7Yu/8Anja/%2BAMX/wATT1Aq1a0f/j7f/r1n/wDRT0f2xd/88bX/AMAYv/ias6Vqt1JcsrRW3/HtMeLOIdImPZaTvYDMoq1/bF3/AM8bX/wBi/8AiaP7Yu/%2BeNr/AOAMX/xNPUCrRVr%2B2Lv/AJ42v/gDF/8AE0f2xd/88bX/AMAYv/iaNQDT/wDj0vv%2BvUf%2BjY6q1p2Oq3TW14xitvltgRiziH/LVBz8vPXvVb%2B2Lv8A542v/gDF/wDE0le7Aq0Va/ti7/542v8A4Axf/E0f2xd/88bX/wAAYv8A4mnqBVq1D/yBbj/r6h/9Blo/ti7/AOeNr/4Axf8AxNWYtVujpE8nlW2RcxAf6HFjlZO23Hb/ADmk7gZlFWv7Yu/%2BeNr/AOAMX/xNH9sXf/PG1/8AAGL/AOJp6gVaKtf2xd/88bX/AMAYv/iaP7Yu/wDnja/%2BAMX/AMTRqATf8gW3/wCvqb/0GKqtacuq3Q0iCTyrbJuZQf8AQ4scLH2247/5xVb%2B2Lv/AJ42v/gDF/8AE0lcCrRVr%2B2Lv/nja/8AgDF/8TR/bF3/AM8bX/wBi/8AiaeoFWrWof8AHpY/9ep/9GyUf2xd/wDPG1/8AYv/AImrN9qt0ttZsIrb5rYk5s4j/wAtXHHy8dO1J3ugMyirX9sXf/PG1/8AAGL/AOJo/ti7/wCeNr/4Axf/ABNPUCrXeeDP%2BRatv%2BB/%2BhtXG/2xd/8APG1/8AYv/ia7XwlM9x4ft5pAgJ35CIFH327AACsa1%2BUqO5o0UUVzFBRRRQAUUUUAFFFFABRRRQAUUUUAFFFFABRRRQAUUUUAFFFFABRRRQAVg/EP/kCxf9fS/wDoLVvVg/EP/kCxf9fS/wDoLVdP40J7Hw98Y76b9lX/AIKL%2BF/j5qyqvg34waPD4N168Iwun6zC5ksZXPTbKuYRnptdiQAKg%2BPt9efsRftn2n7XVwoPw6%2BKMNj4c%2BJcwXjR7%2BEGOw1JyP8AlkVPlMTwoycksor3L9q39nvw9%2B1J8AvEfwT8QSLCdWsidNviPmsr2Mh7e4UjkbJFUnHJXcvQmvMv2UPG2m/tvfsh6t8Gf2jtEE3iTRjc%2BEPibpFwR5i30HyGcHszgJMrgYEmdp%2BTNeHicJUhi54eD5XJutSb2VRfHF%2BUr3a/lnK3wo6%2BBM/w3CPFdbC4%2BDqYHGxnGrFbuE3H2yg3oqlOUaeJot/bg0/dlI%2BkEdJEEkbhlYZVlOQR60tfK/7DHxk8Q/CHxXff8E9v2jPEYPi7weMeBNYvTs/4SnQME28sZPDzRINjoCSAn8RSQj6or3cBjaePwyqRVntKL3jJaOL80/vVmtGj1OKeHMVwvnEsHUkpwaU6VSKfJWpTV6dWDe8Zxaut4yU6crShJFqb/kC2/wD19Tf%2BgxVVq1N/yBbf/r6m/wDQYqq11o%2BdCiiimAVa1D/j0sf%2BvU/%2BjZKq1a1D/j0sf%2BvU/wDo2Sk90BVooopgFFFFAFrWP%2BPtP%2BvWD/0UlVatax/x9p/16wf%2BikqrSWwBRRRTAKta5/yGrz/r6k/9CNVata5/yGrz/r6k/wDQjS6gVaKKKYBVrQ/%2BQ1Z/9fUf/oQqrVrQ/wDkNWf/AF9R/wDoQpPZgVaKKKYBRRRQBa0f/j7f/r1n/wDRT1Vq1o//AB9v/wBes/8A6KeqtLqAUUUUwCrWn/8AHpff9eo/9Gx1Vq1p/wDx6X3/AF6j/wBGx0nsBVooopgFdR8Nv%2BX3/tn/AOzVy9dR8Nv%2BX3/tn/7NWdX%2BGxrc6iiiiuMsKKKKACiiigAr8mvi/wCCbnT/AAlN4SubWRW%2BJX/BQC/eRZFIMlqmq3ETPz1QfZB7V%2BstfEX/AAUI/wCKk/b0/Zp%2BHQ%2BYT%2BL9X1p09PsGmJIGP4ucV4ueYaNbDKbeqaiv%2B4k6UH%2BCf3n2vhrhYy8QcFmDf%2B6wxdb/AMAweIlf5NRZ9G0UUV9UfDBRRRQBa1z/AJDV5/19Sf8AoRqrVrXP%2BQ1ef9fUn/oRqrSWyAKKKKYFrQ/%2BQ1Z/9fUf/oQqrVrQ/wDkNWf/AF9R/wDoQqrS6gFFFFMAq1o//H2//XrP/wCinqrVrR/%2BPt/%2BvWf/ANFPSewFWiiimAUUUUAWtP8A%2BPS%2B/wCvUf8Ao2OqtWtP/wCPS%2B/69R/6NjqrSW7AKKKKYBVqH/kC3H/X1D/6DLVWrUP/ACBbj/r6h/8AQZaTAq0UUUwCiiigC1N/yBbf/r6m/wDQYqq1am/5Atv/ANfU3/oMVVaSAKKKKYBVrUP%2BPSx/69T/AOjZKq1a1D/j0sf%2BvU/%2BjZKT3QFWiiimAV3ngz/kWrb/AIH/AOhtXB13ngz/AJFq2/4H/wChtWNf4Bx3NSiiiuUsKKKKACiiigAooooAKKKKACiiigAooooAKKKKACiiigAooooA5r4zeIfEvhH4P%2BK/Ffgyz%2B0axpnhq%2Bu9Kt/L3%2Bbcx27vEu3%2BLLqox3zXzl8AvijrXwj/AOExutA1/wAa/EzSdP8AgZ4U8Yw2Dard65f6hq15/awlFqXaV1%2B1JaWzCCLEUZG5I0Ehz9ZVy/gr4IfBb4azG4%2BHXwh8L6BIbqW6L6J4ftrUmeVVWSXMSL87qqqzdWCgEnAoA8T/AOCbvxI8Z%2BO9O%2BKmn/ELxp4p13VtM%2BJWZrjxJ4d1PTY7X7Ro%2Bm3D2tpDqEMTw20c8lx5cONyRtGz5Mod/evHcMc%2BkRpLdRwgXIO6QMQflbj5QTV7S/D2gaHc397ouh2dnNql59r1OW1tkja7uPLji86UqAZH8uKJNzZO2NFzhQBm/EP/AJAsX/X0v/oLVdP40J7HL/2faf8AQctf%2B%2BJf/iK%2BU/2oPg78V/2YvjJqH7eP7LMC%2BIk1G1gi%2BLPw4to3D65aQDal9aZQYu4Uz8v8ag4BJZX%2BoqKMdgo42kouTjJO8ZLeMls1%2BTT0abT0ennZhgaePoqLbjKL5oyW8ZLZr72mnpJNp6PTwrxp8Mv2YP8Agp7%2Bz1o3jzwp4/iUgi98JeL9J82HVPDuoLg8ELujkRwokiJwdoOchHHF/CX9tDxf%2Bz14sg/Zt/4KJ3ttoOsJN9m8M/FUWsiaD4piA%2BR2lCYtbnH30cKuQTlcqDY%2BKP7GPxc%2BEPxG1b9on9gHxvZeH9Z1if7V4q%2BHOtx50HxFKOsgC4NpcNz%2B8TAYnkoC5ZnhX9uD9mf9oK1u/wBmn9szwBb%2BAfFs6iDV/AXxFhQWt0x4V7W6cCG4Qn/VuCrk8qDwx%2BeqTrUcUp1ZKhiHpzNfua1tru6s%2BybVSN2k5x0PquHPELC4XL48O8X0HUw126coyUZUpveeFqyTjHn0dTC1rU6jV1aaVV/WkcWnXmgWtxaa/ZyQyTSPFPH5jJIpSMgqQnIxg56cjFQ/2faf9By1/wC%2BJf8A4ivkofsa/tTfsp6cmrfsEfHi3vvCn2uWSL4S/EcyXVhCMIWWyvVPnW4IPyoTtzyzGrGjf8FPvCnw%2BvofCf7anwU8WfB/WTIIjfarp732i3En/TC/tlZXB9SoVe7HrXpwziFD3cdF0X3esH6VEuX5S5GfVVfDvF5nF1%2BGK8cwp78lP3MTFb%2B/hZtVG11lReIhpdNI%2Brf7PtP%2Bg5a/98S//EUf2faf9By1/wC%2BJf8A4iuY%2BH3xR%2BG3xZ0JPE3wv8faN4h09wMXmi6lFcxjPYmNjg%2Bx5FbtexCUakVKErp9VZr71c/P8Rh8RhK8qNeDhOLs4yTjJPs1JJp%2BTSLX9n2n/Qctf%2B%2BJf/iKs31jatbWYOsWwxbEAlZfm/evyPk/Dn0rMq1qH/HpY/8AXqf/AEbJTad1qYh/Z9p/0HLX/viX/wCIo/s%2B0/6Dlr/3xL/8RVWinZ9wLX9n2n/Qctf%2B%2BJf/AIij%2Bz7T/oOWv/fEv/xFVaKLPuBp6rY2rXKltYtl/wBGhGGWX/nkvPCd%2BtVv7PtP%2Bg5a/wDfEv8A8RRrH/H2n/XrB/6KSqtJJ23Atf2faf8AQctf%2B%2BJf/iKP7PtP%2Bg5a/wDfEv8A8RVWinZ9wLX9n2n/AEHLX/viX/4irOsWNq%2Br3TtrFspNy5KssuR8x4OExWZVrXP%2BQ1ef9fUn/oRpWd9wD%2Bz7T/oOWv8A3xL/APEUf2faf9By1/74l/8AiKq0U7PuBa/s%2B0/6Dlr/AN8S/wDxFWdHsbVNXtXXWLZiLlCFVZcn5hxymKzKtaH/AMhqz/6%2Bo/8A0IUmnZ6gH9n2n/Qctf8AviX/AOIo/s%2B0/wCg5a/98S//ABFVaKdn3Atf2faf9By1/wC%2BJf8A4ij%2Bz7T/AKDlr/3xL/8AEVVoos%2B4GnpVjarcsV1i2b/RphgLL/zybnlO3Wq39n2n/Qctf%2B%2BJf/iKNH/4%2B3/69Z//AEU9VaVnfcC1/Z9p/wBBy1/74l/%2BIo/s%2B0/6Dlr/AN8S/wDxFVaKdn3Atf2faf8AQctf%2B%2BJf/iKs2NjarbXgGsWxzbAEhZfl/epyfk/Dj1rMq1p//Hpff9eo/wDRsdJp23AP7PtP%2Bg5a/wDfEv8A8RR/Z9p/0HLX/viX/wCIqrRTs%2B4Fr%2Bz7T/oOWv8A3xL/APEV0fgC3ig%2B1%2BVfRTZ8vPlBxj73Xcorkq6j4bf8vv8A2z/9mrOqnyMa3OoooorkLCiiquu63pPhnRLzxJr1/Ha2On2slze3MpwsMUalnc%2BwUEn6UAWqK8Z8Nftv/DTVvh54v%2BI/irwV4r8LW/gvwVB4v1Ow1%2BwtzdTaHPDcywXsSW08wIkFncqInKTK0JDxplcweIP27fhl4J%2BDvjz4ufETwN4q0CT4d3aWmu%2BF7uCyuNSluZbWC6t4Lf7JdTW8zzR3MO3EwC7iZDGFYgA9tr4j%2BP8A/wAVT/wWS%2BHeg/e/4RX4TatrW3%2B59pljs9344xX2loWr23iDRLPXrJHWG%2BtY7iJZQAwV1DAHBIzg%2Bpr4s0wf8JT/AMFlvijr33v%2BEV%2BEWi6Lu/ufaZ/tm38cZrzcx96WHp/zVYf%2BS80//bUff8A/uf7Xxf8Az6wGJt61fY0F9/tZI%2BjaK%2BeviL/wVW/YJ%2BE/jrVvhp8QPjx9g1vQ76Sz1Sy/4RfVJfInQ4ZN8dqyNg91JHvWL/w%2BY/4Js/8ARx//AJZ%2Bsf8AyHXZPPsjpzcZYqmmtGueOjXzOeh4XeJeKoQrUclxcoTSlGSw9VpxaTTTULNNNNNaNNPqfT9FfPXw6/4KrfsE/Fjx1pPw0%2BH/AMePt%2Bt65fR2el2X/CL6pF587nCpvktVRcnuxA969B/a1%2BJnjX4N/s1%2BNPih8OtPsLrW9E0KW506LU52jgEgwN7FUcnaCWC7cMVCkqCWHZhcdgsdBzw1SM0tG4tOz3tofP55w1xHwzXhQzjB1cNOa5oxq05U3JXtdKaTavpdaX0PTtc/5DV5/wBfUn/oRqrXz144/bi%2BIehyeIbmf4HaQ19Z/EC88NaZp1v4p1C7l1Ge1hmmu5kistJnuPKTZGqlYWzudpPJVAX5zwh/wUD8WfELUrZPhT8HzrEniO1g1DSLbxD4rjsIbS3bw3pusbS0NjK65F6Y8Hzj5gzuVG2x7qSsjxbM%2BqKK8xuvj9qd1%2Bytqn7Tej%2BFYVtf%2BFfnxPoFjJdtJLPGdNF4scyhFEbbyY8KzggBtwLbVwf2efGPxat/iD4l%2BE/jj4jy%2BMrix8AeHPEtjq2oWFpasLjUX1SGW2AtIY08gPpquhZWkAmYM77VNVdCPdtD/wCQ1Z/9fUf/AKEKq18k/Bb4/fG3URqPhX4x/HPxH4LuNK8F6D4k8X%2BJvE3gazspvD1011cR6nY2KyW6wzQ/uUSCd47tfv7ZLkkbMnxV%2B0J%2B178N/B2nfED4iy%2BLrS0svD9rqGj29t4Kt5Rr7trV2kkGsutsw02f%2Byhpr7Ua1H2i5uFUOY1hE8yuOx9mUV8u%2BOv2mfGv7Mvxe1rVfjF8TL3VfCD%2BDtT1TTDq1rpVlYX98NR0%2BCztdMmt8yQpH9tFtO%2BoyAtJJDLGfLSZk7f9gf406/8AHL4GXfiTxh8WfD/jPWdO8aa9pmo6v4ZkgNmBBqU6wRxiHgRi38kxlsu8ZjdmcsWZqSbsKx7XVrR/%2BPt/%2BvWf/wBFPVWrWj/8fb/9es//AKKem9gKtFFFMAooooAtaf8A8el9/wBeo/8ARsdVataf/wAel9/16j/0bHVWkt2AUUUUwCrUP/IFuP8Ar6h/9BlqrVqH/kC3H/X1D/6DLSYFWiiimAUUUUAWpv8AkC2//X1N/wCgxVVq1N/yBbf/AK%2Bpv/QYqq0kAUUUUwCrWof8elj/ANep/wDRslVatah/x6WP/Xqf/RslJ7oCrRRRTAK7zwZ/yLVt/wAD/wDQ2rg67zwZ/wAi1bf8D/8AQ2rGv8A47mpRRRXKWFFFFABRRRQAUUUUAFFFFABRRRQAUUUUAFFFFABRRRQAUUUUAFFFFABWD8Q/%2BQLF/wBfS/8AoLVvVg/EP/kCxf8AX0v/AKC1XT%2BNCexxtFFFdpAVyvxc%2BB3wf%2BPXhlvB/wAZPhxpHiPTjnZBqlmshiJ4LRv96Jv9pCG966qioqU6daDhUimnumk0/k7oirSpVqbhUipRe6aTT9U7o%2BXD/wAE8/jH8C9Miu/2If2yPE/hHTkuZfs/gXxhEuuaLGAsf7uETfvbZTkZZS7cdaqaj8fP%2BChPw402bw9%2B0Z%2Bwno3xE0hkMd7rPww15JknT0/s68HmyZHUZAzX1xN/yBbf/r6m/wDQYqq15H9i0qSf1WpOkuyfND/wCfNFLyXKeRHJYYWSlgK1Sg1soyvFekJ8yX/brhbpbp%2BbXifxD/wR78U%2BKRqfi3wd48/Z58ZysRHcw6LqPhy7gfuALdZLVDnnJWvRfAEPxtjSM/slf8Fe/CHju1/5dvDvxDisdRmPoJbqCQXOfUbAe9fa%2BraPpGvWEmla5pdte2soxLbXcCyRuPQqwINeQ%2BPP%2BCdv7DnxJaSTxV%2By54P8yXJln03SlsZHPqXtvLYn3zmvLnkGLpScqXs794%2B0oSfr7OUoN%2BsD7yh4k%2BKuGoRoYrF0cfSirKGLoqtZdlKoqso/9u1I26JbnBL8d/8AgqL8N1C/EP8AYr8HeOoUH77Ufh346Fnx/eWC%2BUyP/ujmrV3/AMFR/D/hm2tYPjb%2ByF8bfBBhgKzX2o%2BBXuLH/WOSUngdt4GcZC9jVc/8EkP2adCz/wAKk8e/E/wBj/VDwd8Q7yERf7vnGWrF5%2BwT%2B054Wt7Q/DP/AIKd/E%2B2BtyYR4r06z1vYPMcYPmhN3TPPqan2fE2HfuuT/7eo1P/AEqNGX4mv%2BveWYn/AJGnClFvrLCYurQfyhN1afyskavhL/gqx/wT98YuILL9pPSbGbO14dcs7rTzG3cMbiJAMfXFeo%2BE/wBpH9njx5s/4Qj48%2BDNYL/dGmeJ7Scn8EkJr518Wfsj/wDBRDV4jBr/AO0v8JviCgGNvjr4RW8YkH%2B0IN2Pwry/xX/wTz/af1Iv/wAJL%2BxZ%2ByZrqH%2BLw3Bq2jTP9THsUH6U/wC1eI6Px4fm/wC3JL/0ipUQv7c8LMR/FwOaYV%2BSweKivulQmz9DY5I5oxLFIrKwyrKcgilr8v3/AGA/jl4SdpvC/wDwTYk098kmTwB%2B0hNYHPqovGkxSf8ACqv22vB3zaX8NP2tND29LfT/AI3abrdun%2B7GYVz%2BdH%2Bs2Np/xcHL5c//ALdS/UObwrrfw85xFL/r/lmJX3uhVrR/M/UvWP8Aj7T/AK9YP/RSVVr8w7z4rf8ABR3wjKDa%2BLP2qrTZFHhb34FaTr3GwYGftCZGMYPpzUQ/bw/4KG%2BF/wDj%2B8W%2BNptvX/hLv2bZbP8A76%2ByTNj8KS4xwcF%2B8oVI/JP/ACD%2BzuBqv8HibB%2BlSnjqL%2BftMC4r/wACZ%2BoNFfl%2Bv/BXb9s/w4ca/c/C2SJfvHVPh/4qtJv/AByJkFSQ/wDBeT4laVL5GteE/hnfyD70dne63Zk/%2BBFngfiar/XjIF8cpR9Y/wD2zD%2BwcnqO1HP8sn/3PU4P7qtKj%2BZ%2BnlWtc/5DV5/19Sf%2BhGvzQ0z/AIOANWZxHqP7L2gzr3ntPivbRD/via2U/rXUN/wX68BXd9Nea1%2BztPbiWZnK2fxC0q425JOB86ZrWHGfDU3/AB7esZL9C/8AVPFS/hY3A1P8GY4CX/u1F/kfftFfBsX/AAcDfsuWozr3wj8bxf3vsEul3X8rxc1s6R/wXs/Yr1YAnwn8RLcH/nr4dt2/9F3LVvHi3hqTssVD72v/AG01/wBReJpR5oU6c13jicFL/wBJx1/wPtmrWh/8hqz/AOvqP/0IV8e2H/BbP9hm7ANzq/i20B6m48I3Bx/3wGrc0H/gtD/wToi1S1uNV%2BOF5YIlwjObrwfqvADDP3LZq6P9Y8gktMVT/wDAkvzsSuBeMZP3MDOX%2BH2c/wD0itM%2BnKK%2BcLH/AIK5f8E6tQx5H7TGnrn/AJ76LqEX/oduK17L/gp7%2BwHf48j9qXwwuf8AntNJH/6GgreOd5NP4cTTf/b8f/khPgPjhf8AMrxHyo1H%2BUZHvFFeOWf/AAUK/YavseR%2B1h4DXP8Az28SQR/%2BhsK1bP8AbY/Y2v8A/jz/AGsvhq5P8I8c2Gfy87NbRzLLZbV4P/t%2BH/yRz1eDeMKP8TLcSvXD1/8A5SesaP8A8fb/APXrP/6Keqtcd4f/AGpf2ZLy6Y2f7RngSUG2mAMfi%2BybOYmA6S1ZtPjh8Fb/AB9h%2BL/hebPTyvEFs38nrWOKwsnpUi/%2B3o//ACRwVMjzyj/EwlWPrSqr86aOoorItfiB4DvsfYvG2kTZ6eVqUTfyatG21LTr3/jzv4Zf%2BuUob%2BRrZThLZp/NHDUw%2BIpfxISXqmvzSJqtaf8A8el9/wBeo/8ARsdVataf/wAel9/16j/0bHTexiVaKKKYBXUfDb/l9/7Z/wDs1cvXUfDb/l9/7Z/%2BzVnV/hsa3OoooorjLCsX4k%2BCbD4mfDrX/hxqlzJDa%2BINFutNuZoh80cc8LRMw9wHJFbVFAHy7Y/sq/tP%2BI/CPje08Z%2BI/Cei694n%2BD1j4D07VPDetXkq2f2KLUCmo4a2icNPNftuhVgYEgUpNKzkry13/wAEy/FXiP4aeLtH0bXtL%2BFEt8%2BpTeDfAPwzubWfw5ptxdaJFpjyy/bNKBDSbZyz28ELIt1Ngu7s5%2By6KAMT4aeGNU8E/DvQvB%2Bt%2BIJ9VvNL0i3tLrUrlYhJcyRxqrSMIo40ySM/KiD/AGR0r5A/ZT1CXXv2%2Bv2q/iNEkTibxZoOiI8sCOF/s/TTEyjcDjl%2Bcda%2B2q%2BJ/wBgDRLi1179oDxLfZaXVv2kvFhjkI6ww3CQIv0BjavPxEXUzTCR6Jzl91Oy/wDSj7zhmpDD8G5/Vv70qeFpL0qYtSl%2BFFH0l/bF3/zxtf8AwBi/%2BJo/ti7/AOeNr/4Axf8AxNfN/wARf%2BCg/wDwrvx3q3gb/hiD9obXf7JvpLb%2B2PDnw0%2B1WF5sOPNgl89fMjPUNgZHasX/AIedf9Y9f2oP/DTf/dNdU86ymE3GVTVafDU/%2BVv8z8nnxBk9ObhKrqtH7tTp6Un%2BbPqr%2B2Lv/nja/wDgDF/8TWN8Q/DHh74q%2BBdX%2BGvjzRre90bXdPlsdTtEiELSwSKVcLJFtkjbB4dGVlOCCCAa8I%2BHX/BQf/hYnjvSfA3/AAxB%2B0NoX9rX0dt/bHiP4afZbCz3nHmzy%2Be3lxjqWwcDtXqn7QnjvxX8Lfgv4h%2BJvgzSre%2Bu/Dtj/ac9jcQvJ9otIGWW6jjVGU%2Bc1ukwj5IEhQlWAKnrwuLwmNg5UZcyWj0kv/Sox/Jnbg8fhMfByw8uZJ2eklr/ANvRj%2BT9Sv4m/ZT%2BBV640W58JXbR2HiS81WG5HiC%2BF1JdToYbhpbgT%2BdOksfyyRSO0cnV1Y81S%2BG37JH7PXwjexk8A/D0WjabA0Ni0%2BqXVyYojYwafsHnyv8otbaCJVPCrGNuDknwr47f8FEPiv4ai8Q/EX4caBoWraDpt5rOrRxJpnmGbQbTUE0%2BK4e5l1G3SP7TcQ3rRSQx3LNG8GLdsFpMjwJ%2B1F8ZdG%2BIF78N9D1azudQ1rx7rGl6brfiia%2BvodPR/GniC2QPbi6jR447aySGJFMbZMSeZsVUG6cLLQ7NT678EeAvCHw88Gw/D3wvoka6Jb6bb6fBpl87XcUVrBbR20cKi4L7U8qNQwH3zudtzuzHF%2BGPwC%2BFfwctWtPh7oN1Zh7i3leW41q7upXWCJooLdpLiV3a2jR2CWxPkoWJVAea4r9hfxN8Q/GvwSPijx14zttYkk8YeK4HmjWaQl4fEuqRJ5U0kzf6MsKRRxRbfkSNQGIwo4D9lLxn4x1H4o%2BBNW1Lx7rup3XjzwX4s1Txnpepa3Pc21lfWWsafDCsEEjtHZCA3Nza%2BXCsYcKN4Zo9wfu6aBqet6N%2BxR%2Bze2lp4Hj8GalDYXOr6VclrfxbqkVzAbCYyWMMFylyJre3t5HZ4reJ0hjZiyoDzVu5/Zg%2BDOoX%2Bh6prGh6pqNx4fMf2OXVfFOo3ZuRFdG7hW8864b%2B0FinJkiW680RN/qwtfPuieMPGvhz9oMeGfih8UvEmlaP4m1PxjF4h8Z2XxDik0%2BPTodUiSxawhE0n9mTWaSwWMz%2BTAyTSNlpnIlT1j9i2%2B8Yw2HxC8D%2BO9RvH1Dwz8QpLH%2BzrjxNda3FpkUmmafdR28Oo3gFxeIVuRMWmVGjeeSIL5cUbMlyuWwHc%2BAfgD8JPhj44ufiJ4L8JfZtTuI7uOPz7%2B4ubayS6uFuLlLS2mkeCyWWZEkkW3SMOyKWB2jHSeDPDmgfD7TbrSfCOjW1pb3ur3up3MZhEm%2B6u7iS5uJMybiN0srttGFXdhQAABdoq%2BVCLX9sXf/ADxtf/AGL/4mrOlardSXLK0Vt/x7THiziHSJj2WsyrWj/wDH2/8A16z/APop6TSsAf2xd/8APG1/8AYv/iaP7Yu/%2BeNr/wCAMX/xNVaKdkBa/ti7/wCeNr/4Axf/ABNH9sXf/PG1/wDAGL/4mqtFFkBp2Oq3TW14xitvltgRiziH/LVBz8vPXvVb%2B2Lv/nja/wDgDF/8TRp//Hpff9eo/wDRsdVaSSuwLX9sXf8Azxtf/AGL/wCJo/ti7/542v8A4Axf/E1Vop2QFr%2B2Lv8A542v/gDF/wDE1Zi1W6OkTyeVbZFzEB/ocWOVk7bcdv8AOazKtQ/8gW4/6%2Bof/QZaTSAP7Yu/%2BeNr/wCAMX/xNH9sXf8Azxtf/AGL/wCJqrRTsgLX9sXf/PG1/wDAGL/4mj%2B2Lv8A542v/gDF/wDE1VoosgNOXVboaRBJ5Vtk3MoP%2BhxY4WPttx3/AM4qt/bF3/zxtf8AwBi/%2BJom/wCQLb/9fU3/AKDFVWkkgLX9sXf/ADxtf/AGL/4mj%2B2Lv/nja/8AgDF/8TVWinZAWv7Yu/8Anja/%2BAMX/wATVm%2B1W6W2s2EVt81sSc2cR/5auOPl46dqzKtah/x6WP8A16n/ANGyUmldAH9sXf8Azxtf/AGL/wCJo/ti7/542v8A4Axf/E1Vop2QFr%2B2Lv8A542v/gDF/wDE12vhKZ7jw/bzSBATvyEQKPvt2AAFcBXeeDP%2BRatv%2BB/%2BhtWNZJRKjualFFFcxQUUUUAFFFFABRRRQAUUUUAFFFFABRRRQAUUUUAFFFFABRRRQAUUUUAFYPxD/wCQLF/19L/6C1b1UPEWif29ZLZ/avK2yh92zdnAIx1HrVQaU02J7Hn1FdR/wrb/AKjX/kt/9lR/wrb/AKjX/kt/9lXV7Wn3Jszl6K6j/hW3/Ua/8lv/ALKj/hW3/Ua/8lv/ALKj2tPuFmYM3/IFt/8Ar6m/9BiqrXWv4A32Udn/AGt/q5Xfd5HXcFGPvf7P61F/wrb/AKjX/kt/9lSVWHcLM5eiuo/4Vt/1Gv8AyW/%2Byo/4Vt/1Gv8AyW/%2Byp%2B1p9wszl6tah/x6WP/AF6n/wBGyVvf8K2/6jX/AJLf/ZVLceAPPigi/tbHkxFM%2BR1%2Bdmz97j72PwpOrC%2B4WZyVFdR/wrb/AKjX/kt/9lR/wrb/AKjX/kt/9lT9rT7hZnL0V1H/AArb/qNf%2BS3/ANlR/wAK2/6jX/kt/wDZUe1p9wszB1j/AI%2B0/wCvWD/0UlVa6288Afa5RL/a23ESJjyM/dQLn73tmov%2BFbf9Rr/yW/8AsqSqwtuFmcvUdxa2t3H5V3bRyr/dkQMP1rrP%2BFbf9Rr/AMlv/sqP%2BFbf9Rr/AMlv/sqftab6hytnnt98OPh5qef7S8BaLcZ6%2BfpcL/zWqXib9nb9n6/1m8W%2B%2BBfg6YfaZBiXwxaNxuPrHXp//Ctv%2Bo1/5Lf/AGVS33gD7bezXn9rbfNlZ9vkZxk5x96sZQwk370U/WK/yMZYXDz%2BKEX6pP8ANHhl3%2Bx9%2ByTqGft/7Lfw5nz187wRYNn84azLv9gz9iS8z537JHw4Gf8Anl4Nso//AEGMV9A/8K2/6jX/AJLf/ZUf8K2/6jX/AJLf/ZVlLCZZLelB/wDbkf8A5EwlleXT%2BKhB/wDbkP8A5A%2Bbbr/gnH%2Bwjd5839lHwSM/88tFjT/0HFV7L/glz/wT81LVbaC7/ZX8MlJLhFdY45UyCwyPlcV9Nf8ACtv%2Bo1/5Lf8A2VS2PgD7Few3n9rbvKlV9vkYzg5x96sZZbk0lrQp/wDgEf8A5ExeSZPLfDU//AIf/InyTcf8EnP%2BCeNz/rP2YtIH/XPULxP/AEGYVSuP%2BCPn/BOK5/1n7NNqM/8APPxFqaf%2Bg3Ir6%2B/4Vt/1Gv8AyW/%2Byo/4Vt/1Gv8AyW/%2ByrN5RkMt8NT/APAI/wCRk%2BHchlvhKX/guH%2BR8azf8EYv%2BCbkuSn7O7xk94/F%2Br/1uzVSb/gih/wTml%2B58Fb6P/c8Waj/AFnNfav/AArb/qNf%2BS3/ANlR/wAK2/6jX/kt/wDZVDyPh1/8wtP/AMAX%2BQ48PZHT%2BDC016RS/Kx8TWn/AAQ4/wCCdt7cNG3wx1lAIJWGzxVedVjZh1kPcCs6X/ghh/wT8k%2B54N8RR/7nief%2Bua%2B77PwB9klMv9rbsxOmPIx95Cufve%2Bai/4Vt/1Gv/Jb/wCyrN8P8Nt64Wn/AOAo6I5VgYfDTt6Oa/Koj4Ml/wCCEX7A0n3NG8Vp/u%2BJG/qhqvL/AMEFf2D5PuL4zj/3PES/1hNfff8Awrb/AKjX/kt/9lR/wrb/AKjX/kt/9lUvhzhh/wDMLT/8B/4JvHCxh8Mpr0q1l%2BVdHwCP%2BCDP7FsRzZ%2BLPiLb%2Bnk%2BJYRj87c1bsP%2BCFP7K6wXMlp8Zvi7bmKAMog8XW68%2BYi8/wCie9fef/Ctv%2Bo1/wCS3/2VS2/gDyIp4v7Wz50QTPkdPnVs/e5%2B7j8aX%2BrfDK2w0Puf/wAkU6De86n/AIOr/wDzQfBMP/BFD4D2v/Hl%2B0v8cIPTyfG9uv8A7aVet/8Agjz8NrMf6D%2B2P%2B0HBjp5XxDhX%2BVpX3H/AMK2/wCo1/5Lf/ZUf8K2/wCo1/5Lf/ZVa4f4ejtQS%2Bc//kzCeXYep8Tm/wDuLX/%2BXnxNH/wSf0e1/wCPH9vL9o%2BH02/EpR/K3FfQf7Df7Lc37NI8ULJ%2B0P8AErx6us/Yto%2BIfib%2B0fsHk/aP%2BPf5F8vf5vz9d3lp/dr1b/hW3/Ua/wDJb/7KtTw34b/4R7zv9N87ztv/ACz24xn3PrW1PKsqw01UowtJbaz/ACc2vwJoZXg8PWVWEXzLvOo/wlUkvwZqUUUV1HpBRRRQAUUUUAFeM%2BF/hB4V%2BC91r2heE5bqSPWfFWp%2BIL2S8kVnN3qF1JeTAbVUBFeYqgxkIqgljlj7NWDrXgn%2B19Tl1H%2B0/L8zb8nk5xhQOu4elVTjTVVTktVez7Xtf77G8cViaeGnh4TahNxcl0lyNuN/8Lk2vNs42iuo/wCFbf8AUa/8lv8A7Kj/AIVt/wBRr/yW/wDsq6va0%2B5y2Zy9MngguoHtrmFJI5EKyRyKCrKRggg9QR2rq/8AhW3/AFGv/Jb/AOyo/wCFbf8AUa/8lv8A7Kj2tPuFmeW%2BK/2b/wBnfVTa%2BG9U%2BAvgu507QLO40rQrC48LWjw6dYOvlPawIY9sMLRgIY0AUqACMcVFP%2Bz78BbnRbnw1c/BHwhJp15Hsu9Pfw1amCdftL3e10Me1h9pkknwR/rXZ/vEmvXL7wB9tvZrz%2B1tvmys%2B3yM4yc4%2B9UX/Ctv%2Bo1/5Lf/AGVJVKdgszz3wn8OPh54BhW38C%2BA9F0WNI3jRNJ0uG2Co80k7qBGowGmlllI7vI7HliTUsvg18H9N1PWNa074U%2BGre88QypL4gu4dCt0l1N1ferXDBMzEMSwLkkE5616b/wrb/qNf%2BS3/wBlR/wrb/qNf%2BS3/wBlT9rT7hZnneg/Bf4Ox%2BL9S12P4TeGVvvFJS38T3g0G3EurwnCmO6fZm4QqSNshYY4qXwR8P8AwH8MtATwp8N/BOkeHtLjkeSPTdD02K0t0djlmEcSqoJPJOOTXolj4A%2BxXsN5/a27ypVfb5GM4OcfeqL/AIVt/wBRr/yW/wDsqXtKdwszl6K6j/hW3/Ua/wDJb/7Kj/hW3/Ua/wDJb/7Kn7Wn3CzOXq1o/wDx9v8A9es//op63v8AhW3/AFGv/Jb/AOyqWz8AfZJTL/a27MTpjyMfeQrn73vmk6sLbhZnJUV1H/Ctv%2Bo1/wCS3/2VH/Ctv%2Bo1/wCS3/2VP2tPuFmcvRXUf8K2/wCo1/5Lf/ZUf8K2/wCo1/5Lf/ZUe1p9wszB0/8A49L7/r1H/o2Oqtdbb%2BAPIini/tbPnRBM%2BR0%2BdWz97n7uPxqL/hW3/Ua/8lv/ALKkqsL7hZnL0V1H/Ctv%2Bo1/5Lf/AGVH/Ctv%2Bo1/5Lf/AGVP2tPuFmcvVqH/AJAtx/19Q/8AoMtb3/Ctv%2Bo1/wCS3/2VSp4A2WUln/a3%2BslR93kdNoYY%2B9/tfpSdWHcLM5Kiuo/4Vt/1Gv8AyW/%2Byo/4Vt/1Gv8AyW/%2Byp%2B1p9wszl6K6j/hW3/Ua/8AJb/7Kj/hW3/Ua/8AJb/7Kj2tPuFmYM3/ACBbf/r6m/8AQYqq11r%2BAN9lHZ/2t/q5Xfd5HXcFGPvf7P61F/wrb/qNf%2BS3/wBlSVWHcLM5eiuo/wCFbf8AUa/8lv8A7Kj/AIVt/wBRr/yW/wDsqftafcLM5erWof8AHpY/9ep/9GyVvf8ACtv%2Bo1/5Lf8A2VS3HgDz4oIv7Wx5MRTPkdfnZs/e4%2B9j8KTqwvuFmclRXUf8K2/6jX/kt/8AZUf8K2/6jX/kt/8AZU/a0%2B4WZy9d54M/5Fq2/wCB/wDobVl/8K2/6jX/AJLf/ZVvaLpv9kaZFp3neZ5e759uM5Ynpk%2BtZ1ZxlGyGk0y1RRRXOUFFFFABRRRQAUUUUAFFFFABRRRQAUUUUAFFFFABRRRQAUUUUAFFFFABXz38WP2o/ip4O%2BLOux%2BG7Hw8fB/gvxP4T0HxHaX1hO%2Bo38%2BtXdvA01vOs6x26W6XltJtaGUzFZUzH8rV9CV5b47/AGTPAfj/AOKY%2BJ2peKfEFrFcX2j32t%2BGrK4t107WLvSrj7Rp9xcB4WmDwyiNv3UsayeREsgkVAKAPUqKKKACiiigD5/%2BHP7SvxD139qrxF8I/iB4q0XRNKtvFlzpPhPRp/hxqsU%2BtpFpkF5ui1mS6%2BxSTAtcOYEiMnlWznACs4%2BgK83uv2a9K1T4waf8WPEPxS8X6pb6Nrkus6F4T1C/t5NM03UJLKSyaeL9wLnHkz3AWF52hRp2ZYwQhX0igAooooA4n9pDxl8Rvh58CPFfjv4T6fotzr%2BjaLPe2MfiGSUWa%2BUpd3kEPzybUDMIwU8xgE8yMMZF8V8Oftk/GTXNcg8XSaX4Yj8JaZ408K%2BEPEWnDTrg6hcahrOm6ZdC7t7j7R5cUMcms2SeS8UjMscx81flFe9fGP4at8Yfhpq/wzbxzrPh2HWrJ7S71PQEtDdLBIpWRF%2B1wTxDcpKkmMkA5UqcEeZeBP2DPAvgnWdJ1O6%2BLnjbW7fTtRsNTvdK1WbTltdX1Kxt1trK%2BuVtrKJjLDBFaxqImjjb7FbtIjuhdgD3OiiigAryz9sT4sfFX4JfBmT4jfCfSdAurmy1ixTVD4hacxxWUtwkUhijhKmWUl1VQzoq7i5L7BFJ6nXA/tHfAWD9o/4cyfDLUfif4k8L2NxdQzXk/hhLAzXAikWRI2N7a3CqodEb5FViVA3YJBAPPfgZ%2B0r8Q/G/x/8AEHw2%2BJninRdIig8Sa3p/hrw2/wAONVs7jUbazm2pNFq090bS7fysSvFDFuCtuwqqTX0BXlfhH9lm20L4haR8RPF/xx8d%2BMZvD9xd3eh2Hii8sXt7K9uYWhnuk%2Bz2kMhZkknVY2cwxLO6RRxoEVPVKACiiigDxj9sz4vfHH4HeBJviR8LW8INZ6bp0zjSdes7q5v/ABHqrPEljo1kkMsSwy3Ls8YnYzFXaP8AcMu4jD/ZR/aj%2BKnxg1zwhJ8SLHw8um/E74XL488HRaJYTwT6XZ%2Bbag2d28s8q3Moi1GzPnRrCpZZh5eNprtvjL%2BzSnxf%2BJPhn4pQfGnxd4Z1Hwla3kWjw6FBpM9uklyEWS5MeoWNyBcCNDEsq7WWOWZBgSvui%2BBn7JngP4Ca4mteHvFXiDVU0/QF0HwxY63cW7w%2BHtIWXzRYWghgjbysiJd0zSybbeFd%2BEAoA9SooooAK%2Bcv26P2iv2lf2b9Kbxl8K9N8GatBP8AZbPw74OutNvbvWfEF27SNeSRmGeJYIrS2X7UyhJjKkEyloCUavo2vJPiL%2ByXB8QPjJd/GmD4%2BePNBvrzw3HoL2OhSaWsUFiJHklS3lmsZLq0eZnBkkgmjkYwwkMDDGVAF/ZI%2BNXiD4x%2BFL6bxr490nVNdsDanUtLsPh/qfhufTPOgWRVlttSuJppFb5ik67Y3Cnbu2k161XB/B74DWHwm1rXPF2ofETxH4u8QeIY7OHU/EHih7T7Q9varItvbqtnb28KohmnfiPczTOWZsjHeUAFFFFAHyl%2B1v8AtiftE/s2/GHw54GsdP8ACF5a%2BPPFNjoHhe2u/Dmpolgb6aOztryfUmmS2vJVu33SaXbotwLfdMJAkbOfZ/2c/if41%2BIFl4s8MfEkaXJ4g8EeMZ9B1S%2B0SzktrS9xbW15DPHDLLM8Obe8hDIZZMOr4YjFcn8V/wBgv4efGbxH/bHjT4qeOnsbXxN/wk2gaDFqtt9l0PXhCYotTtWe2adZIizyJFJLJbLI5byemPRfg58H9F%2BDXh6%2B0jTvEGqaze6vrFxquua7rbwm71K8m2hpZPIiiiXCJHGqxxoqpEiheKAOtooooAK%2BN/jh%2B2d%2B1v8ACj9oDTvghHaeFZf7VumnvL2x%2BFfiDUTotl5g8ryI47mOTXyY5IhLPZrHHay7Y5V3TxgfZFeGyfsM6Uni6x8c6Z%2B0l8ULPUtBjvoPCM8Wr2En9hWt5cRz3VrGJrJxdxSGGBdt99qKLDH5ZRlDUAemfBrxvafEj4XaL43svGWm%2BIE1CyEjaxpGmS2VvcOCVfbbzSSyW5DBlaKR2dGVlbBBA6aua%2BEPwr8N/BX4eWHw38K3F5Pa2LTyyXmozCS4u7ieZ7i4uJWVVUySzSySNtVV3OdqqMAdLQAUUUUAFFFFABRRRQAUUUUAYnxK8b2Pwz%2BHOv8AxI1O1kntvD%2BiXepXEMRw0iQQtKyj3IQgV5j%2BzN8bPjF4y8bah8NfjfH4bk1RPAugeK7K68L6fcW0MUOpPfRPZOs88xkeCSyP78FBKsy/uoypz6/rmi6V4k0W88O67Yx3Vjf2slteW0oys0TqVdD7FSQfrXA/AX9mbwx8BLq91Wx8b%2BJPEmo3mjaboyan4nubeWe30uwE/wBjskMEEIKRm5uG3uHmdpmMkjnGAD0iiiigArgf2pfiN44%2BEX7OnjP4nfDTR4L/AF/Q/D9xeaRZ3WnzXccs6LlQ0MDpJKM/wIysegIrvqyvHPhUeOPCGo%2BEv%2BEj1XSDqFq0Karod79nvLRj92WGTBCupwRkMpxhlZSQQDkv2bvihd/FLwbqF7q/xB0zX9S0vWpLDU/7P8EX/h2SwlEUUgt57DUJ5riKXZKkoLlQ8c0bKu0hm9CrjPg38FdK%2BDsOvXSeL9a8Rav4o1oar4h8QeIGtvtV7cLbQWkeVtYYYI1SC2gjVY4kGE3HLszN2dABRRRQB8%2B/te/tXfE79l/xlFrg8KaFf%2BCrb4ceJvEF8rTTHU7q70qxe88mMjEUEWxVXcRKzmU8RCPMvW/AT4m/FvVPiL4u%2BCnxxn8OXmv%2BGdN0jVF1Twrpk9naTWuoLcqsZhnnncSRzWVyC/mYdDGdqHIqv8fP2P8Aw7%2B0X4203xR44%2BLHiy30uw0q90yfwlp8el/2df2l7F5N7DMZrKS5Inh/dsUmQqvMZRvmrofgr8AtJ%2BDNzrGtS%2BPfEXivW9d%2BypqXiHxVPbPdyQW0XlW9v/o0EMYjjDSMPk3M80jMzMxNAHeUUUUAFfM/7Sf7Un7Sfwl%2BI3jbwn4S8LeGJrHTPB2k6t4VddHv9VvHM%2Bqw2VzNcwW8kTSKiySstvD82IQ5lPmGOP6Yrx3x3%2ByHc%2BOPjFffGiL9pv4k6JfXejR6ZFp%2BgzaRBb2lvHMJ41jZtPac4nAkIkldZOY5A8LNEQDp/wBnb4lS/FL4eHXr3x7pviC9ttSuLPUZ9N8JXuhG1njbBt5rC%2BmluLeVQVysjAkMrBQGGe7rkPg38G9G%2BDOjapZWXiXVtc1DXdbm1fXte114Dd6jeSJHF5ji3iihTbFDDEqxxooSJeM5J6%2BgAooooA%2BUPiJ%2B1Z%2B1b4O/ap8J/st2cvw5uNQ8f31/HbX1not/dReC44Y7m8s11A/a4jfy3tjY3zRqgtNktq/%2BsTDH3T9mr4q6z8Zvg5p3jjxNp1ra6st7qGmaxFYbvs5vbC%2Bnsbh4g5LCJpbaRkDEkKygkkZPn2m/sC6Npd9darbftIfEX7ZJ4wufFVjfNFoX2iw1ifzEe7SX%2By98xFrNNZLHcGaNbWTygnyRFPWfhL8L/DXwZ%2BHemfDTwk91JZaZEwFzfTCS4upXdpZriVwAGllld5HIABZ2IAHFAHR0UUUAR3TXKWsj2UKSTCMmGOWQorNjgFgCVBPfBx6HpXxb4o/bc/a28FfHF/g/4r1nwIulaVo4uvFfjvwz8KNf16w0jUfJMs2jNDaXwkMlvH5Mz3bFFMd1HuhhKtn7Q1G0lv8AT57GDUJrR5oWjS6ttvmQkggOu9WXcOo3KRkcgjivCPBv7B0/gHwBZfDbwt%2B2B8WrTTbCyntIhDLoKNLHPk3LzbNKAuJ5XPmtcyh7gSb2WVDLN5gB7h4b1a01/wAO2Gu6frFpqMF7ZRTwahYf6i6R0DCWP5m%2BRgQy/M3BHJ61drM8E%2BDvDvw78GaR8P8Awhp4tNJ0LTLfT9LtFcsIbaGNY40yxJOEVRknPFadABWV43PjYeEdRHw3XSjrxtWGknW2kFos5GFaYRDeyA8lVwWxjcudw1axPiR4E0/4m%2BBtT8B6nq%2Bp6fFqVsYv7Q0a9Nvd2r5DJLDIM7XVgrDIKkjDBgSCAfHnhr/gol%2B0Rrdz8VZ4rHwhLp3wP0%2Bz1nxXNe%2BDtT0u%2B1/Trh5z5cVhc3nn6LcRx2N7gXQnMwNrKsaxzA19vV89/wDDub4ZXPiXxB4w1v4ueO9R1PxvcWrfEi5ubvTkHi%2BC2EK21reJFZIkcMUcPlKLVbdmSWUOzmRifoSgAooooA5b4zap8RdF%2BH17q/wwuNLg1G12zTXWraNeakkFqh3ztHZWRWe8m8tWEcEbozuVAOflb5i/ZU/by%2BM/xm%2BIqaZ8Wtf8L%2BGNGfxCukaQi/DHWQNdkxKo/wCJi96bbTLmR4yPsFwrzwyB7d90qNX1B8VvhpF8U/DUOhL4013w7dWmowX2n614cuo4rq1nibcpAmjkhlUjcrRyxyIysQVzgjzTwf8AsI%2BC/CN5YRv8ZvH%2Bq6Ra%2BK/%2BEpvfDmr6nZy2Wo66bqS8bUJNtqssTG7f7QYLeSG28xFIhHzBgD3GiiigAooooAKKKKACiiigAooooAKKKKACiiigAooooAKKKKACiiigAooooAKKKKACiiigAooooAKKKKACiiigAooooAKKKKACiiigAooooAKKKKACiiigAooooAKKKKACiiigAooooAKKKKACiiigAooooAKKKKACiiigAooooAKKKKACiiigAooooAKKKKACiiigAooooAKKKKACiiigAooooAKKKKACiiigAooooAKKKKACiiigAooooAKKKKACiiigAooooAKKKKACiiigAooooAKKKKACiiigAooooAKKKKACiiigAooooAKKKKACiiigD//Z\">"
            ]
          },
          "metadata": {
            "tags": []
          }
        }
      ]
    },
    {
      "metadata": {
        "id": "2uEJ08hBHXSn",
        "colab_type": "text"
      },
      "cell_type": "markdown",
      "source": [
        "# Submit a linear model"
      ]
    },
    {
      "metadata": {
        "id": "ObmLo6dRHXSo",
        "colab_type": "code",
        "colab": {}
      },
      "cell_type": "code",
      "source": [
        "## GRADED PART, DO NOT CHANGE!\n",
        "# Testing shapes \n",
        "grader.set_answer(\"9XaAS\", grading_utils.get_tensors_shapes_string([W, b, input_X, input_y, logits, probas, classes]))\n",
        "# Validation loss\n",
        "grader.set_answer(\"vmogZ\", s.run(loss, {input_X: X_val_flat, input_y: y_val_oh}))\n",
        "# Validation accuracy\n",
        "grader.set_answer(\"RMv95\", accuracy_score(y_val, s.run(classes, {input_X: X_val_flat})))"
      ],
      "execution_count": 0,
      "outputs": []
    },
    {
      "metadata": {
        "id": "ZZLvs6X9HXSr",
        "colab_type": "code",
        "colab": {
          "base_uri": "https://localhost:8080/",
          "height": 34
        },
        "outputId": "2498a418-e39c-4a38-d0be-3ffa6ead4926"
      },
      "cell_type": "code",
      "source": [
        "# you can make submission with answers so far to check yourself at this stage\n",
        "grader.submit(COURSERA_EMAIL, COURSERA_TOKEN)"
      ],
      "execution_count": 15,
      "outputs": [
        {
          "output_type": "stream",
          "text": [
            "Submitted to Coursera platform. See results on assignment page!\n"
          ],
          "name": "stdout"
        }
      ]
    },
    {
      "metadata": {
        "id": "wmDphMYpHXSv",
        "colab_type": "text"
      },
      "cell_type": "markdown",
      "source": [
        "# MLP with hidden layers"
      ]
    },
    {
      "metadata": {
        "id": "IqP8YH8dHXSw",
        "colab_type": "text"
      },
      "cell_type": "markdown",
      "source": [
        "Previously we've coded a dense layer with matrix multiplication by hand. \n",
        "But this is not convenient, you have to create a lot of variables and your code becomes a mess. \n",
        "In TensorFlow there's an easier way to make a dense layer:\n",
        "```python\n",
        "hidden1 = tf.layers.dense(inputs, 256, activation=tf.nn.sigmoid)\n",
        "```\n",
        "\n",
        "That will create all the necessary variables automatically.\n",
        "Here you can also choose an activation function (remember that we need it for a hidden layer!).\n",
        "\n",
        "Now define the MLP with 2 hidden layers and restart training with the cell above.\n",
        "\n",
        "You're aiming for ~0.97 validation accuracy here."
      ]
    },
    {
      "metadata": {
        "id": "Vs-gVRqQHXSx",
        "colab_type": "code",
        "colab": {
          "base_uri": "https://localhost:8080/",
          "height": 88
        },
        "outputId": "b1fb2fbd-bfef-4820-8727-b9a2d631d7da"
      },
      "cell_type": "code",
      "source": [
        "# write the code here to get a new `step` operation and then run the cell with training loop above.\n",
        "# name your variables in the same way (e.g. logits, probas, classes, etc) for safety.\n",
        "### YOUR CODE HERE ###\n",
        "\n",
        "\n",
        "# Placeholders for the input data\n",
        "input_X = tf.placeholder(tf.float32, (None, 784))### YOUR CODE HERE ### tf.placeholder(...) for flat X with shape[0] = None for any batch size\n",
        "input_y = tf.placeholder(tf.float32, (None, 10))### YOUR CODE HERE ### tf.placeholder(...) for one-hot encoded true labels\n",
        "\n",
        "# Compute predictions\n",
        "hidden1 = tf.layers.dense(input_X, 256, activation=tf.nn.sigmoid)\n",
        "hidden2 = tf.layers.dense(hidden1, 256, activation=tf.nn.sigmoid)\n",
        "logits = tf.layers.dense(hidden1, 10)  ### YOUR CODE HERE ### logits for input_X, resulting shape should be [input_X.shape[0], 10]\n",
        "probas = tf.nn.softmax(logits)      ### YOUR CODE HERE ### apply tf.nn.softmax to logits\n",
        "classes = tf.argmax(probas, axis=1)         ### YOUR CODE HERE ### apply tf.argmax to find a class index with highest probability\n",
        "\n",
        "# Loss should be a scalar number: average loss over all the objects with tf.reduce_mean().\n",
        "# Use tf.nn.softmax_cross_entropy_with_logits on top of one-hot encoded input_y and logits.\n",
        "# It is identical to calculating cross-entropy on top of probas, but is more numerically friendly (read the docs).\n",
        "loss = tf.reduce_mean(tf.nn.softmax_cross_entropy_with_logits(labels=input_y, logits=logits))### YOUR CODE HERE ### cross-entropy loss\n",
        "\n",
        "# Use a default tf.train.AdamOptimizer to get an SGD step\n",
        "step = tf.train.AdamOptimizer().minimize(loss)     ### YOUR CODE HERE ### optimizer step that minimizes the loss"
      ],
      "execution_count": 16,
      "outputs": [
        {
          "output_type": "stream",
          "text": [
            "WARNING:tensorflow:From <ipython-input-16-f24a8f0be3fd>:5: dense (from tensorflow.python.layers.core) is deprecated and will be removed in a future version.\n",
            "Instructions for updating:\n",
            "Use keras.layers.dense instead.\n"
          ],
          "name": "stdout"
        }
      ]
    },
    {
      "metadata": {
        "id": "Lb69WupDJaOE",
        "colab_type": "code",
        "colab": {
          "base_uri": "https://localhost:8080/",
          "height": 309
        },
        "outputId": "c419a89e-4fd6-4cba-a095-55bd092cd383"
      },
      "cell_type": "code",
      "source": [
        "s.run(tf.global_variables_initializer())\n",
        "\n",
        "BATCH_SIZE = 512\n",
        "EPOCHS = 40\n",
        "\n",
        "# for logging the progress right here in Jupyter (for those who don't have TensorBoard)\n",
        "simpleTrainingCurves = matplotlib_utils.SimpleTrainingCurves(\"cross-entropy\", \"accuracy\")\n",
        "\n",
        "for epoch in range(EPOCHS):  # we finish an epoch when we've looked at all training samples\n",
        "    \n",
        "    batch_losses = []\n",
        "    for batch_start in range(0, X_train_flat.shape[0], BATCH_SIZE):  # data is already shuffled\n",
        "        _, batch_loss = s.run([step, loss], {input_X: X_train_flat[batch_start:batch_start+BATCH_SIZE], \n",
        "                                             input_y: y_train_oh[batch_start:batch_start+BATCH_SIZE]})\n",
        "        # collect batch losses, this is almost free as we need a forward pass for backprop anyway\n",
        "        batch_losses.append(batch_loss)\n",
        "\n",
        "    train_loss = np.mean(batch_losses)\n",
        "    val_loss = s.run(loss, {input_X: X_val_flat, input_y: y_val_oh})  # this part is usually small\n",
        "    train_accuracy = accuracy_score(y_train, s.run(classes, {input_X: X_train_flat}))  # this is slow and usually skipped\n",
        "    valid_accuracy = accuracy_score(y_val, s.run(classes, {input_X: X_val_flat}))  \n",
        "    simpleTrainingCurves.add(train_loss, val_loss, train_accuracy, valid_accuracy)"
      ],
      "execution_count": 17,
      "outputs": [
        {
          "output_type": "display_data",
          "data": {
            "text/html": [
              "<img src=\"data:image/jpeg;base64,/9j/4AAQSkZJRgABAQEASABIAAD/2wBDAAIBAQEBAQIBAQECAgICAgQDAgICAgUEBAMEBgUGBgYFBgYGBwkIBgcJBwYGCAsICQoKCgoKBggLDAsKDAkKCgr/2wBDAQICAgICAgUDAwUKBwYHCgoKCgoKCgoKCgoKCgoKCgoKCgoKCgoKCgoKCgoKCgoKCgoKCgoKCgoKCgoKCgoKCgr/wAARCAEgA2ADASIAAhEBAxEB/8QAHwAAAQUBAQEBAQEAAAAAAAAAAAECAwQFBgcICQoL/8QAtRAAAgEDAwIEAwUFBAQAAAF9AQIDAAQRBRIhMUEGE1FhByJxFDKBkaEII0KxwRVS0fAkM2JyggkKFhcYGRolJicoKSo0NTY3ODk6Q0RFRkdISUpTVFVWV1hZWmNkZWZnaGlqc3R1dnd4eXqDhIWGh4iJipKTlJWWl5iZmqKjpKWmp6ipqrKztLW2t7i5usLDxMXGx8jJytLT1NXW19jZ2uHi4%2BTl5ufo6erx8vP09fb3%2BPn6/8QAHwEAAwEBAQEBAQEBAQAAAAAAAAECAwQFBgcICQoL/8QAtREAAgECBAQDBAcFBAQAAQJ3AAECAxEEBSExBhJBUQdhcRMiMoEIFEKRobHBCSMzUvAVYnLRChYkNOEl8RcYGRomJygpKjU2Nzg5OkNERUZHSElKU1RVVldYWVpjZGVmZ2hpanN0dXZ3eHl6goOEhYaHiImKkpOUlZaXmJmaoqOkpaanqKmqsrO0tba3uLm6wsPExcbHyMnK0tPU1dbX2Nna4uPk5ebn6Onq8vP09fb3%2BPn6/9oADAMBAAIRAxEAPwD9/KKKKACiiigAooooAKKKKACiiigAooooAKKKKACiiigAooooAKKKKACiiigAooooAKKKKACiiigAooooAKKKKACiiigAooooAKKKKACiiigAooooAKKKKACiiigAooooAKKKKACiiigAooooAKKKKACiiigAooooAKKKKACiiigAooooAKKKKACiiigAooooAKKKKACiiigAooooAKKKKACiiigAooooAKKKKACiiigAooooAKKKKACiiigAooooAKKKKACiiigAooooAKKKKACiiigAooooAKKKKACiiigAooooAKKKKACiiigAooooAKKKKACiiigAooooAKKKKACiiigAooooAKKKKACiiigDxPxd/wAFFP2PvAmoXmn%2BK/ipc2gs9UbTReHwpqj2l5eLfw6fJb2lwlsYb2SO7nigkW3eQxOxD7drY2j%2B2f8As6R%2BObL4c3XjHUbfVLy6sLNlu/Cmpw29le3sUctpY3dw9sIbG8lSWIraXDxzkzRjy8uoPiVz%2Bxn%2B1bH4C8N/s66Zqfw9HgXwn8W9N8V22tXOo3r6rqtnb%2BLrXWxbyQC1EVrLHAlxFvEswuJFiJ%2Bzqzbeh8cfsffGzXfGPi3wPoup%2BFv%2BEA8c/F7QfHuq61dalcrrOnvp8mlTyWEVqtu0Mwll0mLbcNcRmJLhh5TmNSwB6Fa/t1fsv3cGr3w8f30Nno2n3N7LqV54U1OC0vYLedLeZ7G4ktli1HbNJHHi1aYlpEAB3rns/hT8ZfAXxp0m91fwJc6njTdQNlqVnrfh690q8tJxGkuyW1voYZ48xyxupZAGVwQSDmvmbTf2IPj5a6t4mtbTwl8ONN8MazoOp22reBV8Za1feHfFN5cXcEsdw2mTwCPQGCJcEvZyTnzLkMRL5Q3egfs4/sm%2BOvDGmXP/AAu3xl4hhgsfFa6n4L8M6H8ZPEOpQaLbC3tla2mvpmtZtTheeGSUQXUbxRLKY1BQnIB0kX7eP7Kk0fiC6HxNlW18N6Jqur32oy%2BHdQS0urLTSRfzWVw1uItSFuRiQWjTFSQCMkZ5vx3/AMFL/wBmXwh4Vl8TaPd%2BJtceDxF4b0yXTdP8Dav9qeLW78WdnfwxNaB7m1crO0c8IeOZoTFEzyvGjeKaH/wSx%2BI%2BjfBrXPgl5eiXX9m/DfxR4c8C%2BK9W%2BK/ia/LzajZT2VtI%2Bkz5sdLUQzFZjALjJGY0j4A7z4//ALEPxs8d%2BOH%2BIfw%2B1Pwo9zp/hz4cxaTp2r6nc20dzfeG/FE2szxSyRW0phhlidIklVJGDliYsAbgD1V/25/2ZFtteu4/G%2BpzJ4b8Sf8ACPakLbwfqsrPq/nPCdOt1S1JvLsOhJggEkgQrIV2MrGpqn/BQX9lDSbTRp5PH%2Bq3U%2Bv2Wq3WmaXpfgnWLy/ZNMuIrfUFks4LR7iGW3lmRZIpI1kT5iVwjleFtv2OvjToXha08QaFfeFZvFegftCaz8R9G0y61O5j0%2B%2Bgvl1C3NnPcrbNJDILbUZSJFhlCyxJ8rCvMNI%2BEf7S3wX/AG5vCGqeD9N8Dav478U%2BA/iX4l1jSNT128tdItftmt%2BFwlvBdpZyzN5Srb5kNuvnFZfli8wbQD6jsf2yP2adU8Gaz8QtK%2BKVvd6PoNxpMGoXtpY3MoLapDaTaeYVWMtcrcJfWvlvCHVmkKZ3I6r6bXwN8Nv2Q7XwR%2B1Z8Ff2dvBXxLsNdsPh58M9Ff432dmnD3ugLu8PPKqki2klutRnuUjf52i06PGVQGvvmgAooooAKKKKACiiigAooooAKKKKACiiigAooooAKKKKACiiigAooooAKKKKACiiigAooooAKKKKACiiigAooooAKKKKACiiigArzb4q/tdfs/fBPxlH4D%2BJPje4stR%2By2l1efZ9Bvru3023urh7a2nvbi3geGwilmjkRJLl41YxvgnY2PSa%2BQ/28f2Kv2o/2pNZ8Z6N4R%2BIWn/8I5rvhC0s/DFtqHxB1rSoNGvoXnkm8/TtPi8jU47ljApluZG8hVJWCXbscA9gh/br/ZUku9btpviqtrFoGn6hfXeoahot7bWVzb2EywXslndSwrDqAhldI3%2ByvKVd1U8sAdDwJ%2B2B%2Bz78R/EmneC/DXjC%2Bj1vVNTutPt9D1fwzqOnX0Vzb2kd5LHPb3dvHLbH7NLHMvnKgkSRShbIrwzQ/wBjX9rW8/ZXP7IXiDWvh5pWgaLpEn9ga1ZX99qF3qF9FqUN9YC5R7e3W2hjMRinKNO1xuDqIOYz1/jH4S/tp%2BNfiB4H%2BPWqaH8ME1/wZ4l1CS08HQeJtQWzGmXel/ZHLambAyTXAnHnAfY408s%2BVnK%2BawB2uh/t0/steJddsPDmh/EuW4utR0KfWotnh7UBFDpsM9zbzXk8pg8u1gSa0njaSZkUMEBP72Le3w9%2B3Z%2By74m8J6741sviFe21l4dsdPvdSj1fwrqdhctbX8jRWM0Ftc20c13Hcyq0UDQJIJpAUjLN8teO/s%2BfsI/tK/Bjw3q7xfFHwvY%2BKLj4J3fhXR/EWlxzSrY61Jq2rX0V6IZYgDAn263baWJ3RuuCAGbkrH/gnN%2B1HceNNR%2BImoa74div59G8Iz2dvrXxT1/xIw1jw7r39rQrLc6hbB/st3vlR/JSJbU7WjgmJY0AfUHw9/bC/Z2%2BJ%2Buy%2BF/Cnj%2BRdTttLvdQvdN1fRL3Tbizgs5Yorrz47uGJoHia4ty8UgWRVnicrskRj2nw98e%2BFvip4C0T4m%2BBr%2BS70XxFpNvqWkXU1nLbtNazxrLE5imVJIyUZTtdVYZwQDxXxx%2B3H8PfjP8Ybb4c/D3xh4x8IaH8UvFXjTUNFj8PeD724unh8D6lZNaa0vnSpDLMYoUS7N2YYIxPDbRBdxQyfbOnadYaRp8Gk6XZx29rawrDbW8KBUijUAKqgcAAAAD2oAmooooAKKKKACiiigAooooAKKKKACiiigAooooAKKKKACiiigAooooAKKKKACiiigAooooAKKKKACiiigAooooAKKKKACiiigArwn4HXHjfw/8evjzo9z451/xMLLUNMvtGstb1Ayx2jT2DS/ZbaNQqQRA7ECooLbdzl5Gd292rhtA/Zh/Zq8J%2BNrj4leFv2efA2m%2BI7u4M914g0/wlZw3s0pbeZHnSISMxb5txOc89aAPC/2CvF3ii98TeFYZvif4g8UQ%2BMPgJoPi/wATSa5r1xfrBq9zK4M8KzOws0uN04%2BzxBIV%2BxgJGu1s/T3iLU5tKskuYJ7eMtKFJuEcjoT/AAc54rP8E/Cr4X/DS41O6%2BHHw30Dw/LrV4bvWJNE0eC0a/uCSTLMYlUyvlm%2BZsnk881xnxk%2BLLaD8Z/B/wAEm0pGj8TeHtb1cXxlIaJ9Pm02IRBcYIddQdic8eSBg7uE5whJc2zaXzei/E6cLg8RjZSjRV3GM5v/AAwjzSfyWtt30Oq/4TO//wCglpf/AH5n/wAKP%2BEzv/8AoJaX/wB%2BZ/8ACuXort9lA47s6j/hM7//AKCWl/8Afmf/AAo/4TO//wCglpf/AH5n/wAK5eij2UAuzrX8W3y2Udz/AGhpuXldSTDPg4CnjjOfm/l71F/wmd//ANBLS/8AvzP/AIVgzf8AIFt/%2Bvqb/wBBiqrSVOIXZ1H/AAmd/wD9BLS/%2B/M/%2BFH/AAmd/wD9BLS/%2B/M/%2BFcvRT9lALs6j/hM7/8A6CWl/wDfmf8AwqW48W30UUEg1DTR5sRYloZ8H52HGB04798%2B1clVrUP%2BPSx/69T/AOjZKTpxuF2b3/CZ3/8A0EtL/wC/M/8AhR/wmd//ANBLS/8AvzP/AIVy9FP2UAuzqP8AhM7/AP6CWl/9%2BZ/8KP8AhM7/AP6CWl/9%2BZ/8K5eij2UAuzrbvxbfW8ojXUNNGYkbDwz5%2BZAew6c8e3Wov%2BEzv/8AoJaX/wB%2BZ/8ACsHWP%2BPtP%2BvWD/0UlVaSpxsF2dR/wmd//wBBLS/%2B/M/%2BFH/CZ3//AEEtL/78z/4V554%2B%2BJfw5%2BFOhDxR8UfH%2BieGtMM6wDUdf1WGzgMrAlU8yZlXcQpwM5OD6Vxf/Dbv7F//AEd38L//AAvtO/8Aj1YVa2Coy5alSMX2cop/c5J/gerg8iz7MaPtsJg61WF7c0KVWcbrdc0KU1ddVe66pHu//CZ3/wD0EtL/AO/M/wDhUt74tvra9mtl1DTQI5WUB4Z8jBxzgYz9K8D/AOG3f2L/APo7v4X/APhfad/8ervfDPxO%2BGvxbhu/Fvwp%2BIWh%2BJ9KOoSxDU/D2rQ3tuZAclPMhZl3AMpIznketKnXwVafLTqRk%2BylFv7lJseMyLPsuoe2xeDrUoXS5p0qsI3ey5p0oK76K930TO6/4TO//wCglpf/AH5n/wAKP%2BEzv/8AoJaX/wB%2BZ/8ACvn7xh%2B2d8G/h98Vtc%2BFHjX%2B3rO60SHSB9rg8LahdRXtzqBuPItYPs8D%2BdKRBwqZLM5UAsjgWde/a5%2BDml6he6Dba9LHqVjfwW7Q6zompWUNyH1O302R7aZrRlu1S4uIoy0O9A8kYd41fzB0clM8m7PeP%2BEzv/8AoJaX/wB%2BZ/8ACpbLxbfXN7DbNqGmkSSqpCQz5OTjjIxn614X8Pv2s/gT8U9RfSvAXibUtQnW2FzEq%2BFtSjFzD9qFq8sDSW6i4SOdgkrRFhCTmQoOazPjl%2B1df/AnxVerpHw5i12x8H%2BEm8X%2BObqXWzaSWGkRzOu62jEEn2qdlt7txEzQri3x5gLgUOELXC7PoL/hM7//AKCWl/8Afmf/AAo/4TO//wCglpf/AH5n/wAK%2Bf8A9oT9pHxB8H9XGg%2BCfhnD4nu7PwjqXijWop9c%2Bw/Z9NsmhVxCfIl865kMpEUTeWh8p98sfy7uT%2BIf7dy/DLxPfw6/8N7S60aDwfqniaxGj%2BKY7nWZdLsrF7v7dNpwhAtrWZo2gilacsZWiVkUu2wcKaC7Pqz/AITO/wD%2Bglpf/fmf/Cj/AITO/wD%2Bglpf/fmf/Cvli2/bI8e33i2P4LWHwh8PXHxGk1OOP%2Bxbfx476Wlk%2BnNfLdtfLY%2BYOF8ryxbEl2Qg%2BW3mVW%2BDv7elr8bPibp/gvw/4f8ACOk2d7oul6iIvEfj/wCy61Kt3ZfapEt9PW0dbgwco5E6jKscgDk5KY9T61tPFt9cSmNtQ004idsJDPn5UJ7jpxz7dKi/4TO//wCglpf/AH5n/wAK%2BZvgF%2B3X4a%2BKPw41/wCNWo6Jo9v4esdCgv8ASV0DxdDquo3AvI5Ra2VzaIkb2eoS5twttmQM9yqLIWVgOd8M/wDBQO48UP4E0aH4caBp2ueKdEtNU1jRdc%2BIUFm9mlzeyWkVtZNJABqNyWt7txH%2B5BW3%2B/l1BXJTuGp9d/8ACZ3/AP0EtL/78z/4Uf8ACZ3/AP0EtL/78z/4V8l6D%2B3pPq2leOtdl8J%2BDpF8I6/quiWWgaX8RPtOuXV7b67Jo1p9psjZILKK5mRWEhlk2CROHySNTXf2svivo/gzxZrC/AfR21L4eXt/F48Fz48EGmafHb6da6ijQ3bWfmztNbXsLIDbxorJMJHTYpkfJTFdn1B/wmd//wBBLS/%2B/M/%2BFS2/i2%2BlinkOoaafKiDArDPgfOo5yOnPbvj3r5Z0L9tPUfE/jyHw5pfwwtbXTNS8SHwzo91rPiNra%2BfWjon9rpDcWYtn8i3MWYzKJJJA%2BD5BQh6ZrX7Yvxk8EfCv4neP9d/Zx0q/HgS8hsZj4d8eme1nKpFcXcjTXFjbuiwho4v3cUxadzHhBHI6pwp2Hdn1J/wmd/8A9BLS/wDvzP8A4Uf8Jnf/APQS0v8A78z/AOFfPGv/ALVlvZftMR/s66Bomg3Mtv8AY11WXUvGUNjftJcJJJtsrKSMm98mJY5Zv3kZVJl2CVgVHN6x%2B3hF/wAJp4x8HeEfhh9vXQtS8Oad4c1a91wWtprdzqup3umFmcQu1tBBdWM0Zl2yNKVOxCDGZHyUxXZ9V/8ACZ3/AP0EtL/78z/4VqeG9auNX87z7m1k8vbj7MkgxnPXeB6dq8T%2BBnxZg%2BM3gI%2BLDpkFjeWms6jpGrWNtfi6igvbG8ms51jm2J5sfmQsUYojFWUsiNlR6x8Nv%2BX3/tn/AOzVM4RULoabudRRRRXMUFFFFABRRRQAVzPiDxlqmk6vNp9vBbske3aXRs8qD2b3rpq4Pxn/AMjLc/8AAP8A0Ba1pRUpaiexa/4WHrX/AD62v/fDf/FUf8LD1r/n1tf%2B%2BG/%2BKrx7xF%2B1z%2Byj4P1278L%2BLf2nfh5pep2E7QX2naj40sYJ7aVThkkjeUMjA9QQCKp/8Nu/sX/9Hd/C/wD8L7Tv/j1Q8XlsXZ1YJ/44/wDyZ7dPhfiqrBThl%2BIcWk01QrtNPVNNUWmmmmmm01qm0e2/8LD1r/n1tf8Avhv/AIqj/hYetf8APra/98N/8VXj3h39rn9lHxhrtp4X8JftO/DzVNTv51gsdO07xpYzz3MrHCpHGkpZ2J6AAk1rfHj4w6B8APg74i%2BM3ifTb%2B8sfDumPdzWmmWkk882MBUVI1ZuWIBbGFBLNhQSNqU8LXi5U5Rkl2af5Nnn47Lc0yyooY2hUpSaulUhODa2ulOEG1fS6TV9L3PUdR8d6xZ6hPaR29sVimZFJRskAkf3qh/4WHrX/Pra/wDfDf8AxVeN6x%2B2J8CLi%2B129sdT8SXQ0nX30zUIbLwBrU80d5slmaARR2hdnSONmkCqfKBTzNm9N2Lc/txfs96bdzpfeNftcLyRnR/%2BEd0bUtUmvoW0y21IyCK2tGJxbXUcv7syL5Z3FgQ6JahTtscWp79/wsPWv%2BfW1/74b/4qj/hYetf8%2Btr/AN8N/wDFV5vf/GfwDZ/DPVvi9DqM9xoGj6G2rzahFZSCO4sxaC7EsDuqrOpiIO5CRnKkhlYDmfgt8f8AxR491XWvCnxM%2BGkPhnW9H8OaX4gNhp2ttqaSaff/AGtYCX8iEidZLG5R4grKCilXcOMPkp9guz3TTvHesXmoQWklvbBZZlRiEbIBIH96of8AhYetf8%2Btr/3w3/xVfKngL/goJrPiAeGYo/hHpEXiDxjB4a1LwXph8bbrW4stYlnW3e9uVtCbORPs7h0SK4Us8aRvKWO3Qvf2zvFqfDuw%2BLWlfBW0uvDkOp/2X4m1D/hL0Bh1FNak0ea009Egc6g63ETlS/2ZZFeHYS7ska5ad9g1Ppv/AIWHrX/Pra/98N/8VR/wsPWv%2BfW1/wC%2BG/8Aiq%2BZfiX%2B198RPg34l8S6Z8QvhD4b/s/QfD0F%2Bl/pHjuWVzcXuopYaXbXCz6fAlv9plMxMgkkEIt3LBgVJ9N%2BBvxLvfi58O7bxvfWehRNPczxpL4Y8UR6zp9wkcrIssF3GkfmIwHRo0ZW3KV4yXyU29guz03/AIWHrX/Pra/98N/8VU1j471i6naJ7e2AEMj8I3VUZh/F7VzdWtH/AOPt/wDr1n/9FPQ6cLbBdmp/wsPWv%2BfW1/74b/4qj/hYetf8%2Btr/AN8N/wDFVg0U/Zw7Bdm9/wALD1r/AJ9bX/vhv/iqP%2BFh61/z62v/AHw3/wAVWDRR7OHYLs6S28d6xPBcStb2wMMIdcI3J3qv97/aNQ/8LD1r/n1tf%2B%2BG/wDiqy9P/wCPS%2B/69R/6NjqrSVOF9guze/4WHrX/AD62v/fDf/FUf8LD1r/n1tf%2B%2BG/%2BKrBop%2Bzh2C7N7/hYetf8%2Btr/AN8N/wDFVMnjvWG0%2BW7NvbbkmjQDY2MMHJ/i/wBkVzdWof8AkC3H/X1D/wCgy0nTh2C7NT/hYetf8%2Btr/wB8N/8AFUf8LD1r/n1tf%2B%2BG/wDiqwaKfs4dguze/wCFh61/z62v/fDf/FUf8LD1r/n1tf8Avhv/AIqsGij2cOwXZ0j%2BO9YXT4rsW9tueaRCNjYwoQj%2BL/aNQ/8ACw9a/wCfW1/74b/4qsub/kC2/wD19Tf%2BgxVVpKnDsF2b3/Cw9a/59bX/AL4b/wCKo/4WHrX/AD62v/fDf/FVg0U/Zw7Bdm9/wsPWv%2BfW1/74b/4qprrx3rEEFvKtvbEzQl2yjcHey/3v9kVzdS65e2enaVa32oXcUEEVmzSzTSBUQebJySeAKThTXQceaTstWbP/AAsPWv8An1tf%2B%2BG/%2BKo/4WHrX/Pra/8AfDf/ABVfP/xG/wCCgn7FHwoMkfjX9pvwjFNFnzbWw1Vb6dD6GK28xwfbFefj/gq78GfE3HwS%2BBnxe%2BIYf/UXHhP4fXDQP6MXnMe1ffFebVzbJaE%2BSdaHN2T5n90eZ/gfZ4Dw54%2BzKgq9DLK3s39ucHSh/wCB1nQh/wCTH2B/wsPWv%2BfW1/74b/4qum8P6jPq2kQ6hcKivJu3BAQOGI7/AEr4a/4bB/bu8XcfDT/gmXrUUL/dvPGHj6w00oPVoSrOfoDmvrX9mbVvivrvwQ0TVvjh4R0zQfFEwuTqmk6Pfm6t7fFzKIwspA3kxCNj6MSB0pUsfhcVLloxl3u4Tivk5JX%2BSOTOuEM24ewqrY2pQu3y8kMRQq1Fo3dwo1Kjilazba1sup3lFFFbnzIUUUUAFFFFABRRRQAUUUUAFFFFABRRRQAUUUUAFFFFABRRRQAUUUUAFfL/AO1prH9mft9/s%2BWW/H9o%2BGPHNvj1xHpEuP8AyFX1BXx5%2B3vcz6X/AMFCP2T9XLYge68a2U3u02l2%2Bwf99R/pXn5nP2dCEv8Ap5S/9ORX6n2/AGHWLzyvSfXC4371hK0l%2BMT3OiiivoD4QKKKKALU3/IFt/8Ar6m/9BiqrVqb/kC2/wD19Tf%2BgxVVpIAooopgFWtQ/wCPSx/69T/6NkqrVrUP%2BPSx/wCvU/8Ao2Sk90BVooopgFFFFAFrWP8Aj7T/AK9YP/RSVVq1rH/H2n/XrB/6KSqtJbAYnj74afDn4raEPC/xR8AaJ4l0wTrONO1/SobyASqCFfy5lZdwDHBxkZPrXF/8MRfsX/8ARonwv/8ACB07/wCM1s/H39ov4N/sv%2BBF%2BJfxz8Y/2HojX0dmt7/Z9xc5ncMUTZbxyPyEbnGOOT0rxX/h81/wTX/6OQ/8s/Wf/kOvJxuKyCjX5cZOkp2Xx8l7dPiTduxpHjevw%2BvqkM0lh18XIsROktevLGrBa235dbbux6j/AMMRfsX/APRonwv/APCB07/4zXe%2BGfhj8NfhJDd%2BEvhT8PdD8MaUNQllGmeHtJhsrcSE4L%2BXCqruIVQTjPA9K%2Bcf%2BHzX/BNf/o5D/wAs/Wf/AJDr3H4L/tJfBb9qnwxd/FP4C%2BM/7e0FtWntRf8A9nXNr%2B9TazLsuI434Dqc7cc9etLBYrIa2I5cHOk52fwcl7dfhSdu4S43r8QL6pPNJYhfFyPETqrTryyqzWl9%2BXS%2B6ucV45/ZU1Pxj%2B0Anxlh%2BI1va2BvtBvbjRX0JpZnuNMa%2B2Fbj7QqqkiXpBUxMVaMMGIO0eZR/wDBMi%2Bj8ew%2BOl%2BMWircC7nOoXkfgILqGqwP4g07WkN5d/bN9xcI%2BnLAJWGwRyHbChB3e1eJ/wBp7wF4T8ZX3w/1PRtZbWLPxDpWlQ2MFtEz3v2%2BFpo7qEeYN0CRw3hkY7XH2C42o%2B1N/j2s/wDBTfwR4i06yv8A4Yaf5X2TXZ7fxTBqD2OpS29n/wAI5reqwyw/2fqDwmUy6VsMMkyOAJFZYy6SD1XydSNT0T4W/sqat8J9T8I6zofxItri48K%2BE9S0LF1oLFLpLzU7O9klwtwCjKlq0SjLDdKHOQhje18cv2UL347%2BKrxtK%2BIyaFY%2BMPCbeEPHNrJo32p9Q0iSZ2K28gmj%2Byzhbi7QSssqgXBPlkqprmH/AG2r3xB8SvA/gv4efDLWL7Tdc8W3ui6rr11Z28dveS22gX2oyW9l/pm%2BOdZ7eGImdREQJlV22%2BYvffFD4k/FDTviN4C%2BFfwifRNN17xZcXly%2BoeKNNlvbeyt7SFHdTBb3EJkkaWaBMiUKql2%2BbABHy8rDW5hfHP9mjxr8XdTl1zQ/izZeH7298M6t4Y1OaPw01wJdHvnhbEYa6Xy7yHyfknO%2BPMkhaBgVC1b/wDZV8bal4w0i6ufjco8PeFby/vPBunp4Yja/wBMludMn09YXupJWiuLWJLqV0ha3BLLDvdxHhq8X7Svj/4h/Cb4Na98NLDRtH174tpBIZNcs5b%2B10dP7JuNQnzFFNA1wQ0AgXEkY/ebySF2N5t4W/4KA/FXxP448KaM/h3Q7SLUbjw9Y6tp6aHe3Mctze309neP/aiSi203yngdoLe6Qy3e1EjJaZdo3ENTrPBn7Bmr/Du/t/iF4D%2BIHhPRPG1rrH2iC80X4ci00RLQ2L2jWg02K8VgCZHuS4uAxnOf9X%2B6rV0z9ivVtI0Twl8NLf4r2s3grwxcaBdvYXXhSM6tdXWktHJGwv45kVUlmiR5FaCRiJJo1dEkCpV8KfG79qDXfHvjD4Q3Nx4Di13RNH0u/GoXuganYWWm%2BfdSpdKq3Eok1iKGCPcl1D9mhlkHlloiW8vn9Y/a1/aG0/4F6H8dIbbwk2mXGrz2SzJ4Z1KSHxBGNVltre9SZZ/K0WyntI47lbq6knjH2hRkgK0p7oanR/C7/gnd4J02bT9I%2BJXi%2BfWNL8LeFLDQ/BVv4cN74fuLCz04XD2r3FzZ3gkurhfNH7xTFHlSwiBcmsLT/wDgm5Z%2BHvAdt8PvDPxadba98MxeHvF17rOlz6jd32nxahNfRC0mnvC1jKr3M4DkzINyMIwY1Ndv4a/aX%2BJPjH9qDWPhR8OPCmiXXh638B%2BIJtF1PUriaFtS1zTprS3mTzUDhLNJLwwM4jeTzrebAwg3%2Bfal%2B2f8XrL4I/DrxtrOq%2BB/D1/4p0fWLrV9f1nSrt9Ka9smVYdNgiW6WRJ7rdI0e6WQgW0gWOViope5cNTqfiH%2BxX4n%2BLGuzal46%2BMlk0Omx6m/g1tK8HR2l1p9zdX9tfRzXcizlL3yZrSAhVig8zbukLvhxB4k/Y1%2BK/iCddVuPjl4buLrVPGknijxnYan4CuJtL1m%2Bjs7OzsFFtHqcbxw20NlEwiklmWSYJK2Ciiuc0L9uv4peLNGs/jV4V8EaVe%2BDNR12HRNO8Mx2kx1m4uZdBXUY5hceb5WDcutr5HkZ2/vfNz%2B6qf4Tft26/4z0bWfDMWt%2BEPF/i46RoE3hlfClpcWtnLqGrC/VdOnWWeZw1o2nXE1xIGDLArkxI8bKX7oaneTfso3uvftE6T8e/G/ijw3eyaNdpfWq2HgSG01Frkac9l5Ml%2BJmeSyUyz3CW7q0iyumZmWNUp3ib9lLxxrX7JfiD9m/wAI/FzS7C616TUp9d8R6r4UkvPPF/qEt3OY4I72Hy5DNcAhzI64Vhs%2BYFfNfAv7bvxq8ZfD/wAOfFo6P4Wh0i18M%2BBLzxpYDTrk3F1da%2BYPP%2BxyfaNttHbJcRyKsiTtL80ZaPAkOToH7fv7Qeu%2BEfEd3omh6E98tvockKx%2BAdWnXTIrrxVZ6Xc%2BUiXIbxDFFbSzTC7sCkO6JM5EqrSbjYNT1HxX%2Bx94g8b%2BNh4q8QfErSY4dY1Tw9q3jSDTfCskE9/f6NcLPayWlwbxmso2McSSRsJyUVgjoZGY5lp/wT28E%2BC7zxLL8J/FlxY2Ot%2BDdB8O2Xh/xe974l0y2ttOvru5aKW11C8dZoJY7hYBEvlNAqSNFIjTOa5vxL%2B3Vr2m6loHhvQviZ4QuDHod3q3ivxJqHw%2B1q3tEEWpGzFpJbJNJNo2wxzrPdXbOkDxLuj/AHm1NLQf2wfin4j%2BNN/8HtOuvBS61qOreJdJ0Dwtd211Fe6NNp0j/Y7zUZFlfzLa8gia5QJDCdkkYRpMO6v3Q1PYv2evgtpnwB%2BF1t8OtOvLa4Zb%2B9v7yey01bO3a4urqW5kENurMIIVaUpHFubZGiKWYgsfXvht/wAvv/bP/wBmrwT9lT4y%2BMvjFofio%2BN2sZbnw54uk0i3vLTw/d6M93EtnaT%2BZNp15LJcWTh7iRAkrZkjjjnUCOZK97%2BG3/L7/wBs/wD2apqW9loC3OoooorkLCiiigAooooAK4Pxn/yMtz/wD/0Ba7yuD8Z/8jLc/wDAP/QFrah8ZMtjyjxF%2ByN%2Byj4w1278UeLf2Yvh5qmp387T32o6j4LsZ57mVjlnkkeIs7E9SSSap/8ADEX7F/8A0aJ8L/8AwgdO/wDjNcR8Rf8Agqx%2BwP8ACfx3q3w0%2BIHx5/s/W9DvpLPVLL/hF9Vl8idDhk3x2rI2D3Uke9Yv/D5r/gmv/wBHIf8Aln6z/wDIdeTUx3CsajU6lDmu739ne/W91e9738y14l4rDL2KzuceX3eX63VVraWsq6Sta1kla1rK1j13w7%2ByN%2Byj4P1208UeEv2Yvh5pep2E6z2Oo6d4LsYJ7aVTlXjkSIMjA9CCCK1fj58LG%2BN/wW8UfCJNeGlv4i0Wexi1I2vni1d1IWQx708wK2CU3LuAI3LnI8n%2BHX/BVj9gf4seO9J%2BGnw/%2BPP9oa3rl9HZ6XZf8IvqsXnzucKm%2BS1VFye7ED3r2T4rfEvQvg94CvfiP4os7ybTdNeE6g1lGjNbwPMkb3DBmUeVErmWQ5yI43IDEBT6OArZXXpyeClBxvryctr268qSvb8CJcRVeI37aeMeJ5NOaVWVXl62vKdRrvZNd7dTyP4jfsKap4yjk0vxH8SdC1F3%2BImreJNXstW8Efa9LvHvYWhZRZy3ZUSRMxkhkkeVUP3o361kfAL/AIJ73vwVu9CvdQ%2BMkWrvoelrYR%2BV4aNsJYk0Cw0aMnNzJhglgsrHozSFQFABrqPjf/wUM%2BCHwf8AEOpy%2BLtL1dNPtvFOo6VLq7XWmwQO9nJAlzJCtxeRy3SxyzPEY4I5Jt9tMBEQEL874Q/buI1nU/D3jDwrd6lq6eJtU0nQ9B8MaXGst%2BYvE2q6TbBZrq8WPzDDp/myhxGi7JHD4YRL1rkshanpngf4Cx6J%2Bzlb/s0%2BNfEMOsaNB4Kt/DJuLXT2tJZbVNPS0lZ8yyDc5EjjGAgdV%2BYqXbO%2BDPwD%2BIPw38R3njjxh8WNP8Q65qGk6Rol1ex%2BGWs4zpWnC7aCMR/apMXLTXs8jz5KHcFEKgDFj9lr42%2BKPjv8OG8aeJvBc2lyN4g1%2BzjPlpGkcdlrd9YQwuhmkcXAhtY2lOPLLu2w4%2BVeT%2BAX7SnxM%2BI3jzw1B4ystBGg/EHw5ret%2BFYdMsZ4rrTYbC%2BtIUiupHmdbl5obyOQskcIjaJ0w4YMK00DUpeC/wBgi70wa61z4u8C3Ws%2BJP7Ls5nl%2BElmuk3lvbXb3ErahpyzhLy4uWlPnTRvbjMcJjSLYQzfDn7FPjzwNqngtvB3xc8MtpPg%2BO8vIdC1rwFNPbf21e3txd3mpwR2%2BowJAx%2B0PFBGyS/ZkZwjHzDUfwv/AGt/iZ46/aHPwWg8TeDNM1bUtb8Q6fpGjS6DdXN94efTL4R21xqKC8j%2B0RXlsrXMYUW3yumxpl3SDnvHv7Znx3%2BHX7Knij4qww%2BEfE3io/2/qPgRbLQ7qxsrjQtJg3z6ldQm8nk8pmikMbJKBILyxU7DIzCfduGp6p4x/ZasvG2k/Eey1nxYss/jnxPpmt6dPNpYkTSZNPt9OFpCyNJi5iW6sDcMpKBvtMicffPQfAr4R6l8JtH1w%2BIfFFtq%2BseJfEtzres3en6UbG1%2B0SpHHtgt2lmaJAkKZ3SOWcu5OXwPPPCf7Vmv%2BLf2qdU%2BEy6zoNhoWm%2BKZvDsFjfeH9RF3qNzFpSX0kkOog/YxKGZlFiy%2BaYIZLjzMYjr3uqVnqgCrWj/APH2/wD16z/%2BinqrVrR/%2BPt/%2BvWf/wBFPTewirRRRTAKKKKALWn/APHpff8AXqP/AEbHVWrWn/8AHpff9eo/9Gx1VpLdgFFFFMAq1D/yBbj/AK%2Bof/QZaq1JdahYaV4YvNR1S%2BhtreG4iaae4lCIi7ZeSx4A%2BtKTSV2OMZSklFXbI6K8P%2BJX/BSb9hf4TzPaeLf2lvDctxGcNa6JO%2Bpyhv7pW0WQhvY4ri5P%2BCmV34/xZfsv/scfFTx9cSf6i/uND/sfS29M3lzwmfdOleZVzvKaU%2BR1ouXaPvy%2B6Ck/yPt8F4a8eY6gsQsuqU6T/wCXlVKhT9faYiVCNvS/oz6kor5aXTf%2BCtnxizLeeJPhj8HNPl%2B5DZWcmv6rBnrvMhFqxH%2BzS/8ADtDUPiB%2B%2B/aa/bP%2BK/jwP/r9Kt9cGkaXL65tbYcfg44rP%2B0sZW/3fCzfnNxpr7m5S/8AJUdX%2BpvD%2BX/8jbPMPBreGHjVxc/S9ONKjf8A7jSXm1qe7fEX9pn9nT4U6Wlp8S/jv4P0G4huZjJa6r4jtoJh8sf/ACzdwxPB4A7V4z4i/wCCs/7FdhfnQfAfjfWPHWr4%2BTR/A3hm7v5pP91gixn/AL7rsfAP/BN79hT4X6Jat4W/Zd8JSSpcSgXOs6cNSm4WPB8y7MjZ5POe9eqeH/C3hjwlYjTPCvhyw0y2HS30%2BzSFB/wFABSUc/q7ypU/RTm//JnCP4fIPbeFeA%2BCjjMW1/PUoYaD%2BVOOIqpeXPfzPmxf22v2xfG4874Of8EyvGc1tJ/qbnxx4pstBdR/eeGXew%2Bmc0HxF/wV88dHZpXw5%2BCvgSB/vtrWr32p3KD/AGfs4EZP14r6iop/2XiZ/wAXF1H/AIeSC/8AJYN/iL/XbJsN/uOQ4OHZ1PrGIl8/a14wb/7hr06Hy7/wyV%2B3z8QDn4u/8FGr3TLV/v6X8PvBVrYFfXbdMTL%2BYq3/AMOkf2X9Uax1T42eJviF8T7vyjJ5/j/x1d3QV/MccLC0S446EEc19L1a1D/j0sf%2BvU/%2BjZKX9g5XJp1YOp/jlKf4Sk1/5KD8UeN6SccDiI4RdsNSo4b/AMmo0o1P/Kt%2B9zzT4c/snfsx/CIRt8NPgB4Q0aWLG27stAgW4OO5lKmRj7ljXoNFFepSoUMPDlpQUV2SSX4JHxePzLMs1ruvja86s39qc5zf3zlJ/j8grvPBn/ItW3/A/wD0Nq4Ou88Gf8i1bf8AA/8A0NqVf4DjjualFFFcpYUUUUAFFFFABRRRQAUUUUAFFFFABRRRQAUUUUAFFFFABRRRQAUUV4n8EP2u9T%2BLfjzS/D%2Bq/DGLSdH8W6HrGseA9Wg103U2pWWnXtvaytcwGCMWkkgu7eaJFkm3Rs%2B5kZNpAPbK%2BPf%2BCoCf2X8c/wBmDxh08j4vtp2/0%2B12bpj8dlekfsZ/tu2/7XOoatY2/g3StPOmaJpupTf2L4qGqNp8l21wp0vUV%2Bzw/YdTg%2Bz/AL60/e%2BXvHznjPnf/BYT/iXeC/gb4uXg6N%2B0j4XuJH/6Zn7SjD6HcK8vOtMtnLs4P7qlNn6B4Xe9xzhqX/PyNen/AOB4XFx/F2XzPbqKKK%2BkPzsKKKKALU3/ACBbf/r6m/8AQYqq1am/5Atv/wBfU3/oMVVaSAKKKKYBVrUP%2BPSx/wCvU/8Ao2SqtWtQ/wCPSx/69T/6NkpPdAVaKKKYBRRRQBa1j/j7T/r1g/8ARSVVq1rH/H2n/XrB/wCikqrSWwBRRRTAKta5/wAhq8/6%2BpP/AEI1Vq1rn/IavP8Ar6k/9CNLqB5V8Sv2U/hd8V/irb/FvxZJqbX0Hhm60SSytrtY7aeKaO4iWZwF3%2BfFFeX0cTq6hVvp8hiyleDk/wCCbvwwv7mO78Q/F7x5qciaRDpzfarrTkVoodL1XS4SFiskWMpa6xcgBAqlkidlZt5k%2Bh6KOVMLnjGjfsSeCfDvjXSfGGgfFDxjaRaDrl3rOjaLHc2LWdrqFzpk%2BnT3IV7QyOzJcSS7XdkEpyFCsyN3Xj34H2XxW1Xwzer4/wDEPh3W/D9%2Bz6X4m8PPareRCaIwTIRcQSwsrq2SDEcMiMu1kUjrataH/wAhqz/6%2Bo//AEIUmlysfU8o1H9lnwg3grwt4G8J%2BM/EHhyDwIbT/hCLrR3tGm0QQWMlhtjNxbyrMsltNKjidZc79y7WVSMHRv2EfhL4bn0218PeKPE1potnNolzqHhxL23e11i80qVJrK7uXkga4MyyxQyOYpY1laJd6sNwPtdFOyFc8H1v9gXwZ4j8K33hTXPjd8QbyO50ez0azu7y%2B0%2Beay0m3uluf7PBlsmW5hlMcccxulnkmjTY7sGbdteMf2Q7H4g6OdB8afHjx7f2l9pB0jxJb%2BfpsMWvad5rSC1uIobFI4lAklj8y2WCVo5CrSNhSvr1FHKgueZ6T%2Bxf8AtL%2BLp%2BNnw78E6Z4O8VJ4a1jTota8L%2BHtNgmV70RyS3Z8y2cPcAwlVdwy7Zpgytv4w9B/Yyh8OfCGx%2BDOmftJ/EqPT7B7tEvYr3TIriW0uUKy2jiKwWJkJLOsvl/aI2Y7JkHFe5aP8A8fb/APXrP/6KeqtKyuO55Npv7G3wu0Xxxb%2BKdE1nXbLS7TUo9TtPCFpeRR6ZBqKaaNMS8TbF9oWRbUBQgm8oOBL5fm/vKTQf2MPgw0V3J8YbB/ilfXYs0OqfEzTrDUpoobWOVLeJALaONQguLlt%2BwyM1xKXdi1etUU7IVzwvwZ/wT6%2BCnw90Xwz4T8G61r%2Bn6F4e0vQrO80C1ktI7XXW0ic3Flc3gW2DGYTnzZGgaETNxKrqAtavgn9iXwl4O0m4tvDPxi8d2T6T4ch0jwfcW%2Bo2aP4a09L%2B1uPslri1xNEzW9ujC7FxvjhVGJG7Pr9WtP8A%2BPS%2B/wCvUf8Ao2Ok4qw7ngur/sGfDLWfDdz4duvH/i5TrVpqdn40v47qzE/im11Ccz3dve5tSiI7F1BtlgaNHZY2QHFbniX9k7w14y8S6p4i8VfFPxvfC7tL%2BHRrKTWo0Tw894UM81lIkSzLJmNdnmySrEpZI1SNmQ%2BqUU%2BVCucf8JPg5p3wn/ty/PjDWfEWr%2BJdWXUNc13XjbC4upUtobaMbbWGGGNEhgiQKkajgscszMfWPht/y%2B/9s/8A2auXrqPht/y%2B/wDbP/2aoq/w2NbnUUUUVxlhXNfGYeMz8H/FY%2BHJk/4SH/hGr7%2BwfK%2B/9t%2Bzv5G338zbiulooA%2BC/gunwY1z4d/FbwD%2Bzt8RLHwt4b139nTSLebVdAjeSS18S/ZdZ%2B33HkW/7%2BbU4bdrF7pVH2ri3DYcrXl2pf8ACMeKLo2sNz8EfCPwwl8cSvol/PB/bvw6tr5PDSrPGiN9hjuZpJHjeORDEsU8V2uJpRIJP1FooA88/ZFn1G6/ZQ%2BGFzq%2BmazZXcnw80Vrqz8RXTT6hBIbGEtHdSMqGScHIdiqkuGJUZwL/i2PS28QXBuLy4R/k3KlsrAfIvcuP5V2lcH4z/5GW5/4B/6AtbUfiFLYq%2BTov/QQuv8AwDX/AOOUeTov/QQuv/ANf/jlVaK6beZBa8nRf%2Bghdf8AgGv/AMcrM8a%2BCvA3xC8G6v4B8Vvc3Ol65plxp%2BpWxtFxLbzRtHIn%2Bs7qxH41ZoosB4f4u/4JwfBPVfCzfD1/jB8Q7WM%2BFb7w3r2oW81i13rkVzdSXc1zdSyQH/SGupJLhnhESyPIwkR0xGJof2APgzaXza/p3xU8c22trqcupWmuxJp5uLS8k1i%2B1V5o1aAwkmXUbmIq8bJ5LBdu4bz7prn/ACGrz/r6k/8AQjVWpUVYd2cp8EPgZ4R%2BBHhNPBfh34h%2BJ9TsFvNQvGXW4LWR3ub3ULm/nmZ41RixkunUDO0IicbtzNg%2BA/2Sfhv8OPFDeKfDfxN8YB7WzvrPw3aXEFjJD4etb29ivLu3tAYslJJYIR%2B/MzIkSpGUUYr0minyoLnI%2BEf2dfCmnfGNfihffFjxpq92rXsWg6dq8tvJbaH9tmjkuPspCCX5mjQL5zzCFAY4hHGSh5fxt%2Bwh%2Byn8R/2fdO/Z18deDotX07RvA58LaJrup%2BH7G51TTbQ2i23nW88qsIZwqI%2B9VA3orbeAK9g0P/kNWf8A19R/%2BhCqtLlVwuecad%2ByL8HNG%2BJNj480PxJr9jp2m6wmsWHgyys7OLSINSTTjpqXSRqgmUi1%2BQRCUQAgP5W/569R8nRf%2Bghdf%2BAa/wDxyqtFVy2EWvJ0X/oIXX/gGv8A8cqzpUWkC5by765J%2BzTcNaqOPKbP8fpWZVrR/wDj7f8A69Z//RT0mtADydF/6CF1/wCAa/8AxyjydF/6CF1/4Br/APHKq0U7eYFrydF/6CF1/wCAa/8AxyjydF/6CF1/4Br/APHKq1R8S%2BKPDXgzRLjxL4w8RWOladaJvutQ1K7SCCFfV3chVHuTSbUVduyLp06laooU4uUm7JJNtt7JJJtt9Ek2%2BiOhsYtIFtebL65INsNxNqowPNTp8/POKreTov8A0ELr/wAA1/8AjlfL%2Bsf8FQfAXibVNS8C/sffB/xX8adcjiEU83hazNvpFo/mIR5%2BoTARop4AZQ6nPWss/CP/AIKX/tG/N8YPjroXwb8Pzff8P/De3N5q7R/3JL%2Bb5YX/ANuDI4HFeO85w9STjhIyrP8AuL3fnN2h9zl6H39Pw4zfB01Wz6tSy6DV7YiTVZp63jhqaniHdbc0KKemttT6C%2BLf7Qf7N/wGsRqHxl%2BNmk%2BG1dC0MWrXEMUswH/POIy75PooNeF3/wDwVF%2BGXj130r9kH4H/ABJ%2BLl8WKQ3mkeF20/SQw4xLe3RAiGeN3lkV03wg/wCCbf7Ifwh1BvEo%2BGMfivxDK4kuvFHjuY6vfzyf89C8%2BUR/eNUr3OCCC1gS2toUjjjULHHGoCqB0AA6Cj2We4n46kKK7RXtJf8AgUuWF/SLKeL8MsmdqGGr5hNfaqzWFot%2BVKj7Su4%2BU60G1va%2Bny/beEv%2BCp3x7cy%2BMPib4K%2BBujTdLHw1pS%2BINYVT1WSWZlt1PYPGeOuK1NL/AOCTH7NXiWM%2BI/2kPib8R/i1qUVzG3neNvEczW8TkOf3VvBLGqpx90lgOnOePo%2BrUP8AyBbj/r6h/wDQZaP7CwM3fEc1Z/8ATyTkv/AdIL/wAmXibxPhk4ZR7PAQ2thaUKMreda1TES8266v%2BBxnwz/Zu/Zo%2BDMCQ/Cj4UaF4eKDHm6T4YtoZW92kVt7H3JJrs/J0X/oIXX/AIBr/wDHKq0V6tKjSow5KaUV2SSX3JI%2BIxuPx2ZYh18XVlVm95TlKcn6ylKT/EteTov/AEELr/wDX/45R5Oi/wDQQuv/AADX/wCOVVorS3mchpyxaR/ZEAN9c7ftMuD9lXJO2PPG/wClVvJ0X/oIXX/gGv8A8com/wCQLb/9fU3/AKDFVOWWKCNpp5VRFGWd2wAPc0kvMGXPJ0X/AKCF1/4Br/8AHKPJ0X/oIXX/AIBr/wDHK4zW/jn8E/DLMviT4w%2BFtPK/eF94htosfXc4rgvHH/BRL9hr4d25uPEn7VHgt9oy0Wla0moSD/tna%2BY34Yrmq47A0FerWjH1lFfmzjrZjl%2BHTdWtCNu8or85HuHk6L/0ELr/AMA1/wDjlWb6LSDbWe%2B%2BuQBbHaRaqcjzX6/Pxzmvkof8Fb/2ada/efDPwF8UPGkTf6mfwt8PLuVJh6r5ojJ/HFWLv/gpd4n1C2tTo3/BOj9ot41gIjkvPAKW/mDzHO4Bpzxzj8DXC89yhv3ayl/hUpfjGDX4nD/rHkj%2BGspf4VOX4xpyX4n1J5Oi/wDQQuv/AADX/wCOUeTov/QQuv8AwDX/AOOV8qf8PEviseU/4JufHLHbOgwA/l5tH/DxH4sf9I3Pjj/4IoP/AI7T/tzLP55f%2BAVP/lYf6w5T/O//AAXV/wDlR9V%2BTov/AEELr/wDX/45Xa%2BEhAvh%2B3FvI7p8%2B1nQKT87dgT/ADr4f/4eE/Gifix/4JsfGhj/ANN9Ot4v5yV9bfszePfEPxP%2BCOieOfFfw01bwff3wufP8Oa4UN1abLmWNd%2BwlfmVBIMfwuM81cMyweMfJSk299YzX4yhFfideCzXBY6q4UW20r6xnH8ZQivle53dFFFanphRRRQAUUUUAFFFFABRRRQAUUUUAFFFFABRRRQAUUUUAFFFFABXg3wt/Y18S/DbxppGrt8XrS%2B0TwrpOr6N4P0geG3hnsNL1K8hubiKW4W7ImnQWttDDMscYjjR90crSbx7zRQB4p%2By3%2ByTrP7Pep2%2BpeIviXZ6/wD2T4C0nwboCab4a/swR6Xp7TtC91/pEwubk%2BdzIoijGG2RJvbPlv8AwW2kfTP2MLTxfG5U6B8R/D2obwcbdt6qZ/8AH6%2Bva%2BTv%2BC3mktrH/BND4iQRg74Bp1yjDqpiv7eTI/BTXl52m8nxFukJP7lf9D73wsnGn4l5NzbPE0Yv0nP2b/Coz2v%2B3Na/6DF1/wCBDf40f25rX/QYuv8AwIb/ABrI8M6suveHNP11CCL2xinBHo6Bv61dr6Jcskmj4GpCdKo4S3Tafqm0/wAUWv7c1r/oMXX/AIEN/jR/bmtf9Bi6/wDAhv8AGqtFOy7EGnLrGrjSIJRqtzuNzKC3ntkgLHgdfc/nVb%2B3Na/6DF1/4EN/jRN/yBbf/r6m/wDQYqq0kl2Atf25rX/QYuv/AAIb/Gj%2B3Na/6DF1/wCBDf41Vop2XYC1/bmtf9Bi6/8AAhv8as32saultZsmq3ILWxLETtyfNcZPPoB%2BVZlWtQ/49LH/AK9T/wCjZKTSutAD%2B3Na/wCgxdf%2BBDf40f25rX/QYuv/AAIb/GqtFOy7AWv7c1r/AKDF1/4EN/jR/bmtf9Bi6/8AAhv8aq0UWXYDT1XWNXjuVWPVblQbaE4E7DkxKSevrVb%2B3Na/6DF1/wCBDf40ax/x9p/16wf%2BikqrSSVtgLX9ua1/0GLr/wACG/xo/tzWv%2Bgxdf8AgQ3%2BNVaKdl2Atf25rX/QYuv/AAIb/GrOsaxq8Wr3UUWq3Kqty4VVnYADceOtZlWtc/5DV5/19Sf%2BhGlZX2AP7c1r/oMXX/gQ3%2BNH9ua1/wBBi6/8CG/xqrRTsuwFr%2B3Na/6DF1/4EN/jVnR9Y1eXV7WKXVblla5QMrTsQRuHB5rMq1of/Ias/wDr6j/9CFJpWegB/bmtf9Bi6/8AAhv8aP7c1r/oMXX/AIEN/jVWinZdgLX9ua1/0GLr/wACG/xo/tzWv%2Bgxdf8AgQ3%2BNVaKLLsBp6VrGryXLLJqtywFtMcNOx5ETEHr61W/tzWv%2Bgxdf%2BBDf40aP/x9v/16z/8Aop6q0rK%2BwFr%2B3Na/6DF1/wCBDf40f25rX/QYuv8AwIb/ABqrRTsuwFr%2B3Na/6DF1/wCBDf41ZsdY1d7a8Z9VuSVtgVJnbg%2BagyOfQn86zKtaf/x6X3/XqP8A0bHSaVtgD%2B3Na/6DF1/4EN/jR/bmtf8AQYuv/Ahv8aq0U7LsBa/tzWv%2Bgxdf%2BBDf410fgC%2Bvb37X9svJZdvl7fNkLYzu6Zrkq6j4bf8AL7/2z/8AZqzqpcjGtzqKKKK5CwooooAKKKKACuD8Z/8AIy3P/AP/AEBa7yuD8Z/8jLc/8A/9AWtqHxky2MuiiiuokKKKKALWuf8AIavP%2BvqT/wBCNVata5/yGrz/AK%2BpP/QjVWktkAUUUUwLWh/8hqz/AOvqP/0IVVq1of8AyGrP/r6j/wDQhVWl1AKKKKYBVrR/%2BPt/%2BvWf/wBFPVUkAZJwB1JrwD4nf8FKPgn4E8ZS/Cv4MaNq/wAWfHZgmRPCnw/t/tfkNsZS1zcrmKBFJ%2Bc5ZkwSVFcmMxuEwNPnrzUU9F3b7JK7b8kmz28i4bz3ibFOhleHlVlFXk0rRhH%2BapOTjTpxXWVScI%2Bb2Pf68X%2BPv7fn7Mn7O%2Brr4O8T%2BNZNa8VSv5dr4M8JWralqs0naPyYs%2BWx7eYUz2rzdfgH%2B3r%2B1oftf7TnxkT4T%2BEp%2BT8P/hldhtSmjP8ABd6mc4OMhlhBRgegNdLo3/Dt7/gm3osthBrngzwVdmL/AEyW5vRcazeDqS%2BS91MCecAFQTwBmvLrZhjqtNzhFUKf89Wyfyp3X/k8l/hPpq%2BW%2BH/CNN1c9x31urHejhpxjSi%2B1TGTXK/NYalUfar1OfX4j/8ABTL9po/8Wv8AhdofwN8NTfc13x0BqWuyIejx2Kfu4G9Y5/T71X/Dv/BLn4T%2BINag8Z/tVfE3xf8AGTW4JPMjPjHVXXTYH/6Y2MREaL1%2BRi689KqL/wAFKfEfxTbyv2QP2M/iL8RoW/1Ou39smg6RMOxS6ux83rgoODUiar/wV9%2BIbfarLwr8F/h3aHkWmq3t7q16D6FoMQkfTvXnReVYh80/a4t9%2BWUofJfu6X/pfq9zxanjPjaEHR4ZoLB02rXwlGXtGv72LqfvpXW/LWpp9I20Pp7wV4X8M%2BC/DM3hnwf4dsdJ020slS10/TbRIIIV82PhUQBVHsBUtfMtt8Ev%2BCrviS2u7TVP22vAXh6F4B9oudA%2BHK3UyL5ifcFywXOcdfSqv/Dsqbx1%2B9/aN/bP%2BL3jnf8A6/TE8SDS9Nk9f9Gt14/B%2BlevHH42S5aGDkv8UoQS%2B5yf3I%2BAqZvmuKqOccJUcm7uVScI3b3bblUk33erfds978WfHH4KeAtQGk%2BOvjB4W0W6PS21bxBbW0h/4DI4NZWo/tW/su6RYPquqftIeAre2T7083i%2ByVB%2BJlrg/CH/AATA/YE8E6edO0v9l/w1dK335daik1CVj677l5GB%2BhFa9j/wT0/Ya06%2BTUbb9k/wGZE%2B6JvDkEif98OpU/iKrmz9/YpL/t6o7fdFX%2BViOfiSWvJRX/b1V2%2Bair/JI5fxX/wVl/4J7eELo2N7%2B0lpt7PnCx6Lpt5fhz6BreF1/WqEX/BW/wDZz1HS5ofBHwy%2BK/iYPcRskmg/Dm7kVsK44Mmz1/nX0F4T%2BHngDwFaix8C%2BBtH0WEDAh0nTIrZcfSNQK6KH/kC3H/X1D/6DLSdDPJ/FXhH/DTb/GU/0H9X4gn8WIpx/wANJv8AGdT9D5Sf/go38R/FH%2Bh/CT/gnP8AHLU7tv8AVHxN4ci0S1f38%2BaRwB9RSDxv/wAFdPiR%2B88O/BD4R/De2k6p4s8R3Or3cQ9jZARFvrxX1JRR/ZuMqfxsXN%2BUVCn%2BUZP8Rf2Xjqv8fGVH5QUKf/pMZP8AE%2BXR%2BzF/wUm8W/6R41/4KP2ehq339O8J/C%2ByKL/uzzv5n5ij/h3Z8Vte/wCR9/4KRfHG63ffGga7BpYP0EcbYr6iop/2Hl7%2BPnl/iqVH/wC3pfgH%2Br%2BWy/ic8/8AFVqv/wBvivwPmV/%2BCTHwMu9LhuvFXxw%2BMuvSvcSLJJq/xKuXLYVDzsC%2BpqKL/gjx%2BwdcSiXxR8ONb15lOV/tnxrqcgB9cLOoNfVM3/IFt/8Ar6m/9BiqrSWQZJ1w8H6q/wD6U2P/AFcyDrhoP1XN/wClOR4Pof8AwTD/AGA/D6qth%2Byz4Xk29Pt0El1%2BfnO2fxrvPBP7LP7M3w1uBe/D79nrwTotwpyLnTPC9pDLn/fWMMfzrvKK66WW5dQd6dGEfSEV/wC2nXRyrK8O06VCEWu0Ir/22/4gAAMAVa1D/j0sf%2BvU/wDo2SqtWtQ/49LH/r1P/o2Sux7o7yrRRRTAK7zwZ/yLVt/wP/0Nq4Ou88Gf8i1bf8D/APQ2rGv8A47mpRRRXKWFFFFABRRRQAUUUUAFFFFABRRRQAUUUUAFFFFABRRRQAUUUUAFFFFABXzx/wAFXNH/ALc/4J8/FKy252eE7y4x/wBcYXl/9kr6HryL9vLR/wDhIf2QPiLoG3d9u8FavBj136fcL/WubG0/a4GrDvCa/wDJZH0PCOK%2BpcW5diP5MRQl91ai3%2BFzlf2Z9Y/4SH9nD4f6/v3fbvBGk3G7132cTZ/Wu3rx7/gnzrH9ufsO/Ca93Z2eAdMt8/8AXK3SL/2SvYa7svqe1wFGfeEH98YmPFeF%2BpcVZhh/5K9eP3VqqX4JBRRRXWeAWpv%2BQLb/APX1N/6DFVWrU3/IFt/%2Bvqb/ANBiqrSQBRRRTAKtah/x6WP/AF6n/wBGyVVq1qH/AB6WP/Xqf/RslJ7oCrRRRTAKKKKALWsf8faf9esH/opKq1a1j/j7T/r1g/8ARSVVpLYAooopgFWtc/5DV5/19Sf%2BhGqtWtc/5DV5/wBfUn/oRpdQKtFFFMAq1of/ACGrP/r6j/8AQhVWrWh/8hqz/wCvqP8A9CFJ7MCrRRRTAKKKKALWj/8AH2//AF6z/wDop6q1a0f/AI%2B3/wCvWf8A9FPVWl1AKKKKYBVrT/8Aj0vv%2BvUf%2BjY6q1a0/wD49L7/AK9R/wCjY6T2Aq0UUUwCuo%2BG3/L7/wBs/wD2auXrqPht/wAvv/bP/wBmrOr/AA2NbnUUUUVxlhWb4z8WaN4B8H6t468RzNHp2i6ZPf38iLuKwwxtI5A7kKp4rSrN8ZeE9G8e%2BENV8DeI4Gl07WtNnsL%2BJW2l4Zo2jcA9iVY80AeIaP8AtwaxpHw38e%2BOPjF8Gv7BvfBHwvtfH39j6R4hGom80m4hvpI4zI8EAiulbT50kjw8aFo2ErhiVwvGX/BRWX4eyzeAvG3g7wPpPji28Rx6ddWepfE9bfQba3fTBqK3kuqyWStGpQrAENtuMzoAPLYS11fwv/ZR%2BKHgiTWdV8TfHyx1bV9V8B2PhGHVrfwWsDWthYx3f2SYRS3M8Ulz517PLMzoYpsRoIYlU7uW8H/8E77j4fyW/jzwT4x8D6R44s/EUmoWl3pfwwFtoFvbPpp097OPSo75WRSjPOXFzvMzuSfLYw0AfRnhPWbrxH4W0zxDfaUbGe/0%2BG4msTdRz/Z3dAxj8yIskm0nG5CVbGQSCDXJ%2BM/%2BRluf%2BAf%2BgLWn8DvhXpXwL%2BC3hH4J6Fqdxe2XhDwzYaLaXl3jzZ4rW3SBXcKAAxCAkAADOAAKqeLdV1S28QXENvqVxGi7NqJMwA%2BRewNbUb8wpbGHRVr%2B3Na/6DF1/wCBDf40f25rX/QYuv8AwIb/ABrp1IKtFWv7c1r/AKDF1/4EN/jR/bmtf9Bi6/8AAhv8aNQDXP8AkNXn/X1J/wChGqtaesaxq8Wr3UUWq3Kqty4VVnYADceOtVv7c1r/AKDF1/4EN/jSV7ICrRVr%2B3Na/wCgxdf%2BBDf40f25rX/QYuv/AAIb/GnqAaH/AMhqz/6%2Bo/8A0IVVrS0jWtWfVrVJtWuChuEDhp2wRuGc818s/tQf8Fif2YP2bJZ/Ddl8Qrzxt4oRjFH4d8I3P2grN0CSzg%2BVEd3BUFpB/cNceNzDB5dSdXFVIwj5u33LdvySZlVr0qUowk/em7Rik5SlJ7RjGKlKUn0jGMm%2Bx9KV87ftc/8ABT79lX9kKC50fxP4yTX/ABRCGVPCfh6VJ7pJB/DOwOy2GcZ8whsHKq3SvGNI8Af8FNv%2BClBXWP2ifiDqvwR%2BFd180fgzw/cyR6vqcB/hmZvnUEZB80KuQCLc5zX0f%2Bz5%2BwP%2ByT%2BzFBby/Cf4L6TBqUAB/wCEg1GL7ZqDOAMv9om3PHkjJWPaueiivIWOznNIP6jTVKD2qVU7vzjTVn6Obj/hNIyzDCYiMquGhZfYqTkn/wBvxo3lH/A6sZ9Jez6fBmofH79t3/gojqLS6x%2Bzz8RL7wNMQbLwH4On/sHSr%2BM9Fv8AWroBp/Ro40CEYKlDX0Z8Df2fP%2BCjPhvw8PBfwc8NfBL4A%2BHzbyE2%2Bh6XNreqHEbZaZ5P3M77cjezFvU19pf25rX/AEGLr/wIb/GrOlaxq8lyyyarcsBbTHDTseRExB6%2BtY4bhp0putiMTOpUe8rqL9LpOSXlGUV5HpZ3n/FHEeEjgcXjZUsJF3jhsNGOGw6fdwp806k%2B9StVq1H/ADR2Pkh/%2BCd/xf8AiAuz9oj/AIKHfFTxHFJ/x9af4Xkt/D9pcDujxW6vlD6Aj616D8Gf%2BCfv7HPwElTUPh38BNDXUUbf/bOrQHUL3f1Lie5LuhJ5O0ge1e2/25rX/QYuv/Ahv8aP7c1r/oMXX/gQ3%2BNetRybLaNRVFSTkvtSbm/vm5NfKx8zQyPKaFRVFSUpr7Urzl8nNza%2BViqAAMAUVa/tzWv%2Bgxdf%2BBDf40f25rX/AEGLr/wIb/GvT1PVDT/%2BPS%2B/69R/6NjqrWnY6xq7214z6rckrbAqTO3B81Bkc%2BhP51W/tzWv%2Bgxdf%2BBDf40le7Aq0Va/tzWv%2Bgxdf%2BBDf40f25rX/QYuv/Ahv8aeoFWrUP8AyBbj/r6h/wDQZaP7c1r/AKDF1/4EN/jVmLWNXOkTynVbncLmIBvPbIBWTI6%2Bw/Kk7gZlFWv7c1r/AKDF1/4EN/jR/bmtf9Bi6/8AAhv8aeoFWirX9ua1/wBBi6/8CG/xo/tzWv8AoMXX/gQ3%2BNGoBN/yBbf/AK%2Bpv/QYqq1py6xq40iCUarc7jcygt57ZICx4HX3P51W/tzWv%2Bgxdf8AgQ3%2BNJXAq0Va/tzWv%2Bgxdf8AgQ3%2BNH9ua1/0GLr/AMCG/wAaeoFWrWof8elj/wBep/8ARslH9ua1/wBBi6/8CG/xqzfaxq6W1myarcgtbEsRO3J81xk8%2BgH5Une6AzKKtf25rX/QYuv/AAIb/Gj%2B3Na/6DF1/wCBDf409QKtd54M/wCRatv%2BB/8AobVxv9ua1/0GLr/wIb/Gu18JTz3Ph%2B3muJnkdt%2B53Ykn527msa1%2BUqO5o0UUVzFBRRRQAUUUUAFFFFABRRRQAUUUUAFFFFABRRRQAUUUUAFFFFADLm5trK2kvLy4SGGFC8ssrhVRQMliTwABzmuC%2BHP7UvwJ%2BKvhzV/FvhHxwy6doOmxalqtzrOlXemCGwljeWK%2BAvIoi9rIkUrJcKDE4ifa52Njf%2BLngq4%2BJXwo8T/Dm01EWcuv%2BHr3TYrsgnyGngeIPxzwWz%2BFfLs/7PP7Qnxm%2BHPxO8L%2BKvhNdeC73xp%2Bz1Y/DvTxdaxp88MeoWtvqxkuna3nlP2R5NSjjh%2BQykRzGSKIMoIB9MfCP41/Dv45aFc%2BIfh1qN/NBZ3S293Fqug3mm3EUjQxzLugvIopQrRSxur7drK4Kkiq/wAf9H/4SL4W6p4f2bvt1pPb7fXfBIuP1rkP2SPDPxd8Pnxfc%2BP9D8V6Lod9rNvL4U8P%2BOPFUes6nZKLOFbpmuY7m5Ahe4DtHF5zbPmIWNWWNfSPHc0cGkRvLaxzA3IG2QsAPlbn5SDTjFSfK%2Bv/AATSlVlQqxqx3i016ppr8Uj4%2B/4JL6x/bv8AwTv%2BGV7v3bNLurfP/XG%2BuIsf%2BOV9F18zf8Eeby30z9iXT/CD6VbyHQPFmvaed7SArt1Kd8cMB/y0r6j/ALQtP%2BgHa/8Afcv/AMXXPkMpSyTDN/8APuP4K36H2ninShR8S85jHb61Xa9JVHNfhNFWirX9oWn/AEA7X/vuX/4uj%2B0LT/oB2v8A33L/APF16132Pgwm/wCQLb/9fU3/AKDFVWtOW%2BtRpED/ANj2xBuZQF3S4Hyx8/fz/wDqqt/aFp/0A7X/AL7l/wDi6Sb7AVaKtf2haf8AQDtf%2B%2B5f/i6P7QtP%2BgHa/wDfcv8A8XTu%2BwFWrWof8elj/wBep/8ARslH9oWn/QDtf%2B%2B5f/i6s319arbWZOj2xzbEgFpfl/evwPn/AB59aTbutAMyirX9oWn/AEA7X/vuX/4uj%2B0LT/oB2v8A33L/APF07vsBVoq1/aFp/wBAO1/77l/%2BLo/tC0/6Adr/AN9y/wDxdF32ANY/4%2B0/69YP/RSVVrT1W%2BtVuVDaPbN/o0JyzS/88l44ft0qt/aFp/0A7X/vuX/4ukm7bAVaKtf2haf9AO1/77l/%2BLo/tC0/6Adr/wB9y/8AxdO77AVata5/yGrz/r6k/wDQjR/aFp/0A7X/AL7l/wDi6s6xfWqavdI2j2zEXLgszS5PzHk4fFK7vsBmUVa/tC0/6Adr/wB9y/8AxdH9oWn/AEA7X/vuX/4und9gKtWtD/5DVn/19R/%2BhCj%2B0LT/AKAdr/33L/8AF1Z0e%2BtX1e1RdHtlJuUAZWlyPmHPL4pNuz0AzKKtf2haf9AO1/77l/8Ai6P7QtP%2BgHa/99y//F07vsBVoq1/aFp/0A7X/vuX/wCLo/tC0/6Adr/33L/8XRd9gDR/%2BPt/%2BvWf/wBFPVWtPSr61a5YLo9sv%2BjTHIaX/nk3HL9%2BlVv7QtP%2BgHa/99y//F0ru%2BwFWirX9oWn/QDtf%2B%2B5f/i6P7QtP%2BgHa/8Afcv/AMXTu%2BwFWrWn/wDHpff9eo/9Gx0f2haf9AO1/wC%2B5f8A4urNjfWrW14Ro9sMWwJAaX5v3qcH5/x49KTbtsBmUVa/tC0/6Adr/wB9y/8AxdH9oWn/AEA7X/vuX/4und9gKtdR8Nv%2BX3/tn/7NWD/aFp/0A7X/AL7l/wDi66PwBcRT/a/KsYoceXnyi5z97ruY1nVb5GNbnR0UUVyFhRRRQAUUUUAFcH4z/wCRluf%2BAf8AoC13lcH4z/5GW5/4B/6AtbUPjJlsZdFFFdRIUUUUAWtc/wCQ1ef9fUn/AKEaq1a1z/kNXn/X1J/6Ea5X4ofFT4d/BXwNf/En4qeLrPQ9D0yLzLzUL6Tai9goAyXcnhUUFmJAAJOKiU4U6fPN2SV23okvNk1KkKUHObSS1beiS7ts6CvE/wBrH9u/4MfsoQRaDrctx4h8Y38JfSPBOhYkvrgAE%2BZJ2t4QASZZMDarEBtpFfP37QP/AAUS%2BOHjz4cXfj74OaUvwm%2BGWfKT4qeO9O36lq7MDtj0fS87p5GxlHf5SMkmPaSOO/ZJ/wCCYviL45Xj/FL9o7S9c0Hwlqky3c%2Bga3ftJ4j8YPuDi41m5zuhhJCstnGVAwpb5082T5TG5/isXVWFymHNNq/O1aKX8yT3XaTSi/sqZ63D%2BQ43iXBPM51fqeWxbjLFVINupJaulg6LcZYmtZrX3MPSTU61W1oz4TVviH/wUF/4KweMpPhv4Bng07wi14LfU7TQb%2BWDw9YAsAUvdST95qcgHWG3/dnKOpIzX19%2BxV/wSy/Z7/ZAW28XTWMfivxuiAyeJ9Us0VbV8ci0gGUth1%2BYZkOTl8HFfSvw48JeF/AlvpHhHwV4dstJ0qwkiistO061WGCBAwwqIgAUfQVNW%2BXcNUMPiPreMk69f%2BaWqj/hT0Xra/ZI9WtneW5ZQng%2BHcO8PTmnGdaclUxddPdVcRZckH/0D4aNCglpJVrXZRRRX058sFWtH/4%2B3/69Z/8A0U9VataP/wAfb/8AXrP/AOinpPYCrRRRTAKKKKALWn/8el9/16j/ANGx1Vq1p/8Ax6X3/XqP/RsdVaS3YBRRRTAKtQ/8gW4/6%2Bof/QZaq1ah/wCQLcf9fUP/AKDLSYFWiiimAUUUUAWpv%2BQLb/8AX1N/6DFVWrU3/IFt/wDr6m/9BiqrSQBRRRTAKtah/wAelj/16n/0bJVWrWof8elj/wBep/8ARslJ7oCrRRRTAK7zwZ/yLVt/wP8A9DauDrvPBn/ItW3/AAP/ANDasa/wDjualFFFcpYUUUUAFFFFABRRRQAUUUUAFFFFABRRRQAUUUUAFFFFABRRRQAUUUUAFYPxD/5AsX/X0v8A6C1b1YPxD/5AsX/X0v8A6C1XT%2BNCex8W/wDBLL/QPAvxc8JHj%2Bwfj94nsAv90LJC/wD7PX1BXy//AME9f%2BJT8Y/2kvCXTyfjVdaht/6%2BreJ8/jtr6grkyHTKace3MvuqVF/kffeKfvceYyr/AM/FRqf%2BDMLhJ/m5BRRRXsH58Wpv%2BQLb/wDX1N/6DFVWrU3/ACBbf/r6m/8AQYqq0kAUUUUwCrWof8elj/16n/0bJVWrWof8elj/ANep/wDRslJ7oCrRRRTAKKKKALWsf8faf9esH/opKq1a1j/j7T/r1g/9FJVWktgCiiimAVa1z/kNXn/X1J/6Eaq1a1z/AJDV5/19Sf8AoRpdQKtFFFMAq1of/Ias/wDr6j/9CFVataH/AMhqz/6%2Bo/8A0IUnswKtFFFMAooooAtaP/x9v/16z/8Aop6q1a0f/j7f/r1n/wDRT1VpdQCiiimAVa0//j0vv%2BvUf%2BjY6q1a0/8A49L7/r1H/o2Ok9gKtFFFMArqPht/y%2B/9s/8A2auXrqPht/y%2B/wDbP/2as6v8NjW51FFFFcZYUUVzXxm8O%2BI/GHwf8V%2BEvB159n1fVPDV9aaVceZs8q5lt3SJt38OHZTntigBfBfxj%2BEPxJ0fUPEPw7%2BKnhvX7DSZnh1W%2B0XXLe6hs5EXc6SvE7LGyryQxBA5NM0H42/BjxT8Prz4teGPi54Y1Lwrp8M0t/4msNftptPto4V3zPJcI5jRUUFmJYBQMnFfKvgvwPH8VvCXxG8Nah8HfH/h7w74i/Zt0XwRLpUXg64sr2S/tLfWftdtbJdRpCXhivreKKV2FvO77EkdY2xxvjb4OfthfHH4afFLX9N8Paf4h8OeI79LrU9G8QeH9U8G3GvNY6HFFAbfTZba8udhuli3RzFGnfT1VW%2BzyBSAff1jfWWqWUOp6ZeRXFtcRLLb3EEgdJUYZVlYcMCCCCOCDXEeM/8AkZbn/gH/AKAtXvgDbeKLP4GeDrLxtocWmavB4YsY9R0%2BG4eVbeVYEDJukjiYkEYO5FIORjiofFsmlr4guBcWdw7/ACbmS5VQfkXsUP8AOtqPxClsYdFWvO0X/oH3X/gYv/xujztF/wCgfdf%2BBi//ABuum/kQVaKtedov/QPuv/Axf/jdeSfth/tZ%2BBv2Vvh1DqsPhe%2B17xd4guhpvgbwjZ3itcazqD4CIqiPIjUspd%2BwIA%2BZlBxxOJo4ShKtVdox1b/rdvZJattJaswxWJoYLDyr1pWjFXb/AK1bbsklq20krs0P2vP2rPhX%2ByfoFx4t%2BId5Pc31/qElt4d8N6XH52oa1dlsLBbxDliSVBb7q7hk5IB%2BKvid4suNR%2BIWi/F/9v8A0ebxZ47u5RN8Jf2XfCh%2B1jT2YHy7i/VQRJMRy0kg2qA2FbHlxrrPhr4yL%2B0FN4Zh1q08eftYeJoC%2Bv8Aic7ZNA%2BEWlSH5kt4irKswVyE5LMWzg7/AN99g/st/safAz9lyyudY0bT9U8QeMdYG/xP488QagLjU9VmOC5aRkJjjJHEanHAyWYbj8e5ZjxBiHFR5acHs9VFr%2BZbVKi0fJf2dJ25%2Befux%2BtyzhLLMJgaGe8aQlyVEqmGy%2BL5Z1Y/Zr4uerpUZNfu4RjKpUSbgkv3y82/Z/8A2PviH8QfiNaftZft13dprHjaEb/Cfgq2bfpHgyIkFUiTJWa6GBumOcMBtLFVcfTtWvO0X/oH3X/gYv8A8bo87Rf%2Bgfdf%2BBi//G6%2BqwWCoYGk4U0227yk9ZSfeT6v8EtEkkkY8R8S5nxPjY18W1GMFyU6cFy0qVNbU6UFpGK3e8pSbnOc5ycg0P8A5DVn/wBfUf8A6EKq1p6PLpB1e1EVjchvtKbS10pAO4dRsGaredov/QPuv/Axf/jddd9T58q0Va87Rf8AoH3X/gYv/wAbo87Rf%2Bgfdf8AgYv/AMbp38gKtWtH/wCPt/8Ar1n/APRT0edov/QPuv8AwMX/AON1Z0qXSDct5djcg/ZpuWulPHlNn%2BD0pN6AZlFWvO0X/oH3X/gYv/xujztF/wCgfdf%2BBi//ABunfyAq0Va87Rf%2Bgfdf%2BBi//G6PO0X/AKB91/4GL/8AG6L%2BQBp//Hpff9eo/wDRsdVa07GXSDbXmyxuQBbDcDdKcjzU6fJxziq3naL/ANA%2B6/8AAxf/AI3ST1YFWirXnaL/ANA%2B6/8AAxf/AI3R52i/9A%2B6/wDAxf8A43Tv5AVatQ/8gW4/6%2Bof/QZaPO0X/oH3X/gYv/xurMUukf2RORY3O37TFkfalyTtkxzs%2BtJsDMoq152i/wDQPuv/AAMX/wCN0edov/QPuv8AwMX/AON07%2BQFWirXnaL/ANA%2B6/8AAxf/AI3R52i/9A%2B6/wDAxf8A43RfyAJv%2BQLb/wDX1N/6DFVWtOWXSP7IgJsbnb9plwPtS5B2x552fSq3naL/ANA%2B6/8AAxf/AI3STAq0Va87Rf8AoH3X/gYv/wAbo87Rf%2Bgfdf8AgYv/AMbp38gKtWtQ/wCPSx/69T/6Nko87Rf%2Bgfdf%2BBi//G6s30ukC2s99jckG2O0C6UYHmv1%2BTnnNJvVAZlFWvO0X/oH3X/gYv8A8bo87Rf%2Bgfdf%2BBi//G6d/ICrXeeDP%2BRatv8Agf8A6G1cb52i/wDQPuv/AAMX/wCN12vhIwN4ftzbxuifPtV3DEfO3cAfyrGs/dKjuaNFFFcxQUUUUAFFFFABRRRQAUUUUAFFFFABRRRQAUUUUAFFFFABRRRQAUUUUAFYPxD/AOQLF/19L/6C1b1fMX7aHxi8U/Cb9rr4A6W1/cxeFfGT%2BI9A1pRMRbm/kisZ9PLJnBk3280aNjIEsgHDHOVbE08IlUntzRX/AIFJRv6XaucmNxdPBUVUntzRj6c0lFP0TaueWfsg/wDEo/b8/al8LHgLq3hbUIx6/aNMdmI/FRX1BXy/8GP%2BJL/wVY%2BNOm9P7a8AeHNQx/e8kPBn9cV9QVGSaYSce1Sqv/Kkn/7cfpHiV7%2BfYav/AM/MHgZf%2BWlKD/Gmwooor2D8%2BLU3/IFt/wDr6m/9BiqrVqb/AJAtv/19Tf8AoMVVaSAKKKKYBVrUP%2BPSx/69T/6NkqrVrUP%2BPSx/69T/AOjZKT3QFWiiimAUUUUAWtY/4%2B0/69YP/RSVVq1rH/H2n/XrB/6KSqtJbAFFFFMAq1rn/IavP%2BvqT/0I1Vq1rn/IavP%2BvqT/ANCNLqBVooopgFWtD/5DVn/19R/%2BhCqtWtD/AOQ1Z/8AX1H/AOhCk9mBVooopgFFFFAFrR/%2BPt/%2BvWf/ANFPVWrWj/8AH2//AF6z/wDop6q0uoBRRRTAKtaf/wAel9/16j/0bHVWrWn/APHpff8AXqP/AEbHSewFWiiimAV1Hw2/5ff%2B2f8A7NXL11Hw2/5ff%2B2f/s1Z1f4bGtzqKKKK4ywooooAKKKKACuD8Z/8jLc/8A/9AWu8rg/Gf/Iy3P8AwD/0Ba2ofGTLYy6KK5z4u/FjwN8DPhprPxb%2BJOspYaJoNi11fXDcnaOAij%2BJ2YqiqOWZgBya6Kk4UoOc3ZJXbeyS3ZlUqU6VNzm7RSbbeyS1bZk/tE/tD/DH9l74WX/xb%2BK2s/ZtPswEt7aEBri/uGz5dtAmf3krkYA6AAsSFUkfDGs%2BIPj5P8T9P%2BLXifw9FdftJfFW0ez%2BFfgu5/eW3wy8OtuD39wrAhJthdmZlyW3Db/rI66HxF4u1q90SP8A4Kb/ALanhiWR4GSH9n/4M7i5huLj/j1mlQA%2BbezYV87SYkXdjKosf0D%2BxD%2By/wCKvhha6t%2B0D%2B0Dex6t8XPH%2B268VahgFNMh4MWl2/JCQxAKpCnDMo5IRMfGV54rPsbCnC8IL3l3jF7VJdpz1VGL%2BBXqyXNyJfS8G5Rg3hFxpn9JSwlKbjgsNNf71iIpP2tWOj%2Br0LxnOP2m6dK/PVn7Ps/2X/2TvBP7JPgu68H6Hf3Gsa9qN6934v8AF2pEve69qDEmS4mdiWwWLbUydoJ5LFmb0urWuf8AIavP%2BvqT/wBCNVa%2Buw2Ho4XDxpUo8sYqyS/r5t7tttttnnZtm2Y55mVXH4%2Bq6lao3KUnu3%2BCSSSUYpKMYqMYpRikiiiitzzi1of/ACGrP/r6j/8AQhVWrWh/8hqz/wCvqP8A9CFVaXUAooopgFWtH/4%2B3/69Z/8A0U9VataP/wAfb/8AXrP/AOinpPYCrRRRTAKKKKALWn/8el9/16j/ANGx1Vq1p/8Ax6X3/XqP/RsdVaS3YBRRRTAKtQ/8gW4/6%2Bof/QZaq1ah/wCQLcf9fUP/AKDLSYFWiiimAUUUUAWpv%2BQLb/8AX1N/6DFVWrU3/IFt/wDr6m/9BiqrSQBRRRTAKtah/wAelj/16n/0bJVWrWof8elj/wBep/8ARslJ7oCrRRRTAK7zwZ/yLVt/wP8A9DauDrvPBn/ItW3/AAP/ANDasa/wDjualFFFcpYUUUUAFFFFABRRRQAUUUUAFFFFABRRRQAUUUUAFFFFABRRRQBzXxm8Q%2BJfCPwf8V%2BK/Bln9o1jTPDV9d6Vb%2BXv825jt3eJdv8AFl1UY75r5y%2BAXxR1r4R/8JjdaBr/AI1%2BJmk6f8DPCnjGGwbVbvXL/UNWvP7WEotS7Suv2pLS2YQRYijI3JGgkOfrKuX8FfBD4LfDWY3Hw6%2BEPhfQJDdS3RfRPD9takzyqqyS5iRfndVVWbqwUAk4FAHif/BN34keM/HenfFTT/iF408U67q2mfErM1x4k8O6npsdr9o0fTbh7W0h1CGJ4baOeS48uHG5I2jZ8mUO%2BP8A8FlPAur%2BIf2Kr34leEto8QfDLxFp/jPQXKnKy2MheQ5A4xA0zeny19QaX4e0DQ7m/vdF0Ozs5tUvPtepy2tskbXdx5ccXnSlQDI/lxRJubJ2xoucKAOf%2BNXh3SPGHgC78Ja/aiew1SOS0vYG6SQyxSI6n6qxFc%2BMwqxuFnh725k1fs7aP5NJ/I4czwix%2BX1cNe3PFpPs7aP5SUX8j4e8f%2BN9E%2BG37aXwc/bV0nW4JfA/xr8H2/hDVbtlfZp9xPi902ZjtH%2BsZjEewCMT2r7H/s%2B0/wCg5a/98S//ABFfBv7Nnwfu/wBpj/gm542/Yh8X32PFPw08Ran4Ysr6RtjwXtlcG40%2B4B6qnzRpuHVFYA8mvof9hH9oO8/aT/Zn0Hx14jRofElgH0jxhZyLtkttVtT5Vwrr/CWIEoXssq1wZJipOtyy0VaPtV5T0jWj8pJSt2bP0Gviv9cfDXLc/S/f4RRwldf3ffnhpv0/2jDt/wA1OHVq/tf9n2n/AEHLX/viX/4ij%2Bz7T/oOWv8A3xL/APEVVor6az7nxBpy2NqdIgT%2B2LYAXMpDbZcH5Y%2BPuZ//AF1W/s%2B0/wCg5a/98S//ABFE3/IFt/8Ar6m/9BiqrSSfcC1/Z9p/0HLX/viX/wCIo/s%2B0/6Dlr/3xL/8RVWinZ9wLX9n2n/Qctf%2B%2BJf/AIirN9Y2rW1mDrFsMWxAJWX5v3r8j5Pw59KzKtah/wAelj/16n/0bJSad1qAf2faf9By1/74l/8AiKP7PtP%2Bg5a/98S//EVVop2fcC1/Z9p/0HLX/viX/wCIo/s%2B0/6Dlr/3xL/8RVWiiz7gaeq2Nq1ypbWLZf8ARoRhll/55LzwnfrVb%2Bz7T/oOWv8A3xL/APEUax/x9p/16wf%2BikqrSSdtwLX9n2n/AEHLX/viX/4ij%2Bz7T/oOWv8A3xL/APEVVop2fcC1/Z9p/wBBy1/74l/%2BIqzrFjavq907axbKTcuSrLLkfMeDhMVmVa1z/kNXn/X1J/6EaVnfcA/s%2B0/6Dlr/AN8S/wDxFH9n2n/Qctf%2B%2BJf/AIiqtFOz7gWv7PtP%2Bg5a/wDfEv8A8RVnR7G1TV7V11i2Yi5QhVWXJ%2BYccpisyrWh/wDIas/%2BvqP/ANCFJp2eoB/Z9p/0HLX/AL4l/wDiKP7PtP8AoOWv/fEv/wARVWinZ9wLX9n2n/Qctf8AviX/AOIo/s%2B0/wCg5a/98S//ABFVaKLPuBp6VY2q3LFdYtm/0aYYCy/88m55Tt1qt/Z9p/0HLX/viX/4ijR/%2BPt/%2BvWf/wBFPVWlZ33Atf2faf8AQctf%2B%2BJf/iKP7PtP%2Bg5a/wDfEv8A8RVWinZ9wLX9n2n/AEHLX/viX/4irNjY2q214BrFsc2wBIWX5f3qcn5Pw49azKtaf/x6X3/XqP8A0bHSadtwD%2Bz7T/oOWv8A3xL/APEUf2faf9By1/74l/8AiKq0U7PuBa/s%2B0/6Dlr/AN8S/wDxFdH4At4oPtflX0U2fLz5QcY%2B913KK5Kuo%2BG3/L7/ANs//Zqzqp8jGtzqKKKK5CwoorE%2BJXjex%2BGfw51/4kanayT23h/RLvUriGI4aRIIWlZR7kIQKANuivmrw/8AtVftC%2BHfAfxCk%2BIHg3w/4j8VeGvg3YePvD%2BmeEdOuraO8a6i1HGlsjzXEksiTaeF89NplW4XbCrLhszwj%2B2J8S/Hngrxjd%2BF/jl8H5rbwFqME/iL4nLo16%2BiNpUumm5V4LNL4tJMtwGgfF5tUIWwZMwKAfVFcH4z/wCRluf%2BAf8AoC1q/BTxf4t%2BIPwa8JePfH/g2Tw5rut%2BGbC/1rw9MSX0y7mt0kmtWyAcxuzIcgH5eapeLdK1S58QXE1vptxIjbNrpCxB%2BRe4FbUWlIUtjDr4z8Xapp//AAUP/aSutM1G/iX4B/BXU2uPEV7NIBa%2BKNfhUsYmY/K9parlnz8rE87ldWX1P/goz8XfH/wv%2BD9j8JfhNZXH/Cxfipqi%2BGfBMCoyvHJNgXF30yqwRMWLj7jNGTxmvI/jx8JJfCPgb4a/8Ee/2c0urW88R6Wtx491S0tys1l4difN7dyADiS7m3oM8ElkOAy14Gd4yNWo6FuaEOVyj/POT/dUvRv35/3Uk9L3eQcOz474spZI5%2Bzw1Ne1xNRq6hSgvaS5u6jCLqSj9uTo0/8Al5Z7P7N%2Bj6n%2B3l%2B0OP23fHenTR/DzwdPPYfBXQ7uIqLuQNsn1uRD/EzLtiyPl2g4DRhm%2BvKg8H/Da38A%2BFNN8D%2BEPCUtjpWj2EVnptlBbMEggjQIiDjoFAFaP9h61/0B7r/wHb/CvZy7CLBULTlzVJPmnLvJ7%2BiXwxXSKS73%2Bm4u4ijxFmaeGp%2BywtGKpYele/s6MW%2BVN9ak23Uqz3nVnN7KCia5/wAhq8/6%2BpP/AEI1VrT1jR9Xl1e6li0q5ZWuXKssDEEbjz0qt/Yetf8AQHuv/Adv8K7k1ZanypVoq1/Yetf9Ae6/8B2/wo/sPWv%2BgPdf%2BA7f4U7ruAaH/wAhqz/6%2Bo//AEIVVrT0fR9Xi1e1ll0q5VVuULM0DAAbhyeKrf2HrX/QHuv/AAHb/CldX3Aq0Va/sPWv%2BgPdf%2BA7f4Uf2HrX/QHuv/Adv8Kd13Aq1a0f/j7f/r1n/wDRT0f2HrX/AEB7r/wHb/CrOlaPq8dyzSaVcqDbTDLQMOTEwA6etJtW3AzKKtf2HrX/AEB7r/wHb/Cj%2Bw9a/wCgPdf%2BA7f4U7ruBVoq1/Yetf8AQHuv/Adv8KP7D1r/AKA91/4Dt/hRddwDT/8Aj0vv%2BvUf%2BjY6q1p2Oj6ulteK%2BlXILWwCgwNyfNQ4HHoD%2BVVv7D1r/oD3X/gO3%2BFJNXeoFWirX9h61/0B7r/wHb/Cj%2Bw9a/6A91/4Dt/hTuu4FWrUP/IFuP8Ar6h/9Blo/sPWv%2BgPdf8AgO3%2BFWYtH1caRPEdKudxuYiF8hskBZMnp7j86Ta7gZlFWv7D1r/oD3X/AIDt/hR/Yetf9Ae6/wDAdv8ACnddwKtFWv7D1r/oD3X/AIDt/hR/Yetf9Ae6/wDAdv8ACi67gE3/ACBbf/r6m/8AQYqq1py6Pq50iCIaVc7hcykr5DZAKx4PT2P5VW/sPWv%2BgPdf%2BA7f4Uk13Aq0Va/sPWv%2BgPdf%2BA7f4Uf2HrX/AEB7r/wHb/CnddwKtWtQ/wCPSx/69T/6Nko/sPWv%2BgPdf%2BA7f4VZvtH1d7azVNKuSVtiGAgbg%2Ba5wePQj86TautQMyirX9h61/0B7r/wHb/Cj%2Bw9a/6A91/4Dt/hTuu4FWu88Gf8i1bf8D/9DauN/sPWv%2BgPdf8AgO3%2BFdr4SgntvD9vDcQvG679yOpBHzt2NY1mnEqO5o0UUVzFBRRRQAUUUUAFFFFABRRRQAUUUUAFFFFABRRRQAUUUUAFFFFABRRRQAVg/EP/AJAsX/X0v/oLVvVg/EP/AJAsX/X0v/oLVdP40J7HwpqviO3/AGKf%2BCh%2BteLPHFs9j8Pfjzb6dDb69kfZdO8SWsbRCGb/AJ5CeM7g54Zj6K5Wv461fVP%2BCc37VPiH416vo8kvwW%2BLep203ie/s1Zv%2BET17Hlm7lQD/j3uCQXcc7z22osn0r8cvgn8PP2ifhZrHwe%2BKWiLfaNrNsYrhOA8TdUmjbB2SIwDK3YgdRxXzP8AA741SfB/Urr/AIJ2/wDBQa9t71p4GsPA3jHXoMaf400lxsSCWR8ot2ikRsrHLHaMsxDSfP4zDSwVdQ5%2BSLm50pvaFSV%2BanP%2B5Uu7ardxupKDe3B/E1DgfNq%2BEzKl7XLcanCpG/K1zTVS0ZbQqQqJVsPNrlU%2BalNONRp/X2n6hYatYQarpV7Dc2tzCsttc28geOWNgCrqw4ZSCCCOCDU1fGWlap8YP%2BCV17ceHtf0HV/G/wCz090ZdJ1mxLXWqeBY3OWhnj%2B9PZKTlXHKDOecI31n8PPiP4E%2BLXg6x%2BIHw08WWOt6LqMXmWWo6fOJI5B3GR0YHgqcFSCCAQRXt4HMYYpulUXJWj8UHuvOL%2B1F9JLTo%2BWV0fT8TcI4jI4Rx2EqfWMBVf7rERXuvS/s6iu3RrxWk6U7NNOUHUpuMzpJv%2BQLb/8AX1N/6DFVWrU3/IFt/wDr6m/9BiqrXoo%2BPCiiimAVa1D/AI9LH/r1P/o2SqtWtQ/49LH/AK9T/wCjZKT3QFWiiimAUUUUAWtY/wCPtP8Ar1g/9FJVWrWsf8faf9esH/opKq0lsAUUUUwCrWuf8hq8/wCvqT/0I1Vq1rn/ACGrz/r6k/8AQjS6gVaKKKYBVrQ/%2BQ1Z/wDX1H/6EKq1a0P/AJDVn/19R/8AoQpPZgVaKKKYBRRRQBa0f/j7f/r1n/8ART1Vq1o//H2//XrP/wCinqrS6gFFFFMAq1p//Hpff9eo/wDRsdVataf/AMel9/16j/0bHSewFWiiimAV1Hw2/wCX3/tn/wCzVy9dR8Nv%2BX3/ALZ/%2BzVnV/hsa3OoooorjLCquuaLpXiTRbzw7rtjHdWN/ayW15bSjKzROpV0PsVJB%2BtWqKAPIPht%2Bx14c%2BGttqkdn8Y/Heo3GreF7fw5NqV/qdql3DpVrFPHZ20U9tbRSRm3N1cyJMD57STFpJJCF242ufsGaB4hs7WbVP2g/iDLrMfjGDxNqHiKZdFluNUvbe0W1tBcQy6a1oYrdFR4kSBAsyLOcyjzK94ooAp%2BH9MvdG0Oz0nUfEN5q1xbWyRTapqCQrPdsoAMsggjjiDMeSERFyeFA4rj/GnHiW5J/wBj/wBAWu8r5q/4KP8Axg/4UN%2BzL8S/ijDdeTdWHhqSHTZc423k8a29uf8Av9LHRKvTwtGdae0YuT9Em/0ObGYing8LOvU%2BGCcn6JN/ofO3wd8eeHPjh%2B0B8Rv%2BCkvxDvNvw7%2BFumX2gfDaV%2BUkit1ZtS1OMHhjIQYo2H3lYoeUFdn/AME4Ph14o8SaDr37bvxfs9vjP4wXCahBbuS39k6GoxYWUZPRfK2yEjG7cm4ZXNeSfEr4XXun/s%2B/s%2B/8EqvDpkt73xfaWl/8Rfs5Kta6Ta4u9QJI5QzXRZUJ6lGU9a%2B8NPsLHSrCDS9MtI7e2toVit4IkCpGigBVUDoAAAB7V4WT4adfFqdXV0/el51qiUpf%2BC4OMF2v3ufb5Vh6vB/hdSjPTG5w3Vqv7Sw1OS5Y91GtiE3brSwsFqt5qKKK%2BtPjS1rn/IavP%2BvqT/0I1Vq1rn/IavP%2BvqT/ANCNVaS2QBRRRTAtaH/yGrP/AK%2Bo/wD0IVVq1of/ACGrP/r6j/8AQhVWl1AKKKKYBVrR/wDj7f8A69Z//RT1Vq1o/wDx9v8A9es//op6T2Aq0UUUwCiiigC1p/8Ax6X3/XqP/RsdVataf/x6X3/XqP8A0bHVWkt2AUUUUwCrUP8AyBbj/r6h/wDQZaq1ah/5Atx/19Q/%2Bgy0mBVooopgFFFFAFqb/kC2/wD19Tf%2BgxVVq1N/yBbf/r6m/wDQYqq0kAUUUUwCrWof8elj/wBep/8ARslVatah/wAelj/16n/0bJSe6Aq0UUUwCu88Gf8AItW3/A//AENq4Ou88Gf8i1bf8D/9Dasa/wAA47mpRRRXKWFFFFABRRRQAUUUUAFFFFABRRRQAUUUUAFFFFABRRRQAUUUUAFFYnxK8b2Pwz%2BHOv8AxI1O1kntvD%2BiXepXEMRw0iQQtKyj3IQgV5D8Evjl%2B0V4rvPEfw88b6Z4MvvF0Pw10fxb4b/suG60/TzJqP2%2BNdPuWeS5kxFPYgNdIBvScEQKUKsAe81g/EP/AJAsX/X0v/oLVw37L3xZ%2BJPxJvPG%2BgfELUfD2s/8Il4oGkWninwppU9jYak62sElzEkU1xcHfb3Dy27usrKXjZcI8ciL3vju1urzSI4rS2klYXIJWNCxxtbnirp/GhPY4muT%2BNPwN%2BFH7Q/gK7%2BGfxk8FWeuaPdjLW90nzRPggSxOMNFIMnDoQwyeeTXbf2HrX/QHuv/AAHb/Cj%2Bw9a/6A91/wCA7f4V01IUa1N06iTi9GnZprzTMatKnXpunUipRas01dNdmmfG1voH7bf7BMEmjeGtHvfjx8I4ARb6bLOP%2BEq0O2xgxLuG3UIlHCpjeeABGoriPhd4X%2BFfxG8Q6j8Yf%2BCUP7Rtn4E8XTTNP4o%2BDviWBo9NvJ14dJ9Ob95ZvkbTNAGQYwhXk1%2BgH9h61/0B7r/wHb/CvIP2hf8Agnx%2Bz/8AtMXa%2BIPiJ8JprfxFCVaz8XaCsljqtu6/dcXEQDOV7CTeo9K%2BcxeSVIxSw8uaMfhjKTUof9e6qvOP%2BGXPG2j00NuHc64r4HqzeSVlOhUSVTDV0qlGpFO6i1JSTS%2ByppuD1p1ab1OA8A/8FKfDfh3UrH4O/tsfDu/%2BD3jI3Miw3GtHzNC1Q4jG%2B11Bf3e3jJDkBchd7Gvo%2ByvbPUrOLUNOu4ri3njEkE8EgdJEIyGVhwQRyCK%2BTvHv7Jf/AAUO%2BG/geTwPo/iDw1%2B0T4BaWTd4I%2BLWliHV1QKmAl8AY5pPSWbGCDgCvm%2BHxtc/sla2LbwD4q%2BJv7MWpTXBP/CBfFbQ7jW/Bd7KTkpa3aK7QqT96ZR2wCBXFDPcblj5MbBuPeSUZf8AgSvRn6qVKT/lufVf2x4a8Rv9%2B5ZJin9msp1cDJ/3K8FOpQTeyqqrBfzJI/Uaivjr4cf8FSPEnh/w8Nb/AGmvgVOuhRYWb4mfCq8XxF4cI/56Stbs0tmOvySbn45Ar6X%2BCnx8%2BDH7Ruj/ANu/Av4l6R4ogVA0yaRdiSaAH/nrF/rIj7OqnmvocHnOW498tKoub%2BV%2B7L7nZv1XMvMnN%2BCeJMmwax1Wj7TCy%2BGvRlGvh5drVqLqQV%2B03Tl3inoddVrUP%2BPSx/69T/6Nko/sPWv%2BgPdf%2BA7f4VZvtH1d7azVNKuSVtiGAgbg%2Ba5wePQj869FtXWp8oZlFWv7D1r/AKA91/4Dt/hR/Yetf9Ae6/8AAdv8Kd13Aq0Va/sPWv8AoD3X/gO3%2BFH9h61/0B7r/wAB2/wouu4BrH/H2n/XrB/6KSqtaeq6Pq8lyrR6VcsBbQjIgY8iJQR09arf2HrX/QHuv/Adv8KSatuBVoq1/Yetf9Ae6/8AAdv8KP7D1r/oD3X/AIDt/hTuu4FWrWuf8hq8/wCvqT/0I0f2HrX/AEB7r/wHb/CrOsaPq8ur3UsWlXLK1y5VlgYgjceelK6vuBmUVa/sPWv%2BgPdf%2BA7f4Uf2HrX/AEB7r/wHb/CnddwKtWtD/wCQ1Z/9fUf/AKEKP7D1r/oD3X/gO3%2BFWdH0fV4tXtZZdKuVVblCzNAwAG4cnik2rPUDMoq1/Yetf9Ae6/8AAdv8KP7D1r/oD3X/AIDt/hTuu4FWirX9h61/0B7r/wAB2/wo/sPWv%2BgPdf8AgO3%2BFF13ANH/AOPt/wDr1n/9FPVWtPStH1eO5ZpNKuVBtphloGHJiYAdPWq39h61/wBAe6/8B2/wpXV9wKtFWv7D1r/oD3X/AIDt/hR/Yetf9Ae6/wDAdv8ACnddwKtWtP8A%2BPS%2B/wCvUf8Ao2Oj%2Bw9a/wCgPdf%2BA7f4VZsdH1dLa8V9KuQWtgFBgbk%2BahwOPQH8qTatuBmUVa/sPWv%2BgPdf%2BA7f4Uf2HrX/AEB7r/wHb/CnddwKtdR8Nv8Al9/7Z/8As1YP9h61/wBAe6/8B2/wro/AFje2X2v7ZZyxbvL2%2BbGVzjd0zWdVrkY1udHRRRXIWFFFMubm2sraS8vLhIYYULyyyuFVFAyWJPAAHOaAH0V5z4J/a0/Z%2B%2BIHg3XviDoHj0w6P4Z0dNX1u81nSLvTRb6a8Uk0d%2BFu4omktXjilZLhA0TiJ9rNsbFKb9tD9nqDwwnimbxFrih9YbShpH/CD6v/AGsLsWv2wxnTfsv2wAW2Jyxh2%2BUQ%2BdpBoA9Tr4c/4KqMPid8W/g1%2ByZCd6%2BOPiRb6lrkHUS6TpUIurlG9AcxkE90r7W8NeJNA8ZeHNP8X%2BFNXt9Q0vVbKK802/tJA8VzbyoHjlRhwysrBgR1BFfnN%2B1p8Qxqf7cfx6%2BOEdxusvgP8CjpOmMD8i61qNu1wHU/3tgWI46cZ5ryM7qxhgvZy2m0n/hV5z/8kptfM4MZgK%2BdYjCZPQ1ni69Giv8At%2BpHm%2BXKtfJs6n9gaN/2ivjX8S/2/dWQyWXiDUG8LfDhpBxHoNjIVeZPRZ7hS5HZo29a%2Bra8g/YB%2BHv/AAq39ir4Y%2BDHg8qWLwfZ3N1HjGye4QXEo%2BoklavX69PJqMqOWU3P45rnl5yn70vxdl5JLofoPiLmNHMeM8XHDfwKEvq9FdFRw96NNfONNzb6yqTl1CiiivUPiS1rn/IavP8Ar6k/9CNVata5/wAhq8/6%2BpP/AEI1VpLZAFFFFMC1of8AyGrP/r6j/wDQhVWrWh/8hqz/AOvqP/0IVVpdQCiiimAVa0f/AI%2B3/wCvWf8A9FPVWrWj/wDH2/8A16z/APop6T2Aq0UUUwCiiigC1p//AB6X3/XqP/RsdVataf8A8el9/wBeo/8ARsdVaS3YBRRRTAKtQ/8AIFuP%2BvqH/wBBlqrVqH/kC3H/AF9Q/wDoMtJgVaKKKYBRRRQBam/5Atv/ANfU3/oMVVatTf8AIFt/%2Bvqb/wBBiqrSQBRRRTAKtah/x6WP/Xqf/RslVatah/x6WP8A16n/ANGyUnugKtFFFMArvPBn/ItW3/A//Q2rg67zwZ/yLVt/wP8A9Dasa/wDjualFFFcpYUUUUAFFFFABRRRQAUUUUAFFFFABRRRQAUUUUAFFFFABRRRQBV1zRdK8SaLeeHddsY7qxv7WS2vLaUZWaJ1Kuh9ipIP1ryHwd%2BxZo3gfQNd0rRvj38Qjfa74Qh8MHxDLfaf/aFjplvDcRWUVvKtkAr2rXVxNHKytI0spaZpgFA9oooA4f4B/BKL4AeBbf4c6X8RNa1zStPgit9IttXsNMt106CNdqxRLp9nbLt7kuGbPfrW18Q/%2BQLF/wBfS/8AoLVvVg/EP/kCxf8AX0v/AKC1XT%2BNCexxtFFFdpAUUUUAWpv%2BQLb/APX1N/6DFWbq2kaTr%2BnTaPrul297aXCFLi1u4FkjlX0ZWBDD2NaU3/IFt/8Ar6m/9BiqrU2TTTBpNWZ86/EL/glh%2Bxr4z1h/FnhTwDeeAteOfK134d6tLpE8RPUqkR8kHPP%2Brr5x%2BLX/AARD%2BKI1j/hL/gt%2B0np97qkDM9hceKdEaxv45T/y1fUtNKSzSf7UkbV%2BjFFeHjOGMjxq9%2Bik97xvHXv7tlfz5b%2BZOUvE8PYx4vJq9TB1XvLD1J0XLykqclCa7qdOafVNN3/NDSNY/wCC7f7JLCC48In4n6DaKqql5cwazJLj7xEkbQ3xJHTcG%2Bh5rvvC3/Bdjw54auLHwt%2B15%2Byt44%2BHeoxxeS9wtm80LNvZi5jnWGVByRhRIRjvX3jTvEmk6VrmjWul63plveW0towlt7qFZI3HmycFWBBrkp5DmWBa%2BpY6aX8tRKpH73aS/wDAj1cXn%2BeY5XxioV5fzToQp1H61MK8O5PzlRk29Xc8X%2BEv/BQz9in42pCvgD9pDwy9zOQsWn6pff2fdOx/hWG6Ebsf90GvZUdJFDowZWGQQcgivFPiP/wTg/YW%2BKwc%2BL/2X/CiySNukn0exOmyufVpLMxMT7k15Vcf8Edfhn4KN1efsyftMfFn4YXE5zHb6B4sd7JOc4aIhZJB7NLXYq/EWHX7yjTq%2BcJuD/8AAaia/wDJjwZ1se5e7Qj8qrtv/fp3211b7eZ9g0V8Tar%2BzV/wWQ%2BFCD/hUX7c/hnxxZQLxZeM/DkVtPKB0G/ypmJ%2Bsy/WuX1f9sX/AILTfBjI%2BKX7CuheKLWH/l78JwzXEkqj%2BLFrczkfjEp9qynxFHDf71ha0PPk5199Ny/I7sNg85xelLCSm%2B0J0Jv/AMB9tTn/AOSt%2BR%2Bhesf8faf9esH/AKKSqtfncn/Bf%2B50PXU0H42fsX694avEhjWSM%2BIFRyFRV3CO6t4COnQsfrXovgL/AILi/so%2BOFO74dfEmy2HbNMPDEd3Cp74e1nlyPwqaHFvDld8qxCT7NSi/ucS8xwmaZNT9pmWDxGHjvzVcNiKcbd%2BeVB07eftLdmz7Mor5s0L/grr/wAE9tbuPsMv7QMWm3IOJLbWdA1C0aM%2BhMkAX9a7/wANftyfsaeLtq%2BH/wBqj4fzSP8AdhfxZaRyH/gDyBv0r06Wb5TX/h4iD/7fj/8AJI8ajnWTYj%2BHiab9Jx/%2BSR6pVrXP%2BQ1ef9fUn/oRrn/D/j3wN4tUN4V8aaTqYYZB0/UYps/98Ma6DXP%2BQ1ef9fUn/oRrujKM9Yu68j0YyjON4u68tfyKtFFFWUFWtD/5DVn/ANfUf/oQqrVrQ/8AkNWf/X1H/wChCk9mBVooopgFFFFAFrR/%2BPt/%2BvWf/wBFPVWrWj/8fb/9es//AKKeqtLqAUUUUwCrWn/8el9/16j/ANGx1Vq1p/8Ax6X3/XqP/RsdJ7AVaKKKYBXUfDb/AJff%2B2f/ALNXL11Hw2/5ff8Atn/7NWdX%2BGxrc6iiiiuMsK574ueCrj4lfCjxP8ObTURZy6/4evdNiuyCfIaeB4g/HPBbP4V0NFAHyj4N%2BC/xe8fab44T4vfs3XljaeJPgXpfgOTw7N4osY0vriyi1V7hjc2s0rQW0zaikMEoQzJslkeKP5Qea%2BHPwF/ac8AfGpP2utV%2BHHjfxVePqs9nJ4T8R%2BIdA/t1rJtIggS8draaHTUYXMHl%2BXHID5DCU7pS8dfadFAHAfsp/C/X/gl%2BzJ8Pfg94rubebVPDHgzTNL1KS0YtCbiC2jjkEZIBMYZSFyAdoFfnv%2B2N8G/G3wq/Zk%2BMPg/xhYeR4n/aA/aVay0u5acPONNn1VBYxjYxXa1palgpG4LOQcEYH6j18Q/8FBP%2BK/8A29P2dPgon7yGPxVqHizUE7Rf2bYq1u5HvJIyj3rxs8w9Otg238T9xetVwpv/AMlcrfM%2B28NMHRl4hYDMqiv9S9tifL9xQq1bv/t6nTS9X3PpLTv7J0nT4NL0/wAOWcVvbQrFBErS4RFACgfP2AFTf2haf9AO1/77l/8Ai6q0V9QopKyPhpSlKTk3dstf2haf9AO1/wC%2B5f8A4uj%2B0LT/AKAdr/33L/8AF1VooshGnrF9apq90jaPbMRcuCzNLk/MeTh8VW/tC0/6Adr/AN9y/wDxdGuf8hq8/wCvqT/0I1VpJKyAtf2haf8AQDtf%2B%2B5f/i6P7QtP%2BgHa/wDfcv8A8XVWinZAaej31q%2Br2qLo9spNygDK0uR8w55fFVv7QtP%2BgHa/99y//F0aH/yGrP8A6%2Bo//QhVWlZXAtf2haf9AO1/77l/%2BLo/tC0/6Adr/wB9y/8AxdVaKdkBa/tC0/6Adr/33L/8XVnSr61a5YLo9sv%2BjTHIaX/nk3HL9%2BlZlWtH/wCPt/8Ar1n/APRT0mlYA/tC0/6Adr/33L/8XR/aFp/0A7X/AL7l/wDi6q0U7IC1/aFp/wBAO1/77l/%2BLo/tC0/6Adr/AN9y/wDxdVaKLIDTsb61a2vCNHthi2BIDS/N%2B9Tg/P8Ajx6VW/tC0/6Adr/33L/8XRp//Hpff9eo/wDRsdVaSSuwLX9oWn/QDtf%2B%2B5f/AIuj%2B0LT/oB2v/fcv/xdVaKdkBa/tC0/6Adr/wB9y/8AxdWYr61OkTv/AGPbAC5iBXdLg/LJz9/P/wCusyrUP/IFuP8Ar6h/9BlpNIA/tC0/6Adr/wB9y/8AxdH9oWn/AEA7X/vuX/4uqtFOyAtf2haf9AO1/wC%2B5f8A4uj%2B0LT/AKAdr/33L/8AF1VoosgNOW%2BtRpED/wBj2xBuZQF3S4Hyx8/fz/8Aqqt/aFp/0A7X/vuX/wCLom/5Atv/ANfU3/oMVVaSSAtf2haf9AO1/wC%2B5f8A4uj%2B0LT/AKAdr/33L/8AF1Vop2QFr%2B0LT/oB2v8A33L/APF1Zvr61W2sydHtjm2JALS/L%2B9fgfP%2BPPrWZVrUP%2BPSx/69T/6NkpNK6AP7QtP%2BgHa/99y//F0f2haf9AO1/wC%2B5f8A4uqtFOyAtf2haf8AQDtf%2B%2B5f/i67XwlIkvh%2B3kjgSMHfhEJwPnb1JP61wFd54M/5Fq2/4H/6G1Y1klEqO5qUUUVzFBRRRQAUUUUAFFFFABRRRQAUUUUAFFFFABRRRQAUUUUAFFFFABRRRQAVg/EP/kCxf9fS/wDoLVvVg/EP/kCxf9fS/wDoLVdP40J7HG0UUV2kBRRRQBam/wCQLb/9fU3/AKDFVWrU3/IFt/8Ar6m/9BiqrSQBRRRTAKtah/x6WP8A16n/ANGyVVq1qH/HpY/9ep/9GyUnugKtFFFMAooooAZ418OeHvFMX9k%2BJ9BstRtHtYN9tf2qTRt%2B6Tqrgg14n8QP%2BCbP7CXxM8xvE/7L3hWJ5M75dGsjprk%2Bu60aI596951j/j7T/r1g/wDRSVVrlr4LB4uNq9OM/wDFFP8ANM9nKeI%2BIcgqc%2BWYyrQf/TurUp/%2BkTin80z5P13/AIJDfBL7L9l%2BGnxw%2BKvhGFP9Tp%2Bm%2BMnuLIezQ3SSb19s15/4l/4JE/Fe23SeG/jj8OfEsfOyz8dfA7SXkP8AvXluonP6V94UV5VXhjI6v/Lrl/wuS/C7X4H0FbxG4ox2mZujjF/1E4XC4hv1lUw/tPn7S/mfml4g/wCCYHxs0slvE37CPwE8Zxoco/gzxhreg3D%2B58yZY1b6DFZ99%2Bzdq/w5vZofEH/BPL9ojwSIZWU/8Ku%2BMo1vy8H%2BABsmv09q1rn/ACGrz/r6k/8AQjXBLg7L1K9Kbj6xpy/Hlg//ACY86WZ8DYx3x3C%2BAk%2BsqMa%2BFl/5QruK/wDAPkfll/wsH4Q%2BCefEH7X/AO2v8Ntv3oviBYT3MUH1VYX4H410/hP466FrYX/hWv8AwXrazz/qx4y%2BH9kf%2B%2BjerD%2Btfo5XM%2BLPgr8G/Hu7/hOvhL4Z1rf9/wDtbQbe53fXzEOaX%2BreLpfw6sX/AODofjCu1%2BBP1DwbxPxZXjMM/wDpxj3NL0jXp3%2B%2BZ8q%2BFdS/bZ18L/wrX/gqn8GfGm7/AFfm%2BGLEeZ/4BzN%2BldtpGnf8FldI1K1fSPFP7Ouufv0MZ1Gz1q3LnIx/quK6jxV/wTS/YK8Y7v7X/ZX8JQ7%2Bv9lWBsfy%2BzGPH4VzOmf8EgP2ObHVreP4dxeNvBhe4QB/C3j3UIWTLDlfNkkwaTyzOaS0bf8AhxFRfhUpz/Mf%2BqnhRiP4Gb5jh3/fp06qXq6de/3QK3/Cwv8AgrrpH/IR/Z4%2BDusY6/2T4svLfd9PPBxQf2kf%2BCnWk/8AIS/4Js6PqoHVtK%2BMFhDn6CaPNH/DuDxr4f5%2BHH/BQ348adj/AFcOseK49ThT2CSRLx7Zpf8AhlX/AIKKeG%2BfB3/BTJr6Jfu2fiT4WafNn6zI4f8ASn7POKe6rr0qUJ/%2BlQixf8Q84arf7nxal/1%2BoYin%2BeHrr8bCH9tX9tTTf%2BRj/wCCXXi6LH3v7M8c6deflsAzR/w8P%2BLun/8AIw/8E2vjdFj739m6NBd/ltkGaU%2BFf%2BCwPhr/AJBHxV%2BBXiVV/wCg7oep2bOP%2B3YkA/pR/wALS/4Kz%2BHf%2BQz%2Byv8AC3xHt6/8I/43ms930%2B1KcfjR9ZzCHxVMRH1oU5f%2Bkv8AQP8AiFmcVP8AdOI8FV9a9CL%2B6tQofiyfTf8AgqNpenXDHxB%2Bwl%2B0lYfuJVLTfCxmUZjYZys5yBnk%2BlV/%2BHsnwEtv%2BQ78Hfi9pfr/AGh8N7pcf98lqsab%2B2P%2B3l4euGPjL/gltrxAglDP4f8AiTpt/kGNgWCqoPA5x14qD/h5F4w0bjxt/wAE7/j/AGePvyaV4Njv419y0cw496X9pVov3sY1/iw0l%2BSD/iEfibL/AHfE0K3%2BCrgJ/wDpONh%2BQn/D4L9iW3/5DfiPxVpmOv2/wJqS4%2Bu2E1Lbf8Fjv%2BCcVy/lP%2B0UIXHVLnwpq0ZH52uKjP8AwVn/AGdtO48Z/DP4q%2BGyPvjXPh1dx7frs31Jb/8ABXP/AIJx66/2HVPjrDbSj71vq/hXUoiv1L2239apZw72/tCh/wBvQcfzqRJl4ReNkI80cBUmu8cLOovvo16iNWy/4Kv/APBPK/x5H7T2jLn/AJ7WV3H/AOhwit3Rv%2BCmX7At1bXap%2B1Z4QQyW4CCbUPLyfMQ4%2BcDsD%2BVYNn%2B25/wTL8X43/G34aSbv8AoJ%2BRD%2Bfnotb%2Bi%2BOP%2BCafjG2u/sni34Hamz242BL7R5iT5idsk5xn9a6YY/G1F7mKw8vv/SqzxMVwT4p4D/eMDOP%2BLC4uP/trX4lu0/4KAfsPXuPJ/a0%2BHq5/56%2BK7WP/ANCcVpWv7af7HN9/x5/tY/DSXPZPHWnk/l51Z9n8Dv2D/F%2BP7P8AhB8I9U3dPJ8P6XPn8kNT3P7C/wCxRfDdL%2ByR8NDu/ij8EWCZ/FYhXZGWeyV4ui//AAb%2BjZ4NbD8WYaXLVjST7SjXi/uaNq2/ak/Zkvf%2BPP8AaL8CTZ6eV4usm/lLXpnwL%2BIPgLx4upv4G8b6PrQtvI%2B0nSdSiuRFu8zbu8tjtztbGeu0%2BleEXP8AwTu/YWu/9b%2Byf4FH/XLw9Cn/AKCBXqv7KH7NHwE/Z3bxA/wQ%2BFWkeGDrP2X%2B1P7Kt/LFz5XneXuGf4fNkx/vmtIyzjmtXjT5evK53%2BSkrfiVhZZ37dLERpcnXldS/wAlJW38z2GiiitT1wooooAKKKKACviHUv8Ai4//AAWb8V6r/rLX4b/B6x03Z1EV7qFwLjd7EwDH0r7er4f/AGJ4rrxj%2B0j%2B038cNRgZZtU%2BMU3huJnHLwaNAtqhH%2Bz87AfQ152MTq43C0e8%2BZ%2BkIyl%2Bbiff8GtYPIs9zB7wwqox/wAWKr0qT/8AKdOp/TPpCiiivoT88CiiigC1rn/IavP%2BvqT/ANCNVata5/yGrz/r6k/9CNVaS2QBRRRTAtaH/wAhqz/6%2Bo//AEIVVq1of/Ias/8Ar6j/APQhVWl1AKKKKYBVrR/%2BPt/%2BvWf/ANFPVWrWj/8AH2//AF6z/wDop6T2Aq0UUUwCiiigC1p//Hpff9eo/wDRsdVataf/AMel9/16j/0bHVWkt2AUUUUwCrUP/IFuP%2BvqH/0GWqtWof8AkC3H/X1D/wCgy0mBVooopgFFFFAFqb/kC2//AF9Tf%2BgxVVq1N/yBbf8A6%2Bpv/QYqq0kAUUUUwCrWof8AHpY/9ep/9GyVVq1qH/HpY/8AXqf/AEbJSe6Aq0UUUwCu88Gf8i1bf8D/APQ2rg67zwZ/yLVt/wAD/wDQ2rGv8A47mpRRRXKWFFFFABRRRQAUUUUAFFFFABRRRQAUUUUAFFFFABRRRQAUUUUAMubm2sraS8vLhIYYULyyyuFVFAyWJPAAHOa898C/tYfAH4i%2BENd8eeHPHjRaT4b0lNW1q81nSbvTRb6c8Uk0d%2BFu4ome1eOKVkuEDROIn2sdjY6T4ueCrj4lfCjxP8ObTURZy6/4evdNiuyCfIaeB4g/HPBbP4V8uXHwA/aK%2BLXgD4jaV4g%2BDc/hPUfE/wABtK8DaVbX2tWE1u2pWCapK80r208hFnLLfxQxHb5u1JmkiiBUMAfTXwo%2BNXw7%2BNemX2qfD/Ur6T%2BzL0Wmp2eraHeabd2kxhjmVZba8iimj3RSxSKWQBldWUkHNXPiH/yBYv8Ar6X/ANBauB/Z08MfEW6%2BJPxD%2BNfxC%2BHl74RPi270yHTPDup39pcXUcFnZiNp5ms5poQzyySqqrIx8uKNm2lii%2Bo6zpUesWq20ojIWQN%2B8ViOhH8LKe/rVQaUkxPY86orsv8AhBrT%2B7a/9%2BZf/jtH/CDWn921/wC/Mv8A8drp9tAmzONorsv%2BEGtP7tr/AN%2BZf/jtH/CDWn921/78y/8Ax2j20Aszl5v%2BQLb/APX1N/6DFVWu2bwbatapbbbbCSMw/dS45Cj/AJ65/h9fy7x/8INaf3bX/vzL/wDHaSqwCzONorsv%2BEGtP7tr/wB%2BZf8A47R/wg1p/dtf%2B/Mv/wAdp%2B2gFmcbVrUP%2BPSx/wCvU/8Ao2Suo/4Qa0/u2v8A35l/%2BO1JN4NtZo4oytt%2B6jKjMUv94tx%2B99%2B%2Bf6BOrC4WZxNFdl/wg1p/dtf%2B/Mv/AMdo/wCEGtP7tr/35l/%2BO0/bQCzONorsv%2BEGtP7tr/35l/8AjtH/AAg1p/dtf%2B/Mv/x2j20Aszl9Y/4%2B0/69YP8A0UlVa7a58G2txIJGW24jRfmil/hUL2lHp/8Ar61H/wAINaf3bX/vzL/8dpKrBILM42iuy/4Qa0/u2v8A35l/%2BO0f8INaf3bX/vzL/wDHaftoBZnG1a1z/kNXn/X1J/6Ea6j/AIQa0/u2v/fmX/47Ul14Ntbq6kuWW2zJIWO6KUnk55xKB%2Bgpe1hcLM4miuy/4Qa0/u2v/fmX/wCO0f8ACDWn921/78y//HaftoBZnG1a0P8A5DVn/wBfUf8A6EK6j/hBrT%2B7a/8AfmX/AOO1Ja%2BDbW1uo7lVtsxyBhtilB4Oe8pH6Gk6sGgsziaK7L/hBrT%2B7a/9%2BZf/AI7R/wAINaf3bX/vzL/8dp%2B2gFmcbRXZf8INaf3bX/vzL/8AHaP%2BEGtP7tr/AN%2BZf/jtHtoBZnL6P/x9v/16z/8Aop6q121t4NtbeQyKttzG68RS/wASle8p9f8A9XWo/wDhBrT%2B7a/9%2BZf/AI7S9rC4WZxtVtS0fSNZi%2Bz6vpdtdR/3LmBXH5MDXd/8INaf3bX/AL8y/wDx2j/hBrT%2B7a/9%2BZf/AI7Q6tNqzKi5wlzRdn5aflY8b1r9nP8AZ78RknxD8CfBt/u%2B99t8L2kuf%2B%2BozXOXf/BP79h3xBbXr6j%2ByX8Pgwtwwa28K2sBB8xBnMSLzgn86%2Bh/%2BEGtP7tr/wB%2BZf8A47UkPg21hjljC2372MKcRS/3g3P7327Y/oeWphsuq/HSi/WMX/7ae3heJ%2BKMD/u2Prw/w160fwVVL8D5D1f/AIJQ/wDBPTW8/bP2YtGTd1%2ByX13b/wDoqZcVit/wR3/YOtCW8M/DnXNEOcg6V421NMfTfcNX2l/wg1p/dtf%2B/Mv/AMdo/wCEGtP7tr/35l/%2BO1ySyfIZu7w1P/wCK/JI96j4oeJdCPLDOsVbs69Vr7pSkvwPi3/h1H8FbL/kWfjx8ZtEx93%2ByviTcJt%2Bm9Wr3j9ib9mJP2b/APhJo4fj98S/G8WsfYtkXxE8U/2mNP8AK8/P2Y%2BWnlh/M%2Bfrny09K9a/4Qa0/u2v/fmX/wCO1f0TQ4tF83yhEPN258pHHTPXc7evtVU8syrDzVSjSUZLazl%2BXNb8DlzTj/jPO8DPB5hjZVac7XUo0m3Zpr3vYKa1S2qK%2Bzurp36KKK6T5EK574u%2BNbn4a/CfxP8AEWy04Xk2geHb3UorQ5/ftBA8oTjnkrjj1roaZc21veW8lpdwJLFKhSWKRQyupGCCDwQRxigD5LtPj78efhn8MvilbeJvjZB4g1bRPgDpXjrQ/Eeu6Jbxxafqd5FqyNCYrCBPMtBLYQvEhSWYhpVLy/LXA337Tv7YX9oXfwo0/VPiW/iC18SXzJ4YTSvCjeNEsItBs7pJJm2f2K1qLu4IJhYzlZoEBMgljH1H4X/Yw/Zv8IeGtV8HaR4DupNL1vSDpOrWGpeI9QvYrnTvIeBLFluJ3/0aOOSRYoP9XD5rmNULsTXm/Ye/ZvuNMNjN4Y11rltQkvZdd/4TvWf7XllktktXD6j9r%2B1yRtBFHGYmlMe2NBt%2BUYAOu%2BAnjW8%2BJXwL8F/EXUdb07U7jX/CenalPqWkRSJaXbz2scrSwLIA6xMWLKHAYKRkA5ri/BvwJ8M/BufX9K8GTM0eu%2BLNT8Q38l/fQ%2BY95qFy91NwNuEVpCiAjIRFyWOWPqfhzw7oXhDw9YeE/C%2Bk29hpml2UVpp1haRhIraCNAkcaKOFVVUKAOgArO1rwT/a%2Bpy6j/afl%2BZt%2BTyc4woHXcPSnCNP2qnJaq9n2va/32N4YrE0sNUw8JtQqcrkukuRtxv/AIXJtebZy/8AY93/AM9rX/wOi/8AiqP7Hu/%2Be1r/AOB0X/xVb3/Ctv8AqNf%2BS3/2VH/Ctv8AqNf%2BS3/2VdXtY9zlszB/se7/AOe1r/4HRf8AxVH9j3f/AD2tf/A6L/4qt7/hW3/Ua/8AJb/7Kj/hW3/Ua/8AJb/7Kj2se4WZlaxpV1Jq91IstsA1y5G68iB%2B8eoLZFVv7Hu/%2Be1r/wCB0X/xVdHfeAPtt7Nef2tt82Vn2%2BRnGTnH3qi/4Vt/1Gv/ACW/%2BypKpG24WZg/2Pd/89rX/wADov8A4qj%2Bx7v/AJ7Wv/gdF/8AFVvf8K2/6jX/AJLf/ZUf8K2/6jX/AJLf/ZU/ax7hZmVo%2BlXUer2sjS2xC3KE7byIn7w7Bsmq39j3f/Pa1/8AA6L/AOKro7HwB9ivYbz%2B1t3lSq%2B3yMZwc4%2B9UX/Ctv8AqNf%2BS3/2VL2kb7hZmD/Y93/z2tf/AAOi/wDiqP7Hu/8Anta/%2BB0X/wAVW9/wrb/qNf8Akt/9lR/wrb/qNf8Akt/9lT9rHuFmYP8AY93/AM9rX/wOi/8Aiqs6VpV1HcszS23/AB7TDi8iPWJh2atX/hW3/Ua/8lv/ALKpbPwB9klMv9rbsxOmPIx95Cufve%2BaTqRtuFmc5/Y93/z2tf8AwOi/%2BKo/se7/AOe1r/4HRf8AxVb3/Ctv%2Bo1/5Lf/AGVH/Ctv%2Bo1/5Lf/AGVP2se4WZg/2Pd/89rX/wADov8A4qj%2Bx7v/AJ7Wv/gdF/8AFVvf8K2/6jX/AJLf/ZUf8K2/6jX/AJLf/ZUe1j3CzMqx0q6W2vFMtt81sAMXkR/5aoefm46d6rf2Pd/89rX/AMDov/iq6O38AeRFPF/a2fOiCZ8jp86tn73P3cfjUX/Ctv8AqNf%2BS3/2VJVI33CzMH%2Bx7v8A57Wv/gdF/wDFUf2Pd/8APa1/8Dov/iq3v%2BFbf9Rr/wAlv/sqP%2BFbf9Rr/wAlv/sqftY9wszB/se7/wCe1r/4HRf/ABVWYtKuhpE8fm22TcxEf6ZFjhZO%2B7Hf/OK1f%2BFbf9Rr/wAlv/sqlTwBsspLP%2B1v9ZKj7vI6bQwx97/a/Sk6ke4WZzn9j3f/AD2tf/A6L/4qj%2Bx7v/nta/8AgdF/8VW9/wAK2/6jX/kt/wDZUf8ACtv%2Bo1/5Lf8A2VP2se4WZg/2Pd/89rX/AMDov/iqP7Hu/wDnta/%2BB0X/AMVW9/wrb/qNf%2BS3/wBlR/wrb/qNf%2BS3/wBlR7WPcLMypdKujpEEfm22Rcyk/wCmRY5WPvux2/zmq39j3f8Az2tf/A6L/wCKro38Ab7KOz/tb/Vyu%2B7yOu4KMfe/2f1qL/hW3/Ua/wDJb/7Kkqke4WZg/wBj3f8Az2tf/A6L/wCKo/se7/57Wv8A4HRf/FVvf8K2/wCo1/5Lf/ZUf8K2/wCo1/5Lf/ZU/ax7hZmD/Y93/wA9rX/wOi/%2BKqzfaVdNbWaiW2%2BW2IObyIf8tXPHzc9e1av/AArb/qNf%2BS3/ANlUtx4A8%2BKCL%2B1seTEUz5HX52bP3uPvY/Ck6kb7hZnOf2Pd/wDPa1/8Dov/AIqj%2Bx7v/nta/wDgdF/8VW9/wrb/AKjX/kt/9lR/wrb/AKjX/kt/9lT9rHuFmYP9j3f/AD2tf/A6L/4qu18JQvb%2BH7eGQoSN%2BSjhh99u4JBrI/4Vt/1Gv/Jb/wCyre0XTf7I0yLTvO8zy93z7cZyxPTJ9azqzjKNkxpWLVFFFYFBRRRQAUUUUAFFFFABRRRQAUUUUAFFFFABRRRQAUUUUAFFFFABRRRQAV89/Fj9qP4qeDvizrsfhux8PHwf4L8T%2BE9B8R2l9YTvqN/PrV3bwNNbzrOsdulul5bSbWhlMxWVMx/K1fQleW%2BO/wBkzwH4/wDimPidqXinxBaxXF9o99rfhqyuLddO1i70q4%2B0afcXAeFpg8Mojb91LGsnkRLIJFQCgD1KiiigAooooA%2Bf/hz%2B0r8Q9d/aq8RfCP4geKtF0TSrbxZc6T4T0af4carFPraRaZBebotZkuvsUkwLXDmBIjJ5Vs5wArOPoCvN7r9mvStU%2BMGn/FjxD8UvF%2BqW%2Bja5LrOheE9Qv7eTTNN1CSyksmni/cC5x5M9wFhedoUadmWMEIV9IoAKKKKAOJ/aQ8ZfEb4efAjxX47%2BE%2Bn6Lc6/o2iz3tjH4hklFmvlKXd5BD88m1AzCMFPMYBPMjDGRfFfDn7ZPxk1zXIPF0ml%2BGI/CWmeNPCvhDxFpw064OoXGoazpumXQu7e4%2B0eXFDHJrNknkvFIzLHMfNX5RXvXxj%2BGrfGH4aav8M28c6z4dh1qye0u9T0BLQ3SwSKVkRftcE8Q3KSpJjJAOVKnBHmXgT9gzwL4J1nSdTuvi5421u307UbDU73StVm05bXV9SsbdbayvrlbayiYywwRWsaiJo42%2BxW7SI7oXYA9zooooAK8s/bE%2BLHxV%2BCXwZk%2BI3wn0nQLq5stYsU1Q%2BIWnMcVlLcJFIYo4SpllJdVUM6Ku4uS%2BwRSep1wP7R3wFg/aP%2BHMnwy1H4n%2BJPC9jcXUM15P4YSwM1wIpFkSNje2twqqHRG%2BRVYlQN2CQQDz34GftK/EPxv8f/ABB8NviZ4p0XSIoPEmt6f4a8Nv8ADjVbO41G2s5tqTRatPdG0u38rErxQxbgrbsKqk19AV5X4R/ZZttC%2BIWkfETxf8cfHfjGbw/cXd3odh4ovLF7eyvbmFoZ7pPs9pDIWZJJ1WNnMMSzukUcaBFT1SgAooooA8Y/bM%2BL3xx%2BB3gSb4kfC1vCDWem6dM40nXrO6ub/wAR6qzxJY6NZJDLEsMty7PGJ2MxV2j/AHDLuIw/2Uf2o/ip8YNc8ISfEix8PLpvxO%2BFy%2BPPB0WiWE8E%2Bl2fm2oNndvLPKtzKItRsz50awqWWYeXjaa7b4y/s0p8X/iT4Z%2BKUHxp8XeGdR8JWt5Fo8OhQaTPbpJchFkuTHqFjcgXAjQxLKu1ljlmQYEr7ovgZ%2ByZ4D%2BAmuJrXh7xV4g1VNP0BdB8MWOt3Fu8Ph7SFl80WFoIYI28rIiXdM0sm23hXfhAKAPUqKKKACvnL9uj9or9pX9m/Sm8ZfCvTfBmrQT/AGWz8O%2BDrrTb271nxBdu0jXkkZhniWCK0tl%2B1MoSYypBMpaAlGr6NryT4i/slwfED4yXfxpg%2BPnjzQb688Nx6C9joUmlrFBYiR5JUt5ZrGS6tHmZwZJIJo5GMMJDAwxlQBf2SPjV4g%2BMfhS%2Bm8a%2BPdJ1TXbA2p1LS7D4f6n4bn0zzoFkVZbbUriaaRW%2BYpOu2Nwp27tpNetVwfwe%2BA1h8Jta1zxdqHxE8R%2BLvEHiGOzh1PxB4oe0%2B0Pb2qyLb26rZ29vCqIZp34j3M0zlmbIx3lABRRRQB8pftb/ALYn7RP7Nvxh8OeBrHT/AAheWvjzxTY6B4Xtrvw5qaJYG%2Bmjs7a8n1JpktryVbt90ml26LcC33TCQJGzn2f9nP4n%2BNfiBZeLPDHxJGlyeIPBHjGfQdUvtEs5La0vcW1teQzxwyyzPDm3vIQyGWTDq%2BGIxXJ/Ff8AYL%2BHnxm8R/2x40%2BKnjp7G18Tf8JNoGgxarbfZdD14QmKLU7VntmnWSIs8iRSSyWyyOW8npj0X4OfB/Rfg14evtI07xBqms3ur6xcarrmu628Ju9SvJtoaWTyIoolwiRxqscaKqRIoXigDraKKKACvjf44ftnftb/AAo/aA074IR2nhWX%2B1bpp7y9sfhX4g1E6LZeYPK8iOO5jk18mOSISz2axx2su2OVd08YH2RXhsn7DOlJ4usfHOmftJfFCz1LQY76DwjPFq9hJ/YVreXEc91axiaycXcUhhgXbffaiiwx%2BWUZQ1AHpnwa8b2nxI%2BF2i%2BN7LxlpviBNQshI2saRpktlb3DglX2280ksluQwZWikdnRlZWwQQOmrmvhD8K/DfwV%2BHlh8N/CtxeT2ti08sl5qMwkuLu4nme4uLiVlVVMks0skjbVVdznaqjAHS0AFFFFABRRRQAUUUUAFFFFAGJ8SvG9j8M/hzr/AMSNTtZJ7bw/ol3qVxDEcNIkELSso9yEIFeY/szfGz4xeMvG2ofDX43x%2BG5NUTwLoHiuyuvC%2Bn3FtDFDqT30T2TrPPMZHgksj%2B/BQSrMv7qMqc%2Bv65ouleJNFvPDuu2Md1Y39rJbXltKMrNE6lXQ%2BxUkH61wPwF/Zm8MfAS6vdVsfG/iTxJqN5o2m6Mmp%2BJ7m3lnt9LsBP8AY7JDBBCCkZubht7h5naZjJI5xgA9IooooAK4H9qX4jeOPhF%2Bzp4z%2BJ3w00eC/wBf0Pw/cXmkWd1p813HLOi5UNDA6SSjP8CMrHoCK76srxz4VHjjwhqPhL/hI9V0g6hatCmq6He/Z7y0Y/dlhkwQrqcEZDKcYZWUkEA5L9m74oXfxS8G6he6v8QdM1/UtL1qSw1P%2Bz/BF/4dksJRFFILeew1Cea4il2SpKC5UPHNGyrtIZvQq4z4N/BXSvg7Dr10ni/WvEWr%2BKNaGq%2BIfEHiBrb7Ve3C20FpHlbWGGCNUgtoI1WOJBhNxy7MzdnQAUUUUAfPv7Xv7V3xO/Zf8ZRa4PCmhX/gq2%2BHHibxBfK00x1O6u9KsXvPJjIxFBFsVV3ESs5lPEQjzL1vwE%2BJvxb1T4i%2BLvgp8cZ/Dl5r/hnTdI1RdU8K6ZPZ2k1rqC3KrGYZ553Ekc1lcgv5mHQxnahyKr/Hz9j/AMO/tF%2BNtN8UeOPix4st9LsNKvdMn8JafHpf9nX9pexeTewzGaykuSJ4f3bFJkKrzGUb5q6H4K/ALSfgzc6xrUvj3xF4r1vXfsqal4h8VT2z3ckFtF5Vvb/6NBDGI4w0jD5NzPNIzMzMTQB3lFFFABXzP%2B0n%2B1J%2B0n8JfiN428J%2BEvC3hiax0zwdpOreFXXR7/VbxzPqsNlczXMFvJE0ioskrLbw/NiEOZT5hjj%2BmK8d8d/sh3Pjj4xX3xoi/ab%2BJOiX13o0emRafoM2kQW9pbxzCeNY2bT2nOJwJCJJXWTmOQPCzREA6f8AZ2%2BJUvxS%2BHh1698e6b4gvbbUriz1GfTfCV7oRtZ42wbeawvppbi3lUFcrIwJDKwUBhnu65D4N/BvRvgzo2qWVl4l1bXNQ13W5tX17XtdeA3eo3kiRxeY4t4ooU2xQwxKscaKEiXjOSevoAKKKKAPlD4iftWftW%2BDv2qfCf7LdnL8ObjUPH99fx219Z6Lf3UXguOGO5vLNdQP2uI38t7Y2N80aoLTZLav/rEwx90/Zq%2BKus/Gb4Oad448Tada2urLe6hpmsRWG77Ob2wvp7G4eIOSwiaW2kZAxJCsoJJGT59pv7AujaXfXWq237SHxF%2B2SeMLnxVY3zRaF9osNYn8xHu0l/svfMRazTWSx3BmjW1k8oJ8kRT1n4S/C/w18Gfh3pnw08JPdSWWmRMBc30wkuLqV3aWa4lcABpZZXeRyAAWdiABxQB0dFFFAEd01ylrI9lCkkwjJhjlkKKzY4BYAlQT3wceh6V8W%2BKP23P2tvBXxxf4P%2BK9Z8CLpWlaOLrxX478M/CjX9esNI1HyTLNozQ2l8JDJbx%2BTM92xRTHdR7oYSrZ%2B0NRtJb/AE%2Bexg1Ca0eaFo0urbb5kJIIDrvVl3DqNykZHII4rwjwb%2BwdP4B8AWXw28LftgfFq002wsp7SIQy6CjSxz5Ny82zSgLieVz5rXMoe4Em9llQyzeYAe4eG9WtNf8ADthrun6xaajBe2UU8GoWH%2BoukdAwlj%2BZvkYEMvzNwRyetXazPBPg7w78O/BmkfD/AMIaeLTSdC0y30/S7RXLCG2hjWONMsSThFUZJzxWnQAVleNz42HhHUR8N10o68bVhpJ1tpBaLORhWmEQ3sgPJVcFsY3LncNWsT4keBNP%2BJvgbU/Aep6vqenxalbGL%2B0NGvTb3dq%2BQySwyDO11YKwyCpIwwYEggHx54a/4KJftEa3c/FWeKx8IS6d8D9Ps9Z8VzXvg7U9Lvtf064ec%2BXFYXN55%2Bi3Ecdje4F0JzMDayrGscwNfb1fPf8Aw7m%2BGVz4l8QeMNb%2BLnjvUdT8b3Fq3xIubm705B4vgthCtta3iRWSJHDFHD5Si1W3ZkllDs5kYn6EoAKKKKAOW%2BM2qfEXRfh9e6v8MLjS4NRtds011q2jXmpJBaod87R2VkVnvJvLVhHBG6M7lQDn5W%2BYv2VP28vjP8ZviKmmfFrX/C/hjRn8QrpGkIvwx1kDXZMSqP8AiYvem20y5keMj7BcK88Mge3fdKjV9QfFb4aRfFPw1DoS%2BNNd8O3VpqMF9p%2BteHLqOK6tZ4m3KQJo5IZVI3K0csciMrEFc4I808H/ALCPgvwjeWEb/Gbx/qukWviv/hKb3w5q%2Bp2ctlqOum6kvG1CTbarLExu3%2B0GC3khtvMRSIR8wYA9xooooAKKKKACiiigAooooAKKKKACiiigAooooAKKKKACiiigAooooAKKKKACiiigAooooAKKKKACiiigAooooAKKKKACiiigAooooAKKKKACiiigAooooAKKKKACiiigAooooAKKKKACiiigAooooAKKKKACiiigAooooAKKKKACiiigAooooAKKKKACiiigAooooAKKKKACiiigAooooAKKKKACiiigAooooAKKKKACiiigAooooAKKKKACiiigAooooAKKKKACiiigAooooAKKKKACiiigAooooAKKKKACiiigAooooAKKKKACiiigAooooA//2Q%3D%3D\">"
            ]
          },
          "metadata": {
            "tags": []
          }
        }
      ]
    },
    {
      "metadata": {
        "id": "z1jqN8BnHXS2",
        "colab_type": "text"
      },
      "cell_type": "markdown",
      "source": [
        "# Submit the MLP with 2 hidden layers\n",
        "Run these cells after training the MLP with 2 hidden layers"
      ]
    },
    {
      "metadata": {
        "id": "RjARh17IHXS6",
        "colab_type": "code",
        "colab": {}
      },
      "cell_type": "code",
      "source": [
        "## GRADED PART, DO NOT CHANGE!\n",
        "# Validation loss for MLP\n",
        "grader.set_answer(\"i8bgs\", s.run(loss, {input_X: X_val_flat, input_y: y_val_oh}))\n",
        "# Validation accuracy for MLP\n",
        "grader.set_answer(\"rE763\", accuracy_score(y_val, s.run(classes, {input_X: X_val_flat})))"
      ],
      "execution_count": 0,
      "outputs": []
    },
    {
      "metadata": {
        "id": "NCBJhhPTHXS_",
        "colab_type": "code",
        "colab": {
          "base_uri": "https://localhost:8080/",
          "height": 34
        },
        "outputId": "b879c0c8-b51b-49b4-ad00-f28e6f182eaa"
      },
      "cell_type": "code",
      "source": [
        "# you can make submission with answers so far to check yourself at this stage\n",
        "grader.submit(COURSERA_EMAIL, COURSERA_TOKEN)"
      ],
      "execution_count": 19,
      "outputs": [
        {
          "output_type": "stream",
          "text": [
            "Submitted to Coursera platform. See results on assignment page!\n"
          ],
          "name": "stdout"
        }
      ]
    },
    {
      "metadata": {
        "id": "fhYkuf1pHXTG",
        "colab_type": "code",
        "colab": {}
      },
      "cell_type": "code",
      "source": [
        ""
      ],
      "execution_count": 0,
      "outputs": []
    }
  ]
}